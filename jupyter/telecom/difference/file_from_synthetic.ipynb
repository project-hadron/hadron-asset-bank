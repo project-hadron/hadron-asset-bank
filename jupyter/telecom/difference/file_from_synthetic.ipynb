{
 "cells": [
  {
   "cell_type": "markdown",
   "id": "0a7802de-7fd2-486e-8f5d-48763e09ee3e",
   "metadata": {},
   "source": [
    "## Synthetic data builder"
   ]
  },
  {
   "cell_type": "code",
   "execution_count": 1,
   "id": "545e6164-91ab-4737-851e-f546bfecb2d5",
   "metadata": {},
   "outputs": [],
   "source": [
    "# saves you having to use print as all exposed variables are printed in the cell\n",
    "from IPython.core.interactiveshell import InteractiveShell\n",
    "InteractiveShell.ast_node_interactivity = \"all\"\n",
    "\n",
    "# core libraries\n",
    "import numpy as np\n",
    "import pandas as pd\n",
    "import matplotlib.pyplot as plt\n",
    "\n",
    "# matpolitlib config\n",
    "%matplotlib inline\n",
    "plt.style.use('ggplot')\n",
    "\n",
    "# Pandas setup\n",
    "pd.set_option('max_colwidth', 200)\n",
    "pd.set_option('display.max_rows', 500)\n",
    "pd.set_option('display.max_columns', 99)\n",
    "pd.set_option('expand_frame_repr', True)"
   ]
  },
  {
   "cell_type": "code",
   "execution_count": 2,
   "id": "64e3466b-df43-4682-a919-10354c5e2933",
   "metadata": {},
   "outputs": [],
   "source": [
    "from ds_discovery import SyntheticBuilder"
   ]
  },
  {
   "cell_type": "code",
   "execution_count": 3,
   "id": "7368e340-f5b3-4475-a1ba-1e393c2478e5",
   "metadata": {},
   "outputs": [],
   "source": [
    "sb = SyntheticBuilder.from_memory()"
   ]
  },
  {
   "cell_type": "markdown",
   "id": "5c8dfc1f-2baf-49c3-a2e3-c0249fc5b9d2",
   "metadata": {},
   "source": [
    "### Mapping"
   ]
  },
  {
   "cell_type": "code",
   "execution_count": 4,
   "id": "0422b984-7ee9-489d-9b33-c1794524c01d",
   "metadata": {},
   "outputs": [],
   "source": [
    "headers = list('ABCDE')\n",
    "replace = ['target', 'num1', 'num2', 'str1', 'str2']\n",
    "df_mapping = pd.DataFrame({'origin': headers, 'other': replace})\n",
    "\n",
    "sb.add_connector_uri('mapping', 'source/mapping.csv')\n",
    "sb.save_canonical('mapping', df_mapping)"
   ]
  },
  {
   "cell_type": "markdown",
   "id": "8e6d2156-f579-4849-a93b-0594365cb0b8",
   "metadata": {},
   "source": [
    "### Difference"
   ]
  },
  {
   "cell_type": "code",
   "execution_count": 5,
   "id": "bc52547f-af0d-458f-87c0-1102b6457fe5",
   "metadata": {},
   "outputs": [],
   "source": [
    "df_origin = pd.DataFrame(data={\"A\": list(\"ABCDEFG\"), \"B\": [1, 2, 5, 5, 3, 3, 1], 'C': [0,  2, 3, 3, 3, 2, 1], \"D\": ['B', 'C', 'A', 'A', 'F', 'E', 'G'],  'E': ['L', 'L',   'M', 'N', 'J', 'K', 'M']})\n",
    "df_other  = pd.DataFrame(data={\"A\": list(\"ABCDEFG\"), \"B\": [1, 2, 5, 5, 3, 3, 1], 'C': [27, 2, 3, 4, 3, 2, 0], \"D\": ['B', 'C', 'A', 'B', 'F', 'E', 'GG'], 'E': ['L', 'DXL', 'M', 'N', 'J', 'K', 'P']})\n",
    "\n",
    "sb.add_connector_uri('origin', 'source/origin_sample.csv')\n",
    "sb.add_connector_uri('other', 'source/other_sample.csv')\n",
    "\n",
    "sb.save_canonical('origin', df_origin)\n",
    "sb.save_canonical('other', df_other)"
   ]
  }
 ],
 "metadata": {
  "kernelspec": {
   "display_name": "Python 3 (ipykernel)",
   "language": "python",
   "name": "python3"
  },
  "language_info": {
   "codemirror_mode": {
    "name": "ipython",
    "version": 3
   },
   "file_extension": ".py",
   "mimetype": "text/x-python",
   "name": "python",
   "nbconvert_exporter": "python",
   "pygments_lexer": "ipython3",
   "version": "3.10.8"
  }
 },
 "nbformat": 4,
 "nbformat_minor": 5
}
