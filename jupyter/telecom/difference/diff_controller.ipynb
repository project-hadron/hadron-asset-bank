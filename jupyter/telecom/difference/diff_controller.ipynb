{
 "cells": [
  {
   "cell_type": "markdown",
   "metadata": {},
   "source": [
    "Darryl Oatridge, April 2023"
   ]
  },
  {
   "cell_type": "markdown",
   "metadata": {
    "tags": []
   },
   "source": [
    "### Environment"
   ]
  },
  {
   "cell_type": "code",
   "execution_count": 1,
   "metadata": {},
   "outputs": [],
   "source": [
    "import os"
   ]
  },
  {
   "cell_type": "code",
   "execution_count": 2,
   "metadata": {},
   "outputs": [],
   "source": [
    "# clean out any old environments\n",
    "for key in os.environ.keys():\n",
    "    if key.startswith('HADRON'):\n",
    "        del os.environ[key]"
   ]
  },
  {
   "cell_type": "code",
   "execution_count": 3,
   "metadata": {},
   "outputs": [],
   "source": [
    "os.environ['HADRON_PM_PATH'] = './hadron/contracts'\n",
    "os.environ['HADRON_PM_TYPE'] = 'json'\n",
    "\n",
    "os.environ['HADRON_DEFAULT_PATH'] = './hadron/data'"
   ]
  },
  {
   "cell_type": "code",
   "execution_count": 4,
   "metadata": {},
   "outputs": [],
   "source": [
    "# Origin difference\n",
    "os.environ['HADRON_CLEANER_ORIGIN_SOURCE_URI'] = '../services/source/hadron_synth_origin.pq'\n",
    "os.environ['HADRON_CLEANER_ORIGIN_HEADER_URI'] = '../services/source/mapping.csv'\n",
    "\n",
    "# Other difference\n",
    "os.environ['HADRON_CLEANER_OTHER_SOURCE_URI'] = '../services/source/hadron_synth_other.pq'\n",
    "os.environ['HADRON_CLEANER_OTHER_HEADER_URI'] = '../services/source/mapping.csv'\n",
    "\n",
    "# difference on key\n",
    "os.environ['HADRON_DIFFERENCE_ON_KEY'] = 'identifier'"
   ]
  },
  {
   "cell_type": "markdown",
   "metadata": {},
   "source": [
    "## Controller"
   ]
  },
  {
   "cell_type": "code",
   "execution_count": 5,
   "metadata": {},
   "outputs": [],
   "source": [
    "from ds_discovery import Controller"
   ]
  },
  {
   "cell_type": "code",
   "execution_count": 6,
   "metadata": {},
   "outputs": [],
   "source": [
    "controller = Controller.from_env(has_contract=False)"
   ]
  },
  {
   "cell_type": "markdown",
   "metadata": {},
   "source": [
    "### Add Components"
   ]
  },
  {
   "cell_type": "code",
   "execution_count": 7,
   "metadata": {},
   "outputs": [],
   "source": [
    "controller.intent_model.transition(canonical=0, task_name='align_origin_task', intent_level='cleaning_origin')\n",
    "controller.intent_model.transition(canonical=0, task_name='align_other_task', intent_level='cleaning_other')"
   ]
  },
  {
   "cell_type": "code",
   "execution_count": 8,
   "metadata": {},
   "outputs": [],
   "source": [
    "controller.intent_model.wrangle(canonical=0, task_name='difference_task', intent_level='difference_report')"
   ]
  },
  {
   "cell_type": "code",
   "execution_count": 9,
   "metadata": {},
   "outputs": [],
   "source": [
    "controller.intent_model.wrangle(canonical=0, task_name='profiling_task', intent_level='data_profiling')"
   ]
  },
  {
   "cell_type": "markdown",
   "metadata": {},
   "source": [
    "### Report"
   ]
  },
  {
   "cell_type": "code",
   "execution_count": 10,
   "metadata": {},
   "outputs": [
    {
     "data": {
      "text/html": [
       "<style type=\"text/css\">\n",
       "#T_2552a th {\n",
       "  font-size: 120%;\n",
       "  text-align: center;\n",
       "}\n",
       "#T_2552a .row_heading {\n",
       "  display: none;;\n",
       "}\n",
       "#T_2552a  .blank {\n",
       "  display: none;;\n",
       "}\n",
       "#T_2552a_row0_col0, #T_2552a_row1_col0, #T_2552a_row2_col0, #T_2552a_row3_col0 {\n",
       "  text-align: left;\n",
       "  font-weight: bold;\n",
       "  font-size: 120%;\n",
       "}\n",
       "#T_2552a_row0_col1, #T_2552a_row0_col2, #T_2552a_row0_col3, #T_2552a_row0_col4, #T_2552a_row0_col5, #T_2552a_row1_col1, #T_2552a_row1_col2, #T_2552a_row1_col3, #T_2552a_row1_col4, #T_2552a_row1_col5, #T_2552a_row2_col1, #T_2552a_row2_col2, #T_2552a_row2_col3, #T_2552a_row2_col4, #T_2552a_row2_col5, #T_2552a_row3_col1, #T_2552a_row3_col2, #T_2552a_row3_col3, #T_2552a_row3_col4, #T_2552a_row3_col5 {\n",
       "  text-align: left;\n",
       "}\n",
       "</style>\n",
       "<table id=\"T_2552a\">\n",
       "  <thead>\n",
       "    <tr>\n",
       "      <th class=\"blank level0\" >&nbsp;</th>\n",
       "      <th id=\"T_2552a_level0_col0\" class=\"col_heading level0 col0\" >level</th>\n",
       "      <th id=\"T_2552a_level0_col1\" class=\"col_heading level0 col1\" >order</th>\n",
       "      <th id=\"T_2552a_level0_col2\" class=\"col_heading level0 col2\" >component</th>\n",
       "      <th id=\"T_2552a_level0_col3\" class=\"col_heading level0 col3\" >task</th>\n",
       "      <th id=\"T_2552a_level0_col4\" class=\"col_heading level0 col4\" >parameters</th>\n",
       "      <th id=\"T_2552a_level0_col5\" class=\"col_heading level0 col5\" >creator</th>\n",
       "    </tr>\n",
       "  </thead>\n",
       "  <tbody>\n",
       "    <tr>\n",
       "      <th id=\"T_2552a_level0_row0\" class=\"row_heading level0 row0\" >0</th>\n",
       "      <td id=\"T_2552a_row0_col0\" class=\"data row0 col0\" >cleaning_origin</td>\n",
       "      <td id=\"T_2552a_row0_col1\" class=\"data row0 col1\" >0</td>\n",
       "      <td id=\"T_2552a_row0_col2\" class=\"data row0 col2\" >Transition</td>\n",
       "      <td id=\"T_2552a_row0_col3\" class=\"data row0 col3\" >'align_origin_task'</td>\n",
       "      <td id=\"T_2552a_row0_col4\" class=\"data row0 col4\" >[]</td>\n",
       "      <td id=\"T_2552a_row0_col5\" class=\"data row0 col5\" >doatridge</td>\n",
       "    </tr>\n",
       "    <tr>\n",
       "      <th id=\"T_2552a_level0_row1\" class=\"row_heading level0 row1\" >1</th>\n",
       "      <td id=\"T_2552a_row1_col0\" class=\"data row1 col0\" >cleaning_other</td>\n",
       "      <td id=\"T_2552a_row1_col1\" class=\"data row1 col1\" >0</td>\n",
       "      <td id=\"T_2552a_row1_col2\" class=\"data row1 col2\" >Transition</td>\n",
       "      <td id=\"T_2552a_row1_col3\" class=\"data row1 col3\" >'align_other_task'</td>\n",
       "      <td id=\"T_2552a_row1_col4\" class=\"data row1 col4\" >[]</td>\n",
       "      <td id=\"T_2552a_row1_col5\" class=\"data row1 col5\" >doatridge</td>\n",
       "    </tr>\n",
       "    <tr>\n",
       "      <th id=\"T_2552a_level0_row2\" class=\"row_heading level0 row2\" >2</th>\n",
       "      <td id=\"T_2552a_row2_col0\" class=\"data row2 col0\" >data_profiling</td>\n",
       "      <td id=\"T_2552a_row2_col1\" class=\"data row2 col1\" >0</td>\n",
       "      <td id=\"T_2552a_row2_col2\" class=\"data row2 col2\" >Wrangle</td>\n",
       "      <td id=\"T_2552a_row2_col3\" class=\"data row2 col3\" >'profiling_task'</td>\n",
       "      <td id=\"T_2552a_row2_col4\" class=\"data row2 col4\" >[]</td>\n",
       "      <td id=\"T_2552a_row2_col5\" class=\"data row2 col5\" >doatridge</td>\n",
       "    </tr>\n",
       "    <tr>\n",
       "      <th id=\"T_2552a_level0_row3\" class=\"row_heading level0 row3\" >3</th>\n",
       "      <td id=\"T_2552a_row3_col0\" class=\"data row3 col0\" >difference_report</td>\n",
       "      <td id=\"T_2552a_row3_col1\" class=\"data row3 col1\" >0</td>\n",
       "      <td id=\"T_2552a_row3_col2\" class=\"data row3 col2\" >Wrangle</td>\n",
       "      <td id=\"T_2552a_row3_col3\" class=\"data row3 col3\" >'difference_task'</td>\n",
       "      <td id=\"T_2552a_row3_col4\" class=\"data row3 col4\" >[]</td>\n",
       "      <td id=\"T_2552a_row3_col5\" class=\"data row3 col5\" >doatridge</td>\n",
       "    </tr>\n",
       "  </tbody>\n",
       "</table>\n"
      ],
      "text/plain": [
       "<pandas.io.formats.style.Styler at 0x7fe28daa7e80>"
      ]
     },
     "execution_count": 10,
     "metadata": {},
     "output_type": "execute_result"
    }
   ],
   "source": [
    "controller.report_tasks()"
   ]
  },
  {
   "cell_type": "code",
   "execution_count": 11,
   "metadata": {},
   "outputs": [],
   "source": [
    "run_book = [\n",
    "    controller.runbook2dict(task='cleaning_other', persist=True, end_source=True),\n",
    "    controller.runbook2dict(task='cleaning_origin', source='@'),\n",
    "    controller.runbook2dict(task='difference_report'),\n",
    "]\n",
    "controller.add_run_book(run_levels=run_book)"
   ]
  },
  {
   "cell_type": "code",
   "execution_count": 12,
   "metadata": {},
   "outputs": [],
   "source": [
    "run_book = [\n",
    "    controller.runbook2dict(task='data_profiling'),\n",
    "]\n",
    "controller.add_run_book(run_levels=run_book, book_name='profiling')"
   ]
  },
  {
   "cell_type": "code",
   "execution_count": 13,
   "metadata": {},
   "outputs": [
    {
     "data": {
      "text/html": [
       "<style type=\"text/css\">\n",
       "#T_ea742 th {\n",
       "  font-size: 120%;\n",
       "  text-align: center;\n",
       "}\n",
       "#T_ea742 .row_heading {\n",
       "  display: none;;\n",
       "}\n",
       "#T_ea742  .blank {\n",
       "  display: none;;\n",
       "}\n",
       "#T_ea742_row0_col0, #T_ea742_row1_col0, #T_ea742_row2_col0, #T_ea742_row3_col0 {\n",
       "  text-align: left;\n",
       "  font-weight: bold;\n",
       "  font-size: 120%;\n",
       "}\n",
       "#T_ea742_row0_col1, #T_ea742_row0_col2, #T_ea742_row0_col3, #T_ea742_row0_col4, #T_ea742_row1_col1, #T_ea742_row1_col2, #T_ea742_row1_col3, #T_ea742_row1_col4, #T_ea742_row2_col1, #T_ea742_row2_col2, #T_ea742_row2_col3, #T_ea742_row2_col4, #T_ea742_row3_col1, #T_ea742_row3_col2, #T_ea742_row3_col3, #T_ea742_row3_col4 {\n",
       "  text-align: left;\n",
       "}\n",
       "</style>\n",
       "<table id=\"T_ea742\">\n",
       "  <thead>\n",
       "    <tr>\n",
       "      <th class=\"blank level0\" >&nbsp;</th>\n",
       "      <th id=\"T_ea742_level0_col0\" class=\"col_heading level0 col0\" >name</th>\n",
       "      <th id=\"T_ea742_level0_col1\" class=\"col_heading level0 col1\" >task</th>\n",
       "      <th id=\"T_ea742_level0_col2\" class=\"col_heading level0 col2\" >persist</th>\n",
       "      <th id=\"T_ea742_level0_col3\" class=\"col_heading level0 col3\" >end_source</th>\n",
       "      <th id=\"T_ea742_level0_col4\" class=\"col_heading level0 col4\" >source</th>\n",
       "    </tr>\n",
       "  </thead>\n",
       "  <tbody>\n",
       "    <tr>\n",
       "      <th id=\"T_ea742_level0_row0\" class=\"row_heading level0 row0\" >0</th>\n",
       "      <td id=\"T_ea742_row0_col0\" class=\"data row0 col0\" >primary_run_book</td>\n",
       "      <td id=\"T_ea742_row0_col1\" class=\"data row0 col1\" >cleaning_other</td>\n",
       "      <td id=\"T_ea742_row0_col2\" class=\"data row0 col2\" >True</td>\n",
       "      <td id=\"T_ea742_row0_col3\" class=\"data row0 col3\" >True</td>\n",
       "      <td id=\"T_ea742_row0_col4\" class=\"data row0 col4\" ></td>\n",
       "    </tr>\n",
       "    <tr>\n",
       "      <th id=\"T_ea742_level0_row1\" class=\"row_heading level0 row1\" >1</th>\n",
       "      <td id=\"T_ea742_row1_col0\" class=\"data row1 col0\" ></td>\n",
       "      <td id=\"T_ea742_row1_col1\" class=\"data row1 col1\" >cleaning_origin</td>\n",
       "      <td id=\"T_ea742_row1_col2\" class=\"data row1 col2\" ></td>\n",
       "      <td id=\"T_ea742_row1_col3\" class=\"data row1 col3\" ></td>\n",
       "      <td id=\"T_ea742_row1_col4\" class=\"data row1 col4\" >@</td>\n",
       "    </tr>\n",
       "    <tr>\n",
       "      <th id=\"T_ea742_level0_row2\" class=\"row_heading level0 row2\" >2</th>\n",
       "      <td id=\"T_ea742_row2_col0\" class=\"data row2 col0\" ></td>\n",
       "      <td id=\"T_ea742_row2_col1\" class=\"data row2 col1\" >difference_report</td>\n",
       "      <td id=\"T_ea742_row2_col2\" class=\"data row2 col2\" ></td>\n",
       "      <td id=\"T_ea742_row2_col3\" class=\"data row2 col3\" ></td>\n",
       "      <td id=\"T_ea742_row2_col4\" class=\"data row2 col4\" ></td>\n",
       "    </tr>\n",
       "    <tr>\n",
       "      <th id=\"T_ea742_level0_row3\" class=\"row_heading level0 row3\" >3</th>\n",
       "      <td id=\"T_ea742_row3_col0\" class=\"data row3 col0\" >profiling</td>\n",
       "      <td id=\"T_ea742_row3_col1\" class=\"data row3 col1\" >data_profiling</td>\n",
       "      <td id=\"T_ea742_row3_col2\" class=\"data row3 col2\" ></td>\n",
       "      <td id=\"T_ea742_row3_col3\" class=\"data row3 col3\" ></td>\n",
       "      <td id=\"T_ea742_row3_col4\" class=\"data row3 col4\" ></td>\n",
       "    </tr>\n",
       "  </tbody>\n",
       "</table>\n"
      ],
      "text/plain": [
       "<pandas.io.formats.style.Styler at 0x7fe28dc54430>"
      ]
     },
     "execution_count": 13,
     "metadata": {},
     "output_type": "execute_result"
    }
   ],
   "source": [
    "controller.report_run_book()"
   ]
  },
  {
   "cell_type": "markdown",
   "metadata": {},
   "source": [
    "### Run Controller Pipeline "
   ]
  },
  {
   "cell_type": "code",
   "execution_count": 14,
   "metadata": {},
   "outputs": [
    {
     "data": {
      "text/html": [
       "<div>\n",
       "<style scoped>\n",
       "    .dataframe tbody tr th:only-of-type {\n",
       "        vertical-align: middle;\n",
       "    }\n",
       "\n",
       "    .dataframe tbody tr th {\n",
       "        vertical-align: top;\n",
       "    }\n",
       "\n",
       "    .dataframe thead th {\n",
       "        text-align: right;\n",
       "    }\n",
       "</style>\n",
       "<table border=\"1\" class=\"dataframe\">\n",
       "  <thead>\n",
       "    <tr style=\"text-align: right;\">\n",
       "      <th></th>\n",
       "      <th>time</th>\n",
       "      <th>text</th>\n",
       "    </tr>\n",
       "  </thead>\n",
       "  <tbody>\n",
       "    <tr>\n",
       "      <th>0</th>\n",
       "      <td>2023-05-08 17:56:18.246726</td>\n",
       "      <td>start run-cycle 0</td>\n",
       "    </tr>\n",
       "    <tr>\n",
       "      <th>1</th>\n",
       "      <td>2023-05-08 17:56:18.252798</td>\n",
       "      <td>start task cycle 0</td>\n",
       "    </tr>\n",
       "    <tr>\n",
       "      <th>2</th>\n",
       "      <td>2023-05-08 17:56:18.257574</td>\n",
       "      <td>running cleaning_other</td>\n",
       "    </tr>\n",
       "    <tr>\n",
       "      <th>3</th>\n",
       "      <td>2023-05-08 17:56:18.606587</td>\n",
       "      <td>canonical shape is (15, 8)</td>\n",
       "    </tr>\n",
       "    <tr>\n",
       "      <th>4</th>\n",
       "      <td>2023-05-08 17:56:18.608000</td>\n",
       "      <td>running cleaning_origin</td>\n",
       "    </tr>\n",
       "    <tr>\n",
       "      <th>5</th>\n",
       "      <td>2023-05-08 17:56:18.854499</td>\n",
       "      <td>canonical shape is (12, 10)</td>\n",
       "    </tr>\n",
       "    <tr>\n",
       "      <th>6</th>\n",
       "      <td>2023-05-08 17:56:18.858698</td>\n",
       "      <td>running difference_report</td>\n",
       "    </tr>\n",
       "    <tr>\n",
       "      <th>7</th>\n",
       "      <td>2023-05-08 17:56:18.935273</td>\n",
       "      <td>canonical shape is (7, 4)</td>\n",
       "    </tr>\n",
       "    <tr>\n",
       "      <th>8</th>\n",
       "      <td>2023-05-08 17:56:18.936782</td>\n",
       "      <td>tasks complete</td>\n",
       "    </tr>\n",
       "    <tr>\n",
       "      <th>9</th>\n",
       "      <td>2023-05-08 17:56:18.938245</td>\n",
       "      <td>end of report</td>\n",
       "    </tr>\n",
       "  </tbody>\n",
       "</table>\n",
       "</div>"
      ],
      "text/plain": [
       "                         time                         text\n",
       "0  2023-05-08 17:56:18.246726            start run-cycle 0\n",
       "1  2023-05-08 17:56:18.252798           start task cycle 0\n",
       "2  2023-05-08 17:56:18.257574       running cleaning_other\n",
       "3  2023-05-08 17:56:18.606587   canonical shape is (15, 8)\n",
       "4  2023-05-08 17:56:18.608000      running cleaning_origin\n",
       "5  2023-05-08 17:56:18.854499  canonical shape is (12, 10)\n",
       "6  2023-05-08 17:56:18.858698    running difference_report\n",
       "7  2023-05-08 17:56:18.935273    canonical shape is (7, 4)\n",
       "8  2023-05-08 17:56:18.936782               tasks complete\n",
       "9  2023-05-08 17:56:18.938245                end of report"
      ]
     },
     "execution_count": 14,
     "metadata": {},
     "output_type": "execute_result"
    }
   ],
   "source": [
    "controller.run_controller(run_cycle_report='hadron_controller_diff_report.csv')\n",
    "controller.load_canonical(connector_name='run_cycle_report')"
   ]
  },
  {
   "cell_type": "markdown",
   "metadata": {},
   "source": [
    "#### data profiling"
   ]
  },
  {
   "cell_type": "code",
   "execution_count": 15,
   "metadata": {},
   "outputs": [],
   "source": [
    "# data profiling source\n",
    "os.environ['HADRON_PROFILING_SOURCE_URI'] = '../services/source/hadron_synth_origin.pq'"
   ]
  },
  {
   "cell_type": "code",
   "execution_count": 16,
   "metadata": {},
   "outputs": [
    {
     "data": {
      "text/html": [
       "<div>\n",
       "<style scoped>\n",
       "    .dataframe tbody tr th:only-of-type {\n",
       "        vertical-align: middle;\n",
       "    }\n",
       "\n",
       "    .dataframe tbody tr th {\n",
       "        vertical-align: top;\n",
       "    }\n",
       "\n",
       "    .dataframe thead th {\n",
       "        text-align: right;\n",
       "    }\n",
       "</style>\n",
       "<table border=\"1\" class=\"dataframe\">\n",
       "  <thead>\n",
       "    <tr style=\"text-align: right;\">\n",
       "      <th></th>\n",
       "      <th>time</th>\n",
       "      <th>text</th>\n",
       "    </tr>\n",
       "  </thead>\n",
       "  <tbody>\n",
       "    <tr>\n",
       "      <th>0</th>\n",
       "      <td>2023-05-08 17:56:18.973933</td>\n",
       "      <td>start run-cycle 0</td>\n",
       "    </tr>\n",
       "    <tr>\n",
       "      <th>1</th>\n",
       "      <td>2023-05-08 17:56:18.975318</td>\n",
       "      <td>start task cycle 0</td>\n",
       "    </tr>\n",
       "    <tr>\n",
       "      <th>2</th>\n",
       "      <td>2023-05-08 17:56:18.977801</td>\n",
       "      <td>running data_profiling</td>\n",
       "    </tr>\n",
       "    <tr>\n",
       "      <th>3</th>\n",
       "      <td>2023-05-08 17:56:19.957892</td>\n",
       "      <td>canonical shape is (12, 10)</td>\n",
       "    </tr>\n",
       "    <tr>\n",
       "      <th>4</th>\n",
       "      <td>2023-05-08 17:56:19.959574</td>\n",
       "      <td>tasks complete</td>\n",
       "    </tr>\n",
       "    <tr>\n",
       "      <th>5</th>\n",
       "      <td>2023-05-08 17:56:19.960931</td>\n",
       "      <td>end of report</td>\n",
       "    </tr>\n",
       "  </tbody>\n",
       "</table>\n",
       "</div>"
      ],
      "text/plain": [
       "                         time                         text\n",
       "0  2023-05-08 17:56:18.973933            start run-cycle 0\n",
       "1  2023-05-08 17:56:18.975318           start task cycle 0\n",
       "2  2023-05-08 17:56:18.977801       running data_profiling\n",
       "3  2023-05-08 17:56:19.957892  canonical shape is (12, 10)\n",
       "4  2023-05-08 17:56:19.959574               tasks complete\n",
       "5  2023-05-08 17:56:19.960931                end of report"
      ]
     },
     "execution_count": 16,
     "metadata": {},
     "output_type": "execute_result"
    }
   ],
   "source": [
    "controller.run_controller(run_book='profiling', run_cycle_report='hadron_controller_profiling_report.csv')\n",
    "controller.load_canonical(connector_name='run_cycle_report')"
   ]
  },
  {
   "cell_type": "code",
   "execution_count": 17,
   "metadata": {},
   "outputs": [],
   "source": [
    "# data profiling source\n",
    "os.environ['HADRON_PROFILING_SOURCE_URI'] = '../services/source/hadron_synth_other.pq'"
   ]
  },
  {
   "cell_type": "code",
   "execution_count": 18,
   "metadata": {},
   "outputs": [
    {
     "data": {
      "text/html": [
       "<div>\n",
       "<style scoped>\n",
       "    .dataframe tbody tr th:only-of-type {\n",
       "        vertical-align: middle;\n",
       "    }\n",
       "\n",
       "    .dataframe tbody tr th {\n",
       "        vertical-align: top;\n",
       "    }\n",
       "\n",
       "    .dataframe thead th {\n",
       "        text-align: right;\n",
       "    }\n",
       "</style>\n",
       "<table border=\"1\" class=\"dataframe\">\n",
       "  <thead>\n",
       "    <tr style=\"text-align: right;\">\n",
       "      <th></th>\n",
       "      <th>time</th>\n",
       "      <th>text</th>\n",
       "    </tr>\n",
       "  </thead>\n",
       "  <tbody>\n",
       "    <tr>\n",
       "      <th>0</th>\n",
       "      <td>2023-05-08 17:56:19.995034</td>\n",
       "      <td>start run-cycle 0</td>\n",
       "    </tr>\n",
       "    <tr>\n",
       "      <th>1</th>\n",
       "      <td>2023-05-08 17:56:19.996700</td>\n",
       "      <td>start task cycle 0</td>\n",
       "    </tr>\n",
       "    <tr>\n",
       "      <th>2</th>\n",
       "      <td>2023-05-08 17:56:19.998758</td>\n",
       "      <td>running data_profiling</td>\n",
       "    </tr>\n",
       "    <tr>\n",
       "      <th>3</th>\n",
       "      <td>2023-05-08 17:56:20.953589</td>\n",
       "      <td>canonical shape is (15, 8)</td>\n",
       "    </tr>\n",
       "    <tr>\n",
       "      <th>4</th>\n",
       "      <td>2023-05-08 17:56:20.956386</td>\n",
       "      <td>tasks complete</td>\n",
       "    </tr>\n",
       "    <tr>\n",
       "      <th>5</th>\n",
       "      <td>2023-05-08 17:56:20.958115</td>\n",
       "      <td>end of report</td>\n",
       "    </tr>\n",
       "  </tbody>\n",
       "</table>\n",
       "</div>"
      ],
      "text/plain": [
       "                         time                        text\n",
       "0  2023-05-08 17:56:19.995034           start run-cycle 0\n",
       "1  2023-05-08 17:56:19.996700          start task cycle 0\n",
       "2  2023-05-08 17:56:19.998758      running data_profiling\n",
       "3  2023-05-08 17:56:20.953589  canonical shape is (15, 8)\n",
       "4  2023-05-08 17:56:20.956386              tasks complete\n",
       "5  2023-05-08 17:56:20.958115               end of report"
      ]
     },
     "execution_count": 18,
     "metadata": {},
     "output_type": "execute_result"
    }
   ],
   "source": [
    "controller.run_controller(run_book='profiling', run_cycle_report='hadron_controller_profiling_report.csv')\n",
    "controller.load_canonical(connector_name='run_cycle_report')"
   ]
  }
 ],
 "metadata": {
  "kernelspec": {
   "display_name": "Python 3 (ipykernel)",
   "language": "python",
   "name": "python3"
  },
  "language_info": {
   "codemirror_mode": {
    "name": "ipython",
    "version": 3
   },
   "file_extension": ".py",
   "mimetype": "text/x-python",
   "name": "python",
   "nbconvert_exporter": "python",
   "pygments_lexer": "ipython3",
   "version": "3.10.8"
  }
 },
 "nbformat": 4,
 "nbformat_minor": 4
}
