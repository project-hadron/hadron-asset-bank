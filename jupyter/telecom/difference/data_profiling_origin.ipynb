{
 "cells": [
  {
   "cell_type": "code",
   "execution_count": 1,
   "id": "67c31741-5039-45ec-9a41-f9460e4f79a4",
   "metadata": {},
   "outputs": [],
   "source": [
    "# saves you having to use print as all exposed variables are printed in the cell\n",
    "from IPython.core.interactiveshell import InteractiveShell\n",
    "InteractiveShell.ast_node_interactivity = \"all\"\n",
    "\n",
    "# core libraries\n",
    "import numpy as np\n",
    "import pandas as pd\n",
    "import matplotlib.pyplot as plt\n",
    "\n",
    "# matpolitlib config\n",
    "%matplotlib inline\n",
    "plt.style.use('ggplot')\n",
    "\n",
    "# Pandas setup\n",
    "pd.set_option('max_colwidth', 200)\n",
    "pd.set_option('display.max_rows', 500)\n",
    "pd.set_option('display.max_columns', 99)\n",
    "pd.set_option('expand_frame_repr', True)\n",
    "\n",
    "%config Completer.use_jedi = False"
   ]
  },
  {
   "cell_type": "markdown",
   "id": "38a94243-621c-4f8e-84ff-6b2bcfd95c47",
   "metadata": {
    "tags": []
   },
   "source": [
    "### Environment"
   ]
  },
  {
   "cell_type": "code",
   "execution_count": 2,
   "id": "958cf274-563e-42ed-a99b-37a446ca3945",
   "metadata": {},
   "outputs": [],
   "source": [
    "import os"
   ]
  },
  {
   "cell_type": "code",
   "execution_count": 3,
   "id": "2e7133d1-4fb2-4703-9c02-4ee084ec66e7",
   "metadata": {},
   "outputs": [],
   "source": [
    "os.environ['HADRON_DEFAULT_PATH'] = 'hadron/data'"
   ]
  },
  {
   "cell_type": "code",
   "execution_count": 4,
   "id": "158a17bc-f6f7-4ae7-9c1e-33a96a66d665",
   "metadata": {},
   "outputs": [],
   "source": []
  },
  {
   "cell_type": "markdown",
   "id": "420ad2d2-b8c0-4037-aa51-410ce89f4670",
   "metadata": {},
   "source": [
    "### Create the Component Instance"
   ]
  },
  {
   "cell_type": "code",
   "execution_count": 5,
   "id": "b3f61751-e94a-4920-90a8-672e9065ce55",
   "metadata": {},
   "outputs": [],
   "source": [
    "from ds_discovery import Wrangle, Transition"
   ]
  },
  {
   "cell_type": "code",
   "execution_count": 6,
   "id": "e316eddd-e057-4384-93c1-5ebfbb601ed9",
   "metadata": {},
   "outputs": [],
   "source": [
    "# create instance\n",
    "wr = Wrangle.from_env('profiling_origin', has_contract=False)"
   ]
  },
  {
   "cell_type": "code",
   "execution_count": 7,
   "id": "90380bfc-8b3a-4b6a-a239-b7169f117f8f",
   "metadata": {},
   "outputs": [],
   "source": [
    "# setup using the environment variable\n",
    "wr.setup_bootstrap('Telecoms', description='Produce data profiling for validation and insight')\n",
    "wr.set_source_contract(Transition.from_env('align_origin').get_persist_contract(), template_aligned=True)\n",
    "file = wr.pm.file_pattern(name='persist', file_type='parquet')\n",
    "wr.set_persist(file)"
   ]
  },
  {
   "cell_type": "markdown",
   "id": "6606b175-473d-4b89-a40e-373df45d0249",
   "metadata": {},
   "source": [
    "### Add the URI to the Target"
   ]
  },
  {
   "cell_type": "code",
   "execution_count": 8,
   "id": "23d811f3-239b-446f-a8a6-98e1360768ee",
   "metadata": {},
   "outputs": [],
   "source": [
    "# add quality\n",
    "quality = wr.pm.file_pattern(name='quality', prefix='hadron_profiling_origin_', file_type='csv', stamped='hours')\n",
    "wr.add_connector_persist('quality', quality)\n",
    "# add quality\n",
    "dictionary = wr.pm.file_pattern(name='dictionary', prefix='hadron_profiling_origin_', file_type='csv', stamped='hours')\n",
    "wr.add_connector_persist('dictionary', dictionary)\n",
    "# add quality\n",
    "schema = wr.pm.file_pattern(name='schema', prefix='hadron_profiling_origin_', file_type='csv', stamped='hours')\n",
    "wr.add_connector_persist('schema', schema)"
   ]
  },
  {
   "cell_type": "code",
   "execution_count": 9,
   "id": "ab04a81a-527c-4c2c-a1cf-a9a0380631ad",
   "metadata": {},
   "outputs": [],
   "source": [
    "# load the files to see if there are observable differences\n",
    "df = wr.load_source_canonical()"
   ]
  },
  {
   "cell_type": "markdown",
   "id": "0e588397-5629-4d55-a685-aada0e668b47",
   "metadata": {},
   "source": [
    "### Create Component Intent Actions"
   ]
  },
  {
   "cell_type": "code",
   "execution_count": 10,
   "id": "f861fde5-c74f-4a9b-afa0-14882ed0f169",
   "metadata": {},
   "outputs": [],
   "source": [
    "df = wr.tools.model_profiling(df, profiling='quality', connector_name='quality', column_name='quality')\n",
    "df = wr.tools.model_profiling(df, profiling='dictionary', connector_name='dictionary', column_name='dictionary')\n",
    "df = wr.tools.model_profiling(df, profiling='schema', connector_name='schema', column_name='schema')"
   ]
  },
  {
   "cell_type": "markdown",
   "id": "edbd92b9-83f9-452f-a3d4-0d5d4395e6b6",
   "metadata": {},
   "source": [
    "### Run the Task"
   ]
  },
  {
   "cell_type": "code",
   "execution_count": 11,
   "id": "ab5d8488-b517-4976-b80e-c04b6462317c",
   "metadata": {},
   "outputs": [],
   "source": [
    "# run the component task\n",
    "wr.run_component_pipeline()"
   ]
  },
  {
   "cell_type": "code",
   "execution_count": null,
   "id": "33572cd2-25d1-4f49-99d2-b26d445ebc8a",
   "metadata": {},
   "outputs": [],
   "source": []
  }
 ],
 "metadata": {
  "kernelspec": {
   "display_name": "Python 3 (ipykernel)",
   "language": "python",
   "name": "python3"
  },
  "language_info": {
   "codemirror_mode": {
    "name": "ipython",
    "version": 3
   },
   "file_extension": ".py",
   "mimetype": "text/x-python",
   "name": "python",
   "nbconvert_exporter": "python",
   "pygments_lexer": "ipython3",
   "version": "3.10.8"
  }
 },
 "nbformat": 4,
 "nbformat_minor": 5
}
