{
 "cells": [
  {
   "cell_type": "code",
   "execution_count": 1,
   "id": "67c31741-5039-45ec-9a41-f9460e4f79a4",
   "metadata": {},
   "outputs": [],
   "source": [
    "# saves you having to use print as all exposed variables are printed in the cell\n",
    "from IPython.core.interactiveshell import InteractiveShell\n",
    "InteractiveShell.ast_node_interactivity = \"all\"\n",
    "\n",
    "# core libraries\n",
    "import numpy as np\n",
    "import pandas as pd\n",
    "import matplotlib.pyplot as plt\n",
    "\n",
    "# matpolitlib config\n",
    "%matplotlib inline\n",
    "plt.style.use('ggplot')\n",
    "\n",
    "# Pandas setup\n",
    "pd.set_option('max_colwidth', 200)\n",
    "pd.set_option('display.max_rows', 500)\n",
    "pd.set_option('display.max_columns', 99)\n",
    "pd.set_option('expand_frame_repr', True)"
   ]
  },
  {
   "cell_type": "markdown",
   "id": "ad3696d3-b1a2-40d4-a341-456ceaa1ef8e",
   "metadata": {},
   "source": [
    "---------------------------------"
   ]
  },
  {
   "cell_type": "markdown",
   "id": "99cc64c8-3d18-49ce-ba7c-b6fe73e6e64f",
   "metadata": {
    "tags": []
   },
   "source": [
    "----------------------\n",
    "## Environment Variables"
   ]
  },
  {
   "cell_type": "code",
   "execution_count": 2,
   "id": "38afeaac-1622-497f-8754-23eecceae54c",
   "metadata": {},
   "outputs": [],
   "source": [
    "import os"
   ]
  },
  {
   "cell_type": "code",
   "execution_count": 3,
   "id": "2558af85-b033-4d49-93da-91e855db62d8",
   "metadata": {},
   "outputs": [],
   "source": [
    "# clean out any old environments\n",
    "for key in os.environ.keys():\n",
    "    if key.startswith('HADRON'):\n",
    "        del os.environ[key]"
   ]
  },
  {
   "cell_type": "code",
   "execution_count": 4,
   "id": "19123223-b07b-4afd-892b-69d8d2919b3a",
   "metadata": {},
   "outputs": [],
   "source": [
    "os.environ['HADRON_PM_PATH'] = './hadron/contracts'\n",
    "os.environ['HADRON_PM_TYPE'] = 'json'\n",
    "\n",
    "os.environ['HADRON_DEFAULT_PATH'] = './hadron/data'"
   ]
  },
  {
   "cell_type": "code",
   "execution_count": 5,
   "id": "deeea631-e471-444d-822e-eba245fb16e9",
   "metadata": {},
   "outputs": [],
   "source": [
    "# Origin\n",
    "os.environ['HADRON_CLEANER_ORIGIN_SOURCE_URI'] = '../services/source/hadron_synth_origin.pq'\n",
    "os.environ['HADRON_CLEANER_ORIGIN_HEADER_URI'] = '../services/source/mapping.csv'\n",
    "\n",
    "# Other\n",
    "os.environ['HADRON_CLEANER_OTHER_SOURCE_URI'] = '../services/source/hadron_synth_other.pq'\n",
    "os.environ['HADRON_CLEANER_OTHER_HEADER_URI'] = '../services/source/mapping.csv'\n",
    "\n",
    "# difference on key\n",
    "os.environ['HADRON_DIFFERENCE_ON_KEY'] = 'identifier'"
   ]
  },
  {
   "cell_type": "markdown",
   "id": "5f197de4-ec02-4a2f-aaea-afb8085262f9",
   "metadata": {},
   "source": [
    "---------------------------------"
   ]
  },
  {
   "cell_type": "markdown",
   "id": "420ad2d2-b8c0-4037-aa51-410ce89f4670",
   "metadata": {
    "tags": []
   },
   "source": [
    "----------------------------\n",
    "## Create the Cleaner Other Component Instance"
   ]
  },
  {
   "cell_type": "code",
   "execution_count": 6,
   "id": "b3f61751-e94a-4920-90a8-672e9065ce55",
   "metadata": {},
   "outputs": [],
   "source": [
    "from ds_discovery import Transition"
   ]
  },
  {
   "cell_type": "code",
   "execution_count": 7,
   "id": "e316eddd-e057-4384-93c1-5ebfbb601ed9",
   "metadata": {},
   "outputs": [],
   "source": [
    "# create instance\n",
    "tr = Transition.from_env('align_other_task', has_contract=False)"
   ]
  },
  {
   "cell_type": "code",
   "execution_count": 8,
   "id": "90380bfc-8b3a-4b6a-a239-b7169f117f8f",
   "metadata": {},
   "outputs": [],
   "source": [
    "# setup using the environment variable\n",
    "tr.setup_bootstrap('Telecoms', description='Aligns the headers and reinstate nulls')\n",
    "tr.set_source_uri('${HADRON_CLEANER_OTHER_SOURCE_URI}')\n",
    "file = tr.pm.file_pattern(name='cleaned', file_type='parquet')\n",
    "tr.set_persist(file)"
   ]
  },
  {
   "cell_type": "markdown",
   "id": "6606b175-473d-4b89-a40e-373df45d0249",
   "metadata": {},
   "source": [
    "### add the URI to be mapped"
   ]
  },
  {
   "cell_type": "code",
   "execution_count": 9,
   "id": "23d811f3-239b-446f-a8a6-98e1360768ee",
   "metadata": {},
   "outputs": [],
   "source": [
    "# add target source\n",
    "tr.add_connector_uri('header_map', '${HADRON_CLEANER_OTHER_HEADER_URI}')"
   ]
  },
  {
   "cell_type": "code",
   "execution_count": 10,
   "id": "ab04a81a-527c-4c2c-a1cf-a9a0380631ad",
   "metadata": {},
   "outputs": [],
   "source": [
    "# load the files\n",
    "df = tr.load_source_canonical()"
   ]
  },
  {
   "cell_type": "markdown",
   "id": "0e588397-5629-4d55-a685-aada0e668b47",
   "metadata": {},
   "source": [
    "### create component intent actions"
   ]
  },
  {
   "cell_type": "code",
   "execution_count": 11,
   "id": "f861fde5-c74f-4a9b-afa0-14882ed0f169",
   "metadata": {},
   "outputs": [],
   "source": [
    "# run the method that calculates differences\n",
    "df = tr.tools.auto_clean_header(df, rename_map='header_map')\n",
    "df = tr.tools.auto_reinstate_nulls(df)\n",
    "df = tr.tools.auto_to_date(df)"
   ]
  },
  {
   "cell_type": "code",
   "execution_count": 12,
   "id": "f95cae08-305d-4f16-b09b-a8e9fac6d009",
   "metadata": {},
   "outputs": [
    {
     "data": {
      "text/html": [
       "<div>\n",
       "<style scoped>\n",
       "    .dataframe tbody tr th:only-of-type {\n",
       "        vertical-align: middle;\n",
       "    }\n",
       "\n",
       "    .dataframe tbody tr th {\n",
       "        vertical-align: top;\n",
       "    }\n",
       "\n",
       "    .dataframe thead th {\n",
       "        text-align: right;\n",
       "    }\n",
       "</style>\n",
       "<table border=\"1\" class=\"dataframe\">\n",
       "  <thead>\n",
       "    <tr style=\"text-align: right;\">\n",
       "      <th></th>\n",
       "      <th>identifier</th>\n",
       "      <th>date</th>\n",
       "      <th>bool</th>\n",
       "      <th>float</th>\n",
       "      <th>poly</th>\n",
       "      <th>cat</th>\n",
       "      <th>int</th>\n",
       "      <th>str</th>\n",
       "    </tr>\n",
       "  </thead>\n",
       "  <tbody>\n",
       "    <tr>\n",
       "      <th>0</th>\n",
       "      <td>67</td>\n",
       "      <td>2023-03-16</td>\n",
       "      <td>1</td>\n",
       "      <td>5.409</td>\n",
       "      <td>30.304900</td>\n",
       "      <td>ACTIVE</td>\n",
       "      <td>485</td>\n",
       "      <td>Lelah</td>\n",
       "    </tr>\n",
       "    <tr>\n",
       "      <th>1</th>\n",
       "      <td>219</td>\n",
       "      <td>2022-12-09</td>\n",
       "      <td>1</td>\n",
       "      <td>3.913</td>\n",
       "      <td>21.311569</td>\n",
       "      <td>ACTIVE</td>\n",
       "      <td>-14</td>\n",
       "      <td>Foxholes</td>\n",
       "    </tr>\n",
       "    <tr>\n",
       "      <th>2</th>\n",
       "      <td>246</td>\n",
       "      <td>2023-02-20</td>\n",
       "      <td>1</td>\n",
       "      <td>4.819</td>\n",
       "      <td>29.222761</td>\n",
       "      <td>ACTIVE</td>\n",
       "      <td>96</td>\n",
       "      <td>Swaffham</td>\n",
       "    </tr>\n",
       "    <tr>\n",
       "      <th>3</th>\n",
       "      <td>252</td>\n",
       "      <td>2023-01-26</td>\n",
       "      <td>1</td>\n",
       "      <td>4.703</td>\n",
       "      <td>28.118209</td>\n",
       "      <td>ACTIVE</td>\n",
       "      <td>806</td>\n",
       "      <td>Tam</td>\n",
       "    </tr>\n",
       "    <tr>\n",
       "      <th>4</th>\n",
       "      <td>46</td>\n",
       "      <td>2023-03-18</td>\n",
       "      <td>1</td>\n",
       "      <td>1.004</td>\n",
       "      <td>7.008016</td>\n",
       "      <td>ACTIVE</td>\n",
       "      <td>92</td>\n",
       "      <td>Melksham</td>\n",
       "    </tr>\n",
       "    <tr>\n",
       "      <th>5</th>\n",
       "      <td>294</td>\n",
       "      <td>2023-02-19</td>\n",
       "      <td>1</td>\n",
       "      <td>4.816</td>\n",
       "      <td>29.193856</td>\n",
       "      <td>ACTIVE</td>\n",
       "      <td>-865</td>\n",
       "      <td>Dormansland</td>\n",
       "    </tr>\n",
       "    <tr>\n",
       "      <th>6</th>\n",
       "      <td>19</td>\n",
       "      <td>2022-12-06</td>\n",
       "      <td>1</td>\n",
       "      <td>2.214</td>\n",
       "      <td>10.901796</td>\n",
       "      <td>ACTIVE</td>\n",
       "      <td>2229</td>\n",
       "      <td>Norton Malreward</td>\n",
       "    </tr>\n",
       "    <tr>\n",
       "      <th>7</th>\n",
       "      <td>52</td>\n",
       "      <td>2023-02-19</td>\n",
       "      <td>1</td>\n",
       "      <td>4.254</td>\n",
       "      <td>24.096516</td>\n",
       "      <td>ACTIVE</td>\n",
       "      <td>768</td>\n",
       "      <td>Painted Valley</td>\n",
       "    </tr>\n",
       "    <tr>\n",
       "      <th>8</th>\n",
       "      <td>267</td>\n",
       "      <td>2023-03-19</td>\n",
       "      <td>1</td>\n",
       "      <td>3.258</td>\n",
       "      <td>16.614564</td>\n",
       "      <td>INACTIVE</td>\n",
       "      <td>145</td>\n",
       "      <td>Emerald Ridge</td>\n",
       "    </tr>\n",
       "    <tr>\n",
       "      <th>9</th>\n",
       "      <td>58</td>\n",
       "      <td>2023-03-21</td>\n",
       "      <td>1</td>\n",
       "      <td>0.011</td>\n",
       "      <td>30.571849</td>\n",
       "      <td>INACTIVE</td>\n",
       "      <td>-929</td>\n",
       "      <td>Havana</td>\n",
       "    </tr>\n",
       "    <tr>\n",
       "      <th>10</th>\n",
       "      <td>16</td>\n",
       "      <td>2022-12-05</td>\n",
       "      <td>1</td>\n",
       "      <td>3.895</td>\n",
       "      <td>21.171025</td>\n",
       "      <td>ACTIVE</td>\n",
       "      <td>8</td>\n",
       "      <td>Ryden</td>\n",
       "    </tr>\n",
       "    <tr>\n",
       "      <th>11</th>\n",
       "      <td>97</td>\n",
       "      <td>2022-12-18</td>\n",
       "      <td>1</td>\n",
       "      <td>3.396</td>\n",
       "      <td>17.532816</td>\n",
       "      <td>INACTIVE</td>\n",
       "      <td>791</td>\n",
       "      <td>Lendall</td>\n",
       "    </tr>\n",
       "    <tr>\n",
       "      <th>12</th>\n",
       "      <td>94</td>\n",
       "      <td>2023-02-10</td>\n",
       "      <td>1</td>\n",
       "      <td>6.824</td>\n",
       "      <td>19.293316</td>\n",
       "      <td>ACTIVE</td>\n",
       "      <td>-792</td>\n",
       "      <td>Mannheim</td>\n",
       "    </tr>\n",
       "    <tr>\n",
       "      <th>13</th>\n",
       "      <td>64</td>\n",
       "      <td>2022-12-29</td>\n",
       "      <td>1</td>\n",
       "      <td>7.777</td>\n",
       "      <td>26.884900</td>\n",
       "      <td>ACTIVE</td>\n",
       "      <td>-905</td>\n",
       "      <td>Darsham</td>\n",
       "    </tr>\n",
       "    <tr>\n",
       "      <th>14</th>\n",
       "      <td>13</td>\n",
       "      <td>2023-02-23</td>\n",
       "      <td>1</td>\n",
       "      <td>6.072</td>\n",
       "      <td>29.357889</td>\n",
       "      <td>ACTIVE</td>\n",
       "      <td>-703</td>\n",
       "      <td>Indian Hill</td>\n",
       "    </tr>\n",
       "  </tbody>\n",
       "</table>\n",
       "</div>"
      ],
      "text/plain": [
       "    identifier       date  bool  float       poly       cat   int   \n",
       "0           67 2023-03-16     1  5.409  30.304900    ACTIVE   485  \\\n",
       "1          219 2022-12-09     1  3.913  21.311569    ACTIVE   -14   \n",
       "2          246 2023-02-20     1  4.819  29.222761    ACTIVE    96   \n",
       "3          252 2023-01-26     1  4.703  28.118209    ACTIVE   806   \n",
       "4           46 2023-03-18     1  1.004   7.008016    ACTIVE    92   \n",
       "5          294 2023-02-19     1  4.816  29.193856    ACTIVE  -865   \n",
       "6           19 2022-12-06     1  2.214  10.901796    ACTIVE  2229   \n",
       "7           52 2023-02-19     1  4.254  24.096516    ACTIVE   768   \n",
       "8          267 2023-03-19     1  3.258  16.614564  INACTIVE   145   \n",
       "9           58 2023-03-21     1  0.011  30.571849  INACTIVE  -929   \n",
       "10          16 2022-12-05     1  3.895  21.171025    ACTIVE     8   \n",
       "11          97 2022-12-18     1  3.396  17.532816  INACTIVE   791   \n",
       "12          94 2023-02-10     1  6.824  19.293316    ACTIVE  -792   \n",
       "13          64 2022-12-29     1  7.777  26.884900    ACTIVE  -905   \n",
       "14          13 2023-02-23     1  6.072  29.357889    ACTIVE  -703   \n",
       "\n",
       "                 str  \n",
       "0              Lelah  \n",
       "1           Foxholes  \n",
       "2           Swaffham  \n",
       "3                Tam  \n",
       "4           Melksham  \n",
       "5        Dormansland  \n",
       "6   Norton Malreward  \n",
       "7     Painted Valley  \n",
       "8      Emerald Ridge  \n",
       "9             Havana  \n",
       "10             Ryden  \n",
       "11           Lendall  \n",
       "12          Mannheim  \n",
       "13           Darsham  \n",
       "14       Indian Hill  "
      ]
     },
     "execution_count": 12,
     "metadata": {},
     "output_type": "execute_result"
    }
   ],
   "source": [
    "df"
   ]
  },
  {
   "cell_type": "markdown",
   "id": "c70e1e33-e8d4-45b0-b82d-701ca9e570b5",
   "metadata": {},
   "source": [
    "### run the task"
   ]
  },
  {
   "cell_type": "code",
   "execution_count": 13,
   "id": "08ae34b1-8343-4e81-9330-055f9b606919",
   "metadata": {},
   "outputs": [],
   "source": [
    "# run the component task\n",
    "tr.run_component_pipeline()"
   ]
  },
  {
   "cell_type": "markdown",
   "id": "a1d5fea5-e892-4caa-b709-c7b647efa5e4",
   "metadata": {
    "tags": []
   },
   "source": [
    "----------------------------\n",
    "## Create the Cleaner Origin Component Instance"
   ]
  },
  {
   "cell_type": "code",
   "execution_count": 14,
   "id": "0911844e-6a7f-4e05-96bd-9ca915c85fff",
   "metadata": {},
   "outputs": [],
   "source": [
    "# create instance\n",
    "tr = Transition.from_env('align_origin_task', has_contract=False)"
   ]
  },
  {
   "cell_type": "code",
   "execution_count": 15,
   "id": "2db10dad-9b43-4472-9316-3dddef691f44",
   "metadata": {},
   "outputs": [],
   "source": [
    "# setup using the environment variable\n",
    "tr.setup_bootstrap('Telecoms', description='Aligns the headers and reinstate nulls')\n",
    "tr.set_source_uri('${HADRON_CLEANER_ORIGIN_SOURCE_URI}')\n",
    "file = tr.pm.file_pattern(name='cleaned', file_type='parquet')\n",
    "tr.set_persist(file)"
   ]
  },
  {
   "cell_type": "markdown",
   "id": "5187c1e9-7fb6-4c95-9a11-bf316b9f762c",
   "metadata": {},
   "source": [
    "### add the URI to be mapped"
   ]
  },
  {
   "cell_type": "code",
   "execution_count": 16,
   "id": "18933cc6-205b-47f5-add2-b7bcf11d706e",
   "metadata": {},
   "outputs": [],
   "source": [
    "# add target source\n",
    "tr.add_connector_uri('header_map', '${HADRON_CLEANER_ORIGIN_HEADER_URI}')"
   ]
  },
  {
   "cell_type": "code",
   "execution_count": 17,
   "id": "4c63af08-a4fb-49e8-897e-336e9fb13d76",
   "metadata": {},
   "outputs": [],
   "source": [
    "# load the files\n",
    "df = tr.load_source_canonical()"
   ]
  },
  {
   "cell_type": "markdown",
   "id": "209cab2c-acbd-4927-a0d3-8efd812b1b1d",
   "metadata": {},
   "source": [
    "### create component intent actions"
   ]
  },
  {
   "cell_type": "code",
   "execution_count": 18,
   "id": "6df46260-7185-40ab-8818-90ac753fb8c3",
   "metadata": {},
   "outputs": [],
   "source": [
    "# run the method that calculates differences\n",
    "df = tr.tools.auto_clean_header(df, rename_map='header_map')\n",
    "df = tr.tools.auto_reinstate_nulls(df)\n",
    "df = tr.tools.auto_to_date(df)"
   ]
  },
  {
   "cell_type": "markdown",
   "id": "b1a0d5fe-56d7-4462-8337-3629f7e33db6",
   "metadata": {},
   "source": [
    "### run the task"
   ]
  },
  {
   "cell_type": "code",
   "execution_count": 19,
   "id": "d062504d-ef5b-41b7-8a76-3c24135bd1e5",
   "metadata": {},
   "outputs": [],
   "source": [
    "# run the component task\n",
    "tr.run_component_pipeline()"
   ]
  },
  {
   "cell_type": "markdown",
   "id": "b7f164ad-a8b5-443d-8d29-77afbf9630f9",
   "metadata": {},
   "source": [
    "---------------------------------"
   ]
  },
  {
   "cell_type": "markdown",
   "id": "e1da47b1-65d2-4a9b-be49-8da1cba0f5d8",
   "metadata": {
    "tags": []
   },
   "source": [
    "--------------------\n",
    "## Create the Difference Component Instance"
   ]
  },
  {
   "cell_type": "code",
   "execution_count": 20,
   "id": "588a04dd-473f-4ea0-abdc-2fd8cf0f8f3d",
   "metadata": {},
   "outputs": [],
   "source": [
    "from ds_discovery import Wrangle"
   ]
  },
  {
   "cell_type": "code",
   "execution_count": 21,
   "id": "d7902f77-9b68-407d-b55f-93e5fd28e7d2",
   "metadata": {},
   "outputs": [],
   "source": [
    "# create instance\n",
    "wr = Wrangle.from_env('difference_task', has_contract=False)"
   ]
  },
  {
   "cell_type": "code",
   "execution_count": 22,
   "id": "3745bc88-e17d-4f12-8ae7-8fc1adfad873",
   "metadata": {},
   "outputs": [],
   "source": [
    "# setup using the environment variable\n",
    "wr.setup_bootstrap('Telecoms', description='Compare two sources and identify if there are differences')\n",
    "wr.set_source_contract(Transition.from_env('align_origin_task').get_persist_contract(), template_aligned=True)\n",
    "\n",
    "out = wr.pm.file_pattern(name='flagged', prefix='hadron_difference_', file_type='csv', stamped='hours')\n",
    "wr.set_persist(uri_file=out)"
   ]
  },
  {
   "cell_type": "markdown",
   "id": "6cba92d1-f875-4a40-8cb9-be0d10dda3ad",
   "metadata": {},
   "source": [
    "### add the URI to be compared with the source"
   ]
  },
  {
   "cell_type": "code",
   "execution_count": 23,
   "id": "350c219d-cfe0-4719-bdf1-22760ff17830",
   "metadata": {},
   "outputs": [],
   "source": [
    "# add target source\n",
    "wr.add_connector_contract('align_other', Transition.from_env('align_other_task').get_persist_contract(), template_aligned=True)"
   ]
  },
  {
   "cell_type": "code",
   "execution_count": 24,
   "id": "8f3d1cc2-0f6b-4de6-92c6-3813b77caba2",
   "metadata": {},
   "outputs": [],
   "source": [
    "# add summary connector\n",
    "out = wr.pm.file_pattern(name='summary', prefix='hadron_difference_', file_type='csv', stamped='hours')\n",
    "wr.add_connector_persist('summary', out)\n",
    "\n",
    "# add detail connector\n",
    "out = wr.pm.file_pattern(name='detail', prefix='hadron_difference_', file_type='csv', stamped='hours')\n",
    "wr.add_connector_persist('detail', out)\n",
    "\n",
    "# add unmatched connector\n",
    "out = wr.pm.file_pattern(name='unmatched', prefix='hadron_difference_', file_type='csv', stamped='hours')\n",
    "wr.add_connector_persist('unmatched', out)"
   ]
  },
  {
   "cell_type": "code",
   "execution_count": 25,
   "id": "f41a10c3-3272-4a80-9b9f-ca201ee65e30",
   "metadata": {},
   "outputs": [],
   "source": [
    "# load the files to see if there are observable differences\n",
    "df = wr.load_source_canonical()\n",
    "other = wr.load_canonical('align_other')"
   ]
  },
  {
   "cell_type": "markdown",
   "id": "c6fcdb1a-1fae-421d-8b1d-d5f8437b7d6e",
   "metadata": {},
   "source": [
    "### create component intent actions"
   ]
  },
  {
   "cell_type": "code",
   "execution_count": 26,
   "id": "5f6360f8-de86-4ff8-903f-9c6c0adbe20f",
   "metadata": {},
   "outputs": [],
   "source": [
    "# run the method that calculates differences\n",
    "df = wr.tools.model_difference(df, other='align_other', on_key='${HADRON_DIFFERENCE_ON_KEY}', drop_zero_sum=True, column_name='difference', \n",
    "                               summary_connector='summary', unmatched_connector='unmatched', detail_connector='detail')"
   ]
  },
  {
   "cell_type": "markdown",
   "id": "1763510d-9f2f-491b-8ab9-9939439a9a35",
   "metadata": {},
   "source": [
    "### run the task"
   ]
  },
  {
   "cell_type": "code",
   "execution_count": 27,
   "id": "5eb9ab14-7147-43e3-ae88-e33a8f40b72a",
   "metadata": {},
   "outputs": [],
   "source": [
    "# run the component task\n",
    "wr.run_component_pipeline()"
   ]
  },
  {
   "cell_type": "markdown",
   "id": "bafe63cb-bf15-4dc3-aa2b-c34ec6e9d7dc",
   "metadata": {},
   "source": [
    "---------------------------------"
   ]
  },
  {
   "cell_type": "markdown",
   "id": "e1690258-ced7-4185-8284-c1162d10b2c7",
   "metadata": {},
   "source": [
    "## Show The Result"
   ]
  },
  {
   "cell_type": "code",
   "execution_count": 28,
   "id": "afbb4770-b774-4f23-b5ff-3ba8e058a2a3",
   "metadata": {},
   "outputs": [
    {
     "data": {
      "text/html": [
       "<div>\n",
       "<style scoped>\n",
       "    .dataframe tbody tr th:only-of-type {\n",
       "        vertical-align: middle;\n",
       "    }\n",
       "\n",
       "    .dataframe tbody tr th {\n",
       "        vertical-align: top;\n",
       "    }\n",
       "\n",
       "    .dataframe thead th {\n",
       "        text-align: right;\n",
       "    }\n",
       "</style>\n",
       "<table border=\"1\" class=\"dataframe\">\n",
       "  <thead>\n",
       "    <tr style=\"text-align: right;\">\n",
       "      <th></th>\n",
       "      <th>identifier</th>\n",
       "      <th>float</th>\n",
       "      <th>int</th>\n",
       "    </tr>\n",
       "  </thead>\n",
       "  <tbody>\n",
       "    <tr>\n",
       "      <th>0</th>\n",
       "      <td>13</td>\n",
       "      <td>1</td>\n",
       "      <td>0</td>\n",
       "    </tr>\n",
       "    <tr>\n",
       "      <th>1</th>\n",
       "      <td>19</td>\n",
       "      <td>0</td>\n",
       "      <td>1</td>\n",
       "    </tr>\n",
       "    <tr>\n",
       "      <th>2</th>\n",
       "      <td>52</td>\n",
       "      <td>0</td>\n",
       "      <td>1</td>\n",
       "    </tr>\n",
       "    <tr>\n",
       "      <th>3</th>\n",
       "      <td>58</td>\n",
       "      <td>1</td>\n",
       "      <td>0</td>\n",
       "    </tr>\n",
       "    <tr>\n",
       "      <th>4</th>\n",
       "      <td>64</td>\n",
       "      <td>1</td>\n",
       "      <td>0</td>\n",
       "    </tr>\n",
       "    <tr>\n",
       "      <th>5</th>\n",
       "      <td>67</td>\n",
       "      <td>1</td>\n",
       "      <td>0</td>\n",
       "    </tr>\n",
       "    <tr>\n",
       "      <th>6</th>\n",
       "      <td>94</td>\n",
       "      <td>1</td>\n",
       "      <td>0</td>\n",
       "    </tr>\n",
       "  </tbody>\n",
       "</table>\n",
       "</div>"
      ],
      "text/plain": [
       "   identifier  float  int\n",
       "0          13      1    0\n",
       "1          19      0    1\n",
       "2          52      0    1\n",
       "3          58      1    0\n",
       "4          64      1    0\n",
       "5          67      1    0\n",
       "6          94      1    0"
      ]
     },
     "execution_count": 28,
     "metadata": {},
     "output_type": "execute_result"
    }
   ],
   "source": [
    "wr.load_persist_canonical()"
   ]
  },
  {
   "cell_type": "code",
   "execution_count": 29,
   "id": "171ba022-cd8c-4d8e-aee1-d306b313d189",
   "metadata": {},
   "outputs": [
    {
     "data": {
      "text/html": [
       "<div>\n",
       "<style scoped>\n",
       "    .dataframe tbody tr th:only-of-type {\n",
       "        vertical-align: middle;\n",
       "    }\n",
       "\n",
       "    .dataframe tbody tr th {\n",
       "        vertical-align: top;\n",
       "    }\n",
       "\n",
       "    .dataframe thead th {\n",
       "        text-align: right;\n",
       "    }\n",
       "</style>\n",
       "<table border=\"1\" class=\"dataframe\">\n",
       "  <thead>\n",
       "    <tr style=\"text-align: right;\">\n",
       "      <th></th>\n",
       "      <th>identifier</th>\n",
       "      <th>float_x</th>\n",
       "      <th>float_y</th>\n",
       "      <th>int_x</th>\n",
       "      <th>int_y</th>\n",
       "    </tr>\n",
       "  </thead>\n",
       "  <tbody>\n",
       "    <tr>\n",
       "      <th>0</th>\n",
       "      <td>13</td>\n",
       "      <td>4.833</td>\n",
       "      <td>6.072</td>\n",
       "      <td>-</td>\n",
       "      <td>-</td>\n",
       "    </tr>\n",
       "    <tr>\n",
       "      <th>1</th>\n",
       "      <td>19</td>\n",
       "      <td>-</td>\n",
       "      <td>-</td>\n",
       "      <td>61</td>\n",
       "      <td>2229</td>\n",
       "    </tr>\n",
       "    <tr>\n",
       "      <th>2</th>\n",
       "      <td>52</td>\n",
       "      <td>-</td>\n",
       "      <td>-</td>\n",
       "      <td>187</td>\n",
       "      <td>768</td>\n",
       "    </tr>\n",
       "    <tr>\n",
       "      <th>3</th>\n",
       "      <td>58</td>\n",
       "      <td>4.957</td>\n",
       "      <td>0.011</td>\n",
       "      <td>-</td>\n",
       "      <td>-</td>\n",
       "    </tr>\n",
       "    <tr>\n",
       "      <th>4</th>\n",
       "      <td>64</td>\n",
       "      <td>4.57</td>\n",
       "      <td>7.777</td>\n",
       "      <td>-</td>\n",
       "      <td>-</td>\n",
       "    </tr>\n",
       "    <tr>\n",
       "      <th>5</th>\n",
       "      <td>67</td>\n",
       "      <td>4.93</td>\n",
       "      <td>5.409</td>\n",
       "      <td>-</td>\n",
       "      <td>-</td>\n",
       "    </tr>\n",
       "    <tr>\n",
       "      <th>6</th>\n",
       "      <td>94</td>\n",
       "      <td>3.646</td>\n",
       "      <td>6.824</td>\n",
       "      <td>-</td>\n",
       "      <td>-</td>\n",
       "    </tr>\n",
       "  </tbody>\n",
       "</table>\n",
       "</div>"
      ],
      "text/plain": [
       "   identifier float_x float_y int_x int_y\n",
       "0          13   4.833   6.072     -     -\n",
       "1          19       -       -    61  2229\n",
       "2          52       -       -   187   768\n",
       "3          58   4.957   0.011     -     -\n",
       "4          64    4.57   7.777     -     -\n",
       "5          67    4.93   5.409     -     -\n",
       "6          94   3.646   6.824     -     -"
      ]
     },
     "execution_count": 29,
     "metadata": {},
     "output_type": "execute_result"
    }
   ],
   "source": [
    "wr.load_canonical('detail')"
   ]
  },
  {
   "cell_type": "code",
   "execution_count": 30,
   "id": "86d3a2b2-cba0-4a3b-9917-d3f61713ada6",
   "metadata": {},
   "outputs": [
    {
     "data": {
      "text/html": [
       "<div>\n",
       "<style scoped>\n",
       "    .dataframe tbody tr th:only-of-type {\n",
       "        vertical-align: middle;\n",
       "    }\n",
       "\n",
       "    .dataframe tbody tr th {\n",
       "        vertical-align: top;\n",
       "    }\n",
       "\n",
       "    .dataframe thead th {\n",
       "        text-align: right;\n",
       "    }\n",
       "</style>\n",
       "<table border=\"1\" class=\"dataframe\">\n",
       "  <thead>\n",
       "    <tr style=\"text-align: right;\">\n",
       "      <th></th>\n",
       "      <th>Attribute</th>\n",
       "      <th>Summary</th>\n",
       "    </tr>\n",
       "  </thead>\n",
       "  <tbody>\n",
       "    <tr>\n",
       "      <th>0</th>\n",
       "      <td>matching</td>\n",
       "      <td>10</td>\n",
       "    </tr>\n",
       "    <tr>\n",
       "      <th>1</th>\n",
       "      <td>right_only</td>\n",
       "      <td>5</td>\n",
       "    </tr>\n",
       "    <tr>\n",
       "      <th>2</th>\n",
       "      <td>left_only</td>\n",
       "      <td>2</td>\n",
       "    </tr>\n",
       "    <tr>\n",
       "      <th>3</th>\n",
       "      <td>float</td>\n",
       "      <td>5</td>\n",
       "    </tr>\n",
       "    <tr>\n",
       "      <th>4</th>\n",
       "      <td>int</td>\n",
       "      <td>2</td>\n",
       "    </tr>\n",
       "  </tbody>\n",
       "</table>\n",
       "</div>"
      ],
      "text/plain": [
       "    Attribute  Summary\n",
       "0    matching       10\n",
       "1  right_only        5\n",
       "2   left_only        2\n",
       "3       float        5\n",
       "4         int        2"
      ]
     },
     "execution_count": 30,
     "metadata": {},
     "output_type": "execute_result"
    }
   ],
   "source": [
    "wr.load_canonical('summary')"
   ]
  },
  {
   "cell_type": "code",
   "execution_count": 31,
   "id": "a820de67-2a42-4e93-93d2-18cb51266ad1",
   "metadata": {},
   "outputs": [
    {
     "data": {
      "text/html": [
       "<div>\n",
       "<style scoped>\n",
       "    .dataframe tbody tr th:only-of-type {\n",
       "        vertical-align: middle;\n",
       "    }\n",
       "\n",
       "    .dataframe tbody tr th {\n",
       "        vertical-align: top;\n",
       "    }\n",
       "\n",
       "    .dataframe thead th {\n",
       "        text-align: right;\n",
       "    }\n",
       "</style>\n",
       "<table border=\"1\" class=\"dataframe\">\n",
       "  <thead>\n",
       "    <tr style=\"text-align: right;\">\n",
       "      <th></th>\n",
       "      <th>found_in</th>\n",
       "      <th>identifier</th>\n",
       "      <th>bool</th>\n",
       "      <th>bernoulli</th>\n",
       "      <th>str</th>\n",
       "      <th>gumbel</th>\n",
       "      <th>float</th>\n",
       "      <th>date</th>\n",
       "      <th>int</th>\n",
       "      <th>normal</th>\n",
       "      <th>cat</th>\n",
       "      <th>poly</th>\n",
       "    </tr>\n",
       "  </thead>\n",
       "  <tbody>\n",
       "    <tr>\n",
       "      <th>0</th>\n",
       "      <td>left_only</td>\n",
       "      <td>146</td>\n",
       "      <td>1</td>\n",
       "      <td>0.0</td>\n",
       "      <td>Swaffham</td>\n",
       "      <td>-0.085</td>\n",
       "      <td>4.476</td>\n",
       "      <td>2022-12-09</td>\n",
       "      <td>806</td>\n",
       "      <td>-0.395</td>\n",
       "      <td>ACTIVE</td>\n",
       "      <td>NaN</td>\n",
       "    </tr>\n",
       "    <tr>\n",
       "      <th>1</th>\n",
       "      <td>left_only</td>\n",
       "      <td>194</td>\n",
       "      <td>1</td>\n",
       "      <td>1.0</td>\n",
       "      <td>Dormansland</td>\n",
       "      <td>0.266</td>\n",
       "      <td>4.946</td>\n",
       "      <td>2023-03-19</td>\n",
       "      <td>96</td>\n",
       "      <td>0.264</td>\n",
       "      <td>ACTIVE</td>\n",
       "      <td>NaN</td>\n",
       "    </tr>\n",
       "    <tr>\n",
       "      <th>2</th>\n",
       "      <td>right_only</td>\n",
       "      <td>219</td>\n",
       "      <td>1</td>\n",
       "      <td>NaN</td>\n",
       "      <td>Foxholes</td>\n",
       "      <td>NaN</td>\n",
       "      <td>3.913</td>\n",
       "      <td>2022-12-09</td>\n",
       "      <td>-14</td>\n",
       "      <td>NaN</td>\n",
       "      <td>ACTIVE</td>\n",
       "      <td>21.311569</td>\n",
       "    </tr>\n",
       "    <tr>\n",
       "      <th>3</th>\n",
       "      <td>right_only</td>\n",
       "      <td>246</td>\n",
       "      <td>1</td>\n",
       "      <td>NaN</td>\n",
       "      <td>Swaffham</td>\n",
       "      <td>NaN</td>\n",
       "      <td>4.819</td>\n",
       "      <td>2023-02-20</td>\n",
       "      <td>96</td>\n",
       "      <td>NaN</td>\n",
       "      <td>ACTIVE</td>\n",
       "      <td>29.222761</td>\n",
       "    </tr>\n",
       "    <tr>\n",
       "      <th>4</th>\n",
       "      <td>right_only</td>\n",
       "      <td>252</td>\n",
       "      <td>1</td>\n",
       "      <td>NaN</td>\n",
       "      <td>Tam</td>\n",
       "      <td>NaN</td>\n",
       "      <td>4.703</td>\n",
       "      <td>2023-01-26</td>\n",
       "      <td>806</td>\n",
       "      <td>NaN</td>\n",
       "      <td>ACTIVE</td>\n",
       "      <td>28.118209</td>\n",
       "    </tr>\n",
       "    <tr>\n",
       "      <th>5</th>\n",
       "      <td>right_only</td>\n",
       "      <td>294</td>\n",
       "      <td>1</td>\n",
       "      <td>NaN</td>\n",
       "      <td>Dormansland</td>\n",
       "      <td>NaN</td>\n",
       "      <td>4.816</td>\n",
       "      <td>2023-02-19</td>\n",
       "      <td>-865</td>\n",
       "      <td>NaN</td>\n",
       "      <td>ACTIVE</td>\n",
       "      <td>29.193856</td>\n",
       "    </tr>\n",
       "    <tr>\n",
       "      <th>6</th>\n",
       "      <td>right_only</td>\n",
       "      <td>267</td>\n",
       "      <td>1</td>\n",
       "      <td>NaN</td>\n",
       "      <td>Emerald Ridge</td>\n",
       "      <td>NaN</td>\n",
       "      <td>3.258</td>\n",
       "      <td>2023-03-19</td>\n",
       "      <td>145</td>\n",
       "      <td>NaN</td>\n",
       "      <td>INACTIVE</td>\n",
       "      <td>16.614564</td>\n",
       "    </tr>\n",
       "  </tbody>\n",
       "</table>\n",
       "</div>"
      ],
      "text/plain": [
       "     found_in  identifier  bool  bernoulli            str  gumbel  float   \n",
       "0   left_only         146     1        0.0       Swaffham  -0.085  4.476  \\\n",
       "1   left_only         194     1        1.0    Dormansland   0.266  4.946   \n",
       "2  right_only         219     1        NaN       Foxholes     NaN  3.913   \n",
       "3  right_only         246     1        NaN       Swaffham     NaN  4.819   \n",
       "4  right_only         252     1        NaN            Tam     NaN  4.703   \n",
       "5  right_only         294     1        NaN    Dormansland     NaN  4.816   \n",
       "6  right_only         267     1        NaN  Emerald Ridge     NaN  3.258   \n",
       "\n",
       "         date  int  normal       cat       poly  \n",
       "0  2022-12-09  806  -0.395    ACTIVE        NaN  \n",
       "1  2023-03-19   96   0.264    ACTIVE        NaN  \n",
       "2  2022-12-09  -14     NaN    ACTIVE  21.311569  \n",
       "3  2023-02-20   96     NaN    ACTIVE  29.222761  \n",
       "4  2023-01-26  806     NaN    ACTIVE  28.118209  \n",
       "5  2023-02-19 -865     NaN    ACTIVE  29.193856  \n",
       "6  2023-03-19  145     NaN  INACTIVE  16.614564  "
      ]
     },
     "execution_count": 31,
     "metadata": {},
     "output_type": "execute_result"
    }
   ],
   "source": [
    "wr.load_canonical('unmatched')"
   ]
  },
  {
   "cell_type": "code",
   "execution_count": null,
   "id": "a10a28f4-8e99-477a-8c2a-7dcc197a021a",
   "metadata": {},
   "outputs": [],
   "source": []
  }
 ],
 "metadata": {
  "kernelspec": {
   "display_name": "Python 3 (ipykernel)",
   "language": "python",
   "name": "python3"
  },
  "language_info": {
   "codemirror_mode": {
    "name": "ipython",
    "version": 3
   },
   "file_extension": ".py",
   "mimetype": "text/x-python",
   "name": "python",
   "nbconvert_exporter": "python",
   "pygments_lexer": "ipython3",
   "version": "3.10.8"
  }
 },
 "nbformat": 4,
 "nbformat_minor": 5
}
