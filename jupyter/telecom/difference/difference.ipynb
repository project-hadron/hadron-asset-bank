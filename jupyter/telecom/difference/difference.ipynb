{
 "cells": [
  {
   "cell_type": "code",
   "execution_count": 1,
   "id": "67c31741-5039-45ec-9a41-f9460e4f79a4",
   "metadata": {},
   "outputs": [],
   "source": [
    "# saves you having to use print as all exposed variables are printed in the cell\n",
    "from IPython.core.interactiveshell import InteractiveShell\n",
    "InteractiveShell.ast_node_interactivity = \"all\"\n",
    "\n",
    "# core libraries\n",
    "import numpy as np\n",
    "import pandas as pd\n",
    "import matplotlib.pyplot as plt\n",
    "\n",
    "# matpolitlib config\n",
    "%matplotlib inline\n",
    "plt.style.use('ggplot')\n",
    "\n",
    "# Pandas setup\n",
    "pd.set_option('max_colwidth', 200)\n",
    "pd.set_option('display.max_rows', 500)\n",
    "pd.set_option('display.max_columns', 99)\n",
    "pd.set_option('expand_frame_repr', True)"
   ]
  },
  {
   "cell_type": "markdown",
   "id": "38a94243-621c-4f8e-84ff-6b2bcfd95c47",
   "metadata": {},
   "source": [
    "### Environment"
   ]
  },
  {
   "cell_type": "code",
   "execution_count": 2,
   "id": "958cf274-563e-42ed-a99b-37a446ca3945",
   "metadata": {},
   "outputs": [],
   "source": [
    "import os"
   ]
  },
  {
   "cell_type": "code",
   "execution_count": 3,
   "id": "d3d25d7f-763d-44ea-ab07-bbf088b99dc5",
   "metadata": {},
   "outputs": [],
   "source": [
    "os.environ['HADRON_DIFF_ON'] = str('target')"
   ]
  },
  {
   "cell_type": "code",
   "execution_count": 4,
   "id": "b4aa944e-0cd5-49f3-a4cc-3ef21acad213",
   "metadata": {},
   "outputs": [],
   "source": [
    "os.environ['HADRON_DIFF_CLEANER_ORIGIN'] = 'source/origin_sample.csv'\n",
    "os.environ['HADRON_DIFF_HEADER_MAP_ORIGIN'] = 'source/mapping.csv'\n",
    "os.environ['HADRON_DIFF_CLEANER_OTHER'] = 'source/other_sample.csv'\n",
    "os.environ['HADRON_DIFF_HEADER_MAP_OTHER'] = 'source/mapping.csv'"
   ]
  },
  {
   "cell_type": "markdown",
   "id": "420ad2d2-b8c0-4037-aa51-410ce89f4670",
   "metadata": {
    "tags": []
   },
   "source": [
    "### Create the Component Instance"
   ]
  },
  {
   "cell_type": "code",
   "execution_count": 5,
   "id": "b3f61751-e94a-4920-90a8-672e9065ce55",
   "metadata": {},
   "outputs": [],
   "source": [
    "from ds_discovery import Wrangle"
   ]
  },
  {
   "cell_type": "code",
   "execution_count": 6,
   "id": "e316eddd-e057-4384-93c1-5ebfbb601ed9",
   "metadata": {},
   "outputs": [],
   "source": [
    "# create instance\n",
    "wr = Wrangle.from_env('difference', has_contract=False)"
   ]
  },
  {
   "cell_type": "code",
   "execution_count": 7,
   "id": "90380bfc-8b3a-4b6a-a239-b7169f117f8f",
   "metadata": {},
   "outputs": [],
   "source": [
    "# setup using the environment variable\n",
    "wr.setup_bootstrap('Telecoms', description='Compare two sources and identify if there are differences')\n",
    "wr.set_source_contract(Wrangle.from_env('profiling_origin').get_persist_contract(), template_aligned=True)\n",
    "\n",
    "out = wr.pm.file_pattern(name='detail', prefix='hadron_difference_', file_type='csv', stamped='hours')\n",
    "wr.set_persist(uri_file=out)"
   ]
  },
  {
   "cell_type": "markdown",
   "id": "6606b175-473d-4b89-a40e-373df45d0249",
   "metadata": {},
   "source": [
    "### Add the URI to the Target"
   ]
  },
  {
   "cell_type": "code",
   "execution_count": 8,
   "id": "23d811f3-239b-446f-a8a6-98e1360768ee",
   "metadata": {},
   "outputs": [],
   "source": [
    "# add target source\n",
    "wr.add_connector_uri('dp_other', Wrangle.from_env('profiling_other').get_persist_uri(), template_aligned=True)"
   ]
  },
  {
   "cell_type": "code",
   "execution_count": 9,
   "id": "c4a6fd78-1fde-4798-8d1a-d133523c4aa9",
   "metadata": {},
   "outputs": [],
   "source": [
    "# add summary connector\n",
    "out = wr.pm.file_pattern(name='summary', prefix='hadron_difference_', file_type='csv', stamped='hours')\n",
    "wr.add_connector_persist('summary', out)"
   ]
  },
  {
   "cell_type": "code",
   "execution_count": null,
   "id": "ab04a81a-527c-4c2c-a1cf-a9a0380631ad",
   "metadata": {},
   "outputs": [],
   "source": [
    "# load the files to see if there are observable differences\n",
    "df = wr.load_source_canonical()\n",
    "other = wr.load_canonical('dp_other')"
   ]
  },
  {
   "cell_type": "markdown",
   "id": "0e588397-5629-4d55-a685-aada0e668b47",
   "metadata": {},
   "source": [
    "### Create Component Intent Actions"
   ]
  },
  {
   "cell_type": "code",
   "execution_count": 11,
   "id": "f861fde5-c74f-4a9b-afa0-14882ed0f169",
   "metadata": {},
   "outputs": [],
   "source": [
    "# run the method that calculates differences\n",
    "df = wr.tools.model_difference(df, 'dp_other', on_key='${HADRON_DIFF_ON}', drop_no_diff=True, ordered=True, column_name='difference')"
   ]
  },
  {
   "cell_type": "markdown",
   "id": "6f3d6d43-5310-4cde-886c-e78c84adb800",
   "metadata": {},
   "source": [
    "### Run the Task"
   ]
  },
  {
   "cell_type": "code",
   "execution_count": 13,
   "id": "b09b13b7-0cfc-4b71-b1bc-126b1053ae2f",
   "metadata": {},
   "outputs": [],
   "source": [
    "# run the component task\n",
    "wr.run_component_pipeline()"
   ]
  },
  {
   "cell_type": "code",
   "execution_count": 14,
   "id": "70c8f90f-f04c-4044-81f7-ed392ef13ead",
   "metadata": {},
   "outputs": [
    {
     "data": {
      "text/html": [
       "<div>\n",
       "<style scoped>\n",
       "    .dataframe tbody tr th:only-of-type {\n",
       "        vertical-align: middle;\n",
       "    }\n",
       "\n",
       "    .dataframe tbody tr th {\n",
       "        vertical-align: top;\n",
       "    }\n",
       "\n",
       "    .dataframe thead th {\n",
       "        text-align: right;\n",
       "    }\n",
       "</style>\n",
       "<table border=\"1\" class=\"dataframe\">\n",
       "  <thead>\n",
       "    <tr style=\"text-align: right;\">\n",
       "      <th></th>\n",
       "      <th>target</th>\n",
       "      <th>C1</th>\n",
       "      <th>D1</th>\n",
       "      <th>E1</th>\n",
       "    </tr>\n",
       "  </thead>\n",
       "  <tbody>\n",
       "    <tr>\n",
       "      <th>0</th>\n",
       "      <td>A</td>\n",
       "      <td>1</td>\n",
       "      <td>0</td>\n",
       "      <td>0</td>\n",
       "    </tr>\n",
       "    <tr>\n",
       "      <th>1</th>\n",
       "      <td>B</td>\n",
       "      <td>0</td>\n",
       "      <td>0</td>\n",
       "      <td>1</td>\n",
       "    </tr>\n",
       "    <tr>\n",
       "      <th>2</th>\n",
       "      <td>D</td>\n",
       "      <td>1</td>\n",
       "      <td>1</td>\n",
       "      <td>0</td>\n",
       "    </tr>\n",
       "    <tr>\n",
       "      <th>3</th>\n",
       "      <td>G</td>\n",
       "      <td>1</td>\n",
       "      <td>1</td>\n",
       "      <td>1</td>\n",
       "    </tr>\n",
       "  </tbody>\n",
       "</table>\n",
       "</div>"
      ],
      "text/plain": [
       "  target  C1  D1  E1\n",
       "0      A   1   0   0\n",
       "1      B   0   0   1\n",
       "2      D   1   1   0\n",
       "3      G   1   1   1"
      ]
     },
     "execution_count": 14,
     "metadata": {},
     "output_type": "execute_result"
    }
   ],
   "source": [
    "wr.load_persist_canonical()"
   ]
  },
  {
   "cell_type": "code",
   "execution_count": null,
   "id": "a9600fd0-481f-4bf0-9b3e-7a211c3b829b",
   "metadata": {},
   "outputs": [],
   "source": []
  }
 ],
 "metadata": {
  "kernelspec": {
   "display_name": "Python 3 (ipykernel)",
   "language": "python",
   "name": "python3"
  },
  "language_info": {
   "codemirror_mode": {
    "name": "ipython",
    "version": 3
   },
   "file_extension": ".py",
   "mimetype": "text/x-python",
   "name": "python",
   "nbconvert_exporter": "python",
   "pygments_lexer": "ipython3",
   "version": "3.10.8"
  }
 },
 "nbformat": 4,
 "nbformat_minor": 5
}
