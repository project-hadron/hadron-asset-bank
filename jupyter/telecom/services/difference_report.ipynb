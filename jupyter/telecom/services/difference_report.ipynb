{
 "cells": [
  {
   "cell_type": "markdown",
   "id": "bcccec03-9b5d-4ac5-9152-87136b577fd8",
   "metadata": {},
   "source": [
    "Darryl Oatridge, April 2023"
   ]
  },
  {
   "cell_type": "markdown",
   "id": "6de2d45a-f7f1-401d-bd3e-1e8db14342b6",
   "metadata": {},
   "source": [
    "# Difference Report"
   ]
  },
  {
   "cell_type": "markdown",
   "id": "d3a21b14-61f8-4172-a4a7-a0678dc31bf8",
   "metadata": {
    "tags": []
   },
   "source": [
    "### Environment"
   ]
  },
  {
   "cell_type": "code",
   "execution_count": 1,
   "id": "1623bdf0-1b88-4bc3-ba07-02b052cb9c1d",
   "metadata": {},
   "outputs": [],
   "source": [
    "import os"
   ]
  },
  {
   "cell_type": "code",
   "execution_count": 2,
   "id": "d8925822-b0be-4e66-aaa5-30893d38fea1",
   "metadata": {},
   "outputs": [],
   "source": [
    "# clean out any old environments\n",
    "for key in os.environ.keys():\n",
    "    if key.startswith('HADRON'):\n",
    "        del os.environ[key]"
   ]
  },
  {
   "cell_type": "code",
   "execution_count": 3,
   "id": "86eeadb4-e010-40c7-9ec4-0fe62a97d2a5",
   "metadata": {},
   "outputs": [],
   "source": [
    "remote_uri='https://raw.githubusercontent.com/project-hadron/hadron-asset-bank/master/contracts/commons/difference_report/'\n",
    "local_uri='../difference/hadron/contracts/'"
   ]
  },
  {
   "cell_type": "code",
   "execution_count": 4,
   "id": "1437b219-ef9f-4398-a724-bbeb86230354",
   "metadata": {},
   "outputs": [],
   "source": [
    "os.environ['HADRON_PM_REPO'] = remote_uri\n",
    "os.environ['HADRON_PM_TYPE'] = 'json'\n",
    "\n",
    "os.environ['HADRON_DEFAULT_PATH'] = './hadron/data'"
   ]
  },
  {
   "cell_type": "code",
   "execution_count": 5,
   "id": "67f68edc-654b-4e8a-82ff-31d9cd4df9a7",
   "metadata": {},
   "outputs": [],
   "source": [
    "# Origin difference\n",
    "os.environ['HADRON_CLEANER_ORIGIN_SOURCE_URI'] = '../services/source/hadron_synth_origin.pq'\n",
    "os.environ['HADRON_CLEANER_ORIGIN_HEADER_URI'] = '../services/source/mapping.csv'\n",
    "\n",
    "# Other difference\n",
    "os.environ['HADRON_CLEANER_OTHER_SOURCE_URI'] = '../services/source/hadron_synth_other.pq'\n",
    "os.environ['HADRON_CLEANER_OTHER_HEADER_URI'] = '../services/source/mapping.csv'\n",
    "\n",
    "# difference on key\n",
    "os.environ['HADRON_DIFFERENCE_ON_KEY'] = 'identifier'"
   ]
  },
  {
   "cell_type": "markdown",
   "id": "5610b142-463e-4687-a2e3-882b100ca592",
   "metadata": {},
   "source": [
    "## Controller"
   ]
  },
  {
   "cell_type": "code",
   "execution_count": 6,
   "id": "2a182f99-e8f6-424b-bebf-0db2ce9e725f",
   "metadata": {},
   "outputs": [],
   "source": [
    "from ds_discovery import Controller"
   ]
  },
  {
   "cell_type": "code",
   "execution_count": 7,
   "id": "b628587a-84fc-4619-9a2b-ded776386235",
   "metadata": {},
   "outputs": [],
   "source": [
    "controller = Controller.from_env()"
   ]
  },
  {
   "cell_type": "code",
   "execution_count": 8,
   "id": "5bd47035-c05d-45bb-accc-be3f2a1784c1",
   "metadata": {},
   "outputs": [
    {
     "data": {
      "text/html": [
       "<div>\n",
       "<style scoped>\n",
       "    .dataframe tbody tr th:only-of-type {\n",
       "        vertical-align: middle;\n",
       "    }\n",
       "\n",
       "    .dataframe tbody tr th {\n",
       "        vertical-align: top;\n",
       "    }\n",
       "\n",
       "    .dataframe thead th {\n",
       "        text-align: right;\n",
       "    }\n",
       "</style>\n",
       "<table border=\"1\" class=\"dataframe\">\n",
       "  <thead>\n",
       "    <tr style=\"text-align: right;\">\n",
       "      <th></th>\n",
       "      <th>time</th>\n",
       "      <th>text</th>\n",
       "    </tr>\n",
       "  </thead>\n",
       "  <tbody>\n",
       "    <tr>\n",
       "      <th>0</th>\n",
       "      <td>2023-05-08 18:45:36.544591</td>\n",
       "      <td>start run-cycle 0</td>\n",
       "    </tr>\n",
       "    <tr>\n",
       "      <th>1</th>\n",
       "      <td>2023-05-08 18:45:36.545654</td>\n",
       "      <td>start task cycle 0</td>\n",
       "    </tr>\n",
       "    <tr>\n",
       "      <th>2</th>\n",
       "      <td>2023-05-08 18:45:36.547261</td>\n",
       "      <td>running cleaning_other</td>\n",
       "    </tr>\n",
       "    <tr>\n",
       "      <th>3</th>\n",
       "      <td>2023-05-08 18:45:37.481799</td>\n",
       "      <td>canonical shape is (15, 8)</td>\n",
       "    </tr>\n",
       "    <tr>\n",
       "      <th>4</th>\n",
       "      <td>2023-05-08 18:45:37.483229</td>\n",
       "      <td>running cleaning_origin</td>\n",
       "    </tr>\n",
       "    <tr>\n",
       "      <th>5</th>\n",
       "      <td>2023-05-08 18:45:38.444020</td>\n",
       "      <td>canonical shape is (12, 10)</td>\n",
       "    </tr>\n",
       "    <tr>\n",
       "      <th>6</th>\n",
       "      <td>2023-05-08 18:45:38.446456</td>\n",
       "      <td>running difference_report</td>\n",
       "    </tr>\n",
       "    <tr>\n",
       "      <th>7</th>\n",
       "      <td>2023-05-08 18:45:39.111519</td>\n",
       "      <td>canonical shape is (7, 4)</td>\n",
       "    </tr>\n",
       "    <tr>\n",
       "      <th>8</th>\n",
       "      <td>2023-05-08 18:45:39.112960</td>\n",
       "      <td>tasks complete</td>\n",
       "    </tr>\n",
       "    <tr>\n",
       "      <th>9</th>\n",
       "      <td>2023-05-08 18:45:39.114376</td>\n",
       "      <td>end of report</td>\n",
       "    </tr>\n",
       "  </tbody>\n",
       "</table>\n",
       "</div>"
      ],
      "text/plain": [
       "                         time                         text\n",
       "0  2023-05-08 18:45:36.544591            start run-cycle 0\n",
       "1  2023-05-08 18:45:36.545654           start task cycle 0\n",
       "2  2023-05-08 18:45:36.547261       running cleaning_other\n",
       "3  2023-05-08 18:45:37.481799   canonical shape is (15, 8)\n",
       "4  2023-05-08 18:45:37.483229      running cleaning_origin\n",
       "5  2023-05-08 18:45:38.444020  canonical shape is (12, 10)\n",
       "6  2023-05-08 18:45:38.446456    running difference_report\n",
       "7  2023-05-08 18:45:39.111519    canonical shape is (7, 4)\n",
       "8  2023-05-08 18:45:39.112960               tasks complete\n",
       "9  2023-05-08 18:45:39.114376                end of report"
      ]
     },
     "execution_count": 8,
     "metadata": {},
     "output_type": "execute_result"
    }
   ],
   "source": [
    "controller.run_controller(run_cycle_report='hadron_controller_cycle_report.csv')\n",
    "controller.load_canonical(connector_name='run_cycle_report')"
   ]
  },
  {
   "cell_type": "markdown",
   "id": "532a0d0c-bb5e-4f55-870f-1b784cee7f1e",
   "metadata": {},
   "source": [
    "#### data profiling"
   ]
  },
  {
   "cell_type": "code",
   "execution_count": 9,
   "id": "c2883488-5fa9-49cf-96ce-7cde28e3f881",
   "metadata": {},
   "outputs": [],
   "source": [
    "# data profiling source\n",
    "os.environ['HADRON_PROFILING_SOURCE_URI'] = '../services/source/hadron_synth_origin.pq'"
   ]
  },
  {
   "cell_type": "code",
   "execution_count": 10,
   "id": "08f33015-2962-44ae-aa3f-4df14d3f331c",
   "metadata": {},
   "outputs": [
    {
     "data": {
      "text/html": [
       "<div>\n",
       "<style scoped>\n",
       "    .dataframe tbody tr th:only-of-type {\n",
       "        vertical-align: middle;\n",
       "    }\n",
       "\n",
       "    .dataframe tbody tr th {\n",
       "        vertical-align: top;\n",
       "    }\n",
       "\n",
       "    .dataframe thead th {\n",
       "        text-align: right;\n",
       "    }\n",
       "</style>\n",
       "<table border=\"1\" class=\"dataframe\">\n",
       "  <thead>\n",
       "    <tr style=\"text-align: right;\">\n",
       "      <th></th>\n",
       "      <th>time</th>\n",
       "      <th>text</th>\n",
       "    </tr>\n",
       "  </thead>\n",
       "  <tbody>\n",
       "    <tr>\n",
       "      <th>0</th>\n",
       "      <td>2023-05-08 18:45:39.146103</td>\n",
       "      <td>start run-cycle 0</td>\n",
       "    </tr>\n",
       "    <tr>\n",
       "      <th>1</th>\n",
       "      <td>2023-05-08 18:45:39.147693</td>\n",
       "      <td>start task cycle 0</td>\n",
       "    </tr>\n",
       "    <tr>\n",
       "      <th>2</th>\n",
       "      <td>2023-05-08 18:45:39.149720</td>\n",
       "      <td>running data_profiling</td>\n",
       "    </tr>\n",
       "    <tr>\n",
       "      <th>3</th>\n",
       "      <td>2023-05-08 18:45:40.909986</td>\n",
       "      <td>canonical shape is (12, 10)</td>\n",
       "    </tr>\n",
       "    <tr>\n",
       "      <th>4</th>\n",
       "      <td>2023-05-08 18:45:40.911471</td>\n",
       "      <td>tasks complete</td>\n",
       "    </tr>\n",
       "    <tr>\n",
       "      <th>5</th>\n",
       "      <td>2023-05-08 18:45:40.912933</td>\n",
       "      <td>end of report</td>\n",
       "    </tr>\n",
       "  </tbody>\n",
       "</table>\n",
       "</div>"
      ],
      "text/plain": [
       "                         time                         text\n",
       "0  2023-05-08 18:45:39.146103            start run-cycle 0\n",
       "1  2023-05-08 18:45:39.147693           start task cycle 0\n",
       "2  2023-05-08 18:45:39.149720       running data_profiling\n",
       "3  2023-05-08 18:45:40.909986  canonical shape is (12, 10)\n",
       "4  2023-05-08 18:45:40.911471               tasks complete\n",
       "5  2023-05-08 18:45:40.912933                end of report"
      ]
     },
     "execution_count": 10,
     "metadata": {},
     "output_type": "execute_result"
    }
   ],
   "source": [
    "controller.run_controller(run_book='profiling', run_cycle_report='hadron_controller_profiling_report.csv')\n",
    "controller.load_canonical(connector_name='run_cycle_report')"
   ]
  },
  {
   "cell_type": "code",
   "execution_count": 11,
   "id": "d3a6cdce-5b38-4b3b-a83f-c522ab52615d",
   "metadata": {},
   "outputs": [],
   "source": [
    "# data profiling source\n",
    "os.environ['HADRON_PROFILING_SOURCE_URI'] = '../services/source/hadron_synth_other.pq'"
   ]
  },
  {
   "cell_type": "code",
   "execution_count": 12,
   "id": "0845ffd0-dfe6-4c23-b74b-b64d50f855e6",
   "metadata": {},
   "outputs": [
    {
     "data": {
      "text/html": [
       "<div>\n",
       "<style scoped>\n",
       "    .dataframe tbody tr th:only-of-type {\n",
       "        vertical-align: middle;\n",
       "    }\n",
       "\n",
       "    .dataframe tbody tr th {\n",
       "        vertical-align: top;\n",
       "    }\n",
       "\n",
       "    .dataframe thead th {\n",
       "        text-align: right;\n",
       "    }\n",
       "</style>\n",
       "<table border=\"1\" class=\"dataframe\">\n",
       "  <thead>\n",
       "    <tr style=\"text-align: right;\">\n",
       "      <th></th>\n",
       "      <th>time</th>\n",
       "      <th>text</th>\n",
       "    </tr>\n",
       "  </thead>\n",
       "  <tbody>\n",
       "    <tr>\n",
       "      <th>0</th>\n",
       "      <td>2023-05-08 18:45:40.939689</td>\n",
       "      <td>start run-cycle 0</td>\n",
       "    </tr>\n",
       "    <tr>\n",
       "      <th>1</th>\n",
       "      <td>2023-05-08 18:45:40.941009</td>\n",
       "      <td>start task cycle 0</td>\n",
       "    </tr>\n",
       "    <tr>\n",
       "      <th>2</th>\n",
       "      <td>2023-05-08 18:45:40.943313</td>\n",
       "      <td>running data_profiling</td>\n",
       "    </tr>\n",
       "    <tr>\n",
       "      <th>3</th>\n",
       "      <td>2023-05-08 18:45:42.458611</td>\n",
       "      <td>canonical shape is (15, 8)</td>\n",
       "    </tr>\n",
       "    <tr>\n",
       "      <th>4</th>\n",
       "      <td>2023-05-08 18:45:42.460082</td>\n",
       "      <td>tasks complete</td>\n",
       "    </tr>\n",
       "    <tr>\n",
       "      <th>5</th>\n",
       "      <td>2023-05-08 18:45:42.461385</td>\n",
       "      <td>end of report</td>\n",
       "    </tr>\n",
       "  </tbody>\n",
       "</table>\n",
       "</div>"
      ],
      "text/plain": [
       "                         time                        text\n",
       "0  2023-05-08 18:45:40.939689           start run-cycle 0\n",
       "1  2023-05-08 18:45:40.941009          start task cycle 0\n",
       "2  2023-05-08 18:45:40.943313      running data_profiling\n",
       "3  2023-05-08 18:45:42.458611  canonical shape is (15, 8)\n",
       "4  2023-05-08 18:45:42.460082              tasks complete\n",
       "5  2023-05-08 18:45:42.461385               end of report"
      ]
     },
     "execution_count": 12,
     "metadata": {},
     "output_type": "execute_result"
    }
   ],
   "source": [
    "controller.run_controller(run_book='profiling', run_cycle_report='hadron_controller_profiling_report.csv')\n",
    "controller.load_canonical(connector_name='run_cycle_report')"
   ]
  },
  {
   "cell_type": "markdown",
   "id": "1ca554c9-7357-4ed6-9fc7-fcf7513576a0",
   "metadata": {
    "tags": []
   },
   "source": [
    "----------------------\n",
    "### View Report"
   ]
  },
  {
   "cell_type": "code",
   "execution_count": 13,
   "id": "8b542a22-441a-4ee1-ba89-8cac6b6301ca",
   "metadata": {},
   "outputs": [],
   "source": [
    "from ds_discovery import Wrangle"
   ]
  },
  {
   "cell_type": "code",
   "execution_count": 14,
   "id": "309d7378-6706-479b-83d9-d16ad95c75a7",
   "metadata": {},
   "outputs": [],
   "source": [
    "wr = Wrangle.from_env('difference_task')"
   ]
  },
  {
   "cell_type": "code",
   "execution_count": 15,
   "id": "c20c78dc-d238-4369-8d2c-1e815c99dd32",
   "metadata": {},
   "outputs": [
    {
     "data": {
      "text/html": [
       "<div>\n",
       "<style scoped>\n",
       "    .dataframe tbody tr th:only-of-type {\n",
       "        vertical-align: middle;\n",
       "    }\n",
       "\n",
       "    .dataframe tbody tr th {\n",
       "        vertical-align: top;\n",
       "    }\n",
       "\n",
       "    .dataframe thead th {\n",
       "        text-align: right;\n",
       "    }\n",
       "</style>\n",
       "<table border=\"1\" class=\"dataframe\">\n",
       "  <thead>\n",
       "    <tr style=\"text-align: right;\">\n",
       "      <th></th>\n",
       "      <th>identifier</th>\n",
       "      <th>int</th>\n",
       "      <th>float</th>\n",
       "      <th>cat</th>\n",
       "    </tr>\n",
       "  </thead>\n",
       "  <tbody>\n",
       "    <tr>\n",
       "      <th>0</th>\n",
       "      <td>55</td>\n",
       "      <td>0</td>\n",
       "      <td>0</td>\n",
       "      <td>1</td>\n",
       "    </tr>\n",
       "    <tr>\n",
       "      <th>1</th>\n",
       "      <td>59</td>\n",
       "      <td>0</td>\n",
       "      <td>1</td>\n",
       "      <td>0</td>\n",
       "    </tr>\n",
       "    <tr>\n",
       "      <th>2</th>\n",
       "      <td>68</td>\n",
       "      <td>0</td>\n",
       "      <td>1</td>\n",
       "      <td>0</td>\n",
       "    </tr>\n",
       "    <tr>\n",
       "      <th>3</th>\n",
       "      <td>77</td>\n",
       "      <td>1</td>\n",
       "      <td>0</td>\n",
       "      <td>0</td>\n",
       "    </tr>\n",
       "    <tr>\n",
       "      <th>4</th>\n",
       "      <td>82</td>\n",
       "      <td>0</td>\n",
       "      <td>1</td>\n",
       "      <td>0</td>\n",
       "    </tr>\n",
       "    <tr>\n",
       "      <th>5</th>\n",
       "      <td>86</td>\n",
       "      <td>1</td>\n",
       "      <td>1</td>\n",
       "      <td>0</td>\n",
       "    </tr>\n",
       "    <tr>\n",
       "      <th>6</th>\n",
       "      <td>91</td>\n",
       "      <td>0</td>\n",
       "      <td>1</td>\n",
       "      <td>0</td>\n",
       "    </tr>\n",
       "  </tbody>\n",
       "</table>\n",
       "</div>"
      ],
      "text/plain": [
       "   identifier  int  float  cat\n",
       "0          55    0      0    1\n",
       "1          59    0      1    0\n",
       "2          68    0      1    0\n",
       "3          77    1      0    0\n",
       "4          82    0      1    0\n",
       "5          86    1      1    0\n",
       "6          91    0      1    0"
      ]
     },
     "execution_count": 15,
     "metadata": {},
     "output_type": "execute_result"
    }
   ],
   "source": [
    "df = wr.load_persist_canonical()\n",
    "df"
   ]
  },
  {
   "cell_type": "markdown",
   "id": "3e26147e-752f-42ed-a71b-f273a0321a6f",
   "metadata": {},
   "source": [
    "------------------------"
   ]
  },
  {
   "cell_type": "code",
   "execution_count": null,
   "id": "49c7099d-9b41-4451-8122-efbd61601549",
   "metadata": {},
   "outputs": [],
   "source": []
  }
 ],
 "metadata": {
  "kernelspec": {
   "display_name": "Python 3 (ipykernel)",
   "language": "python",
   "name": "python3"
  },
  "language_info": {
   "codemirror_mode": {
    "name": "ipython",
    "version": 3
   },
   "file_extension": ".py",
   "mimetype": "text/x-python",
   "name": "python",
   "nbconvert_exporter": "python",
   "pygments_lexer": "ipython3",
   "version": "3.10.8"
  }
 },
 "nbformat": 4,
 "nbformat_minor": 5
}
