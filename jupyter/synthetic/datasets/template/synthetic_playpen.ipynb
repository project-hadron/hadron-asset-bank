{
 "cells": [
  {
   "cell_type": "code",
   "execution_count": 1,
   "id": "ea88cc1f-4e55-492d-a59f-f4693972c183",
   "metadata": {},
   "outputs": [],
   "source": [
    "# saves you having to use print as all exposed variables are printed in the cell\n",
    "from IPython.core.interactiveshell import InteractiveShell\n",
    "InteractiveShell.ast_node_interactivity = \"all\""
   ]
  },
  {
   "cell_type": "code",
   "execution_count": 2,
   "id": "41603ebd-9b21-44bc-8a29-7c893bc9e16a",
   "metadata": {},
   "outputs": [],
   "source": [
    "# core libraries\n",
    "import numpy as np\n",
    "import pandas as pd\n",
    "import matplotlib.pyplot as plt\n",
    "\n",
    "# matpolitlib config\n",
    "%matplotlib inline"
   ]
  },
  {
   "cell_type": "markdown",
   "id": "369929de-d176-48d0-b00f-4cfecdd21a71",
   "metadata": {},
   "source": [
    "-----------------------------------"
   ]
  },
  {
   "cell_type": "code",
   "execution_count": 3,
   "id": "7cc61a47-2352-4229-b9b0-047e2aa60983",
   "metadata": {},
   "outputs": [],
   "source": [
    "from ds_discovery import SyntheticBuilder"
   ]
  },
  {
   "cell_type": "code",
   "execution_count": 4,
   "id": "d7bb87a8-4815-42e1-8cc5-1f55b6e73b4f",
   "metadata": {},
   "outputs": [],
   "source": [
    "sb = SyntheticBuilder.from_memory()"
   ]
  },
  {
   "cell_type": "code",
   "execution_count": null,
   "id": "4db3ca9c-3658-4968-a92e-fd18a6679d4d",
   "metadata": {},
   "outputs": [],
   "source": []
  }
 ],
 "metadata": {
  "kernelspec": {
   "display_name": "Python 3 (ipykernel)",
   "language": "python",
   "name": "python3"
  },
  "language_info": {
   "codemirror_mode": {
    "name": "ipython",
    "version": 3
   },
   "file_extension": ".py",
   "mimetype": "text/x-python",
   "name": "python",
   "nbconvert_exporter": "python",
   "pygments_lexer": "ipython3",
   "version": "3.10.8"
  }
 },
 "nbformat": 4,
 "nbformat_minor": 5
}
