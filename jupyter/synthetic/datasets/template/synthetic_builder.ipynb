{
 "cells": [
  {
   "cell_type": "code",
   "execution_count": 1,
   "id": "6d7a8155-39b9-4696-b9f1-50ea1b2452ba",
   "metadata": {},
   "outputs": [],
   "source": [
    "# saves you having to use print as all exposed variables are printed in the cell\n",
    "from IPython.core.interactiveshell import InteractiveShell\n",
    "InteractiveShell.ast_node_interactivity = \"all\""
   ]
  },
  {
   "cell_type": "code",
   "execution_count": 2,
   "id": "3ff1fe35-6800-4a9e-b080-c21e232ea426",
   "metadata": {},
   "outputs": [],
   "source": [
    "# core libraries\n",
    "import numpy as np\n",
    "import pandas as pd\n",
    "import matplotlib.pyplot as plt\n",
    "\n",
    "# matpolitlib config\n",
    "%matplotlib inline"
   ]
  },
  {
   "cell_type": "markdown",
   "id": "a18901ce-9ba6-4b0c-9e2d-e634c39eb51a",
   "metadata": {},
   "source": [
    "---------------------------"
   ]
  },
  {
   "cell_type": "markdown",
   "id": "cd04c2c2-058f-401c-a781-6f3a8056175e",
   "metadata": {
    "tags": []
   },
   "source": [
    "## Environment\n",
    "environment variables for dynamic spesification of dataset size in rows and its location and name as a URI"
   ]
  },
  {
   "cell_type": "code",
   "execution_count": 3,
   "id": "6ea54687-13d3-4936-8722-843f535da5ca",
   "metadata": {},
   "outputs": [],
   "source": [
    "import os"
   ]
  },
  {
   "cell_type": "code",
   "execution_count": 4,
   "id": "34cc776e-8c4d-4b9a-978c-b57c27e95607",
   "metadata": {},
   "outputs": [],
   "source": [
    "# clean out any old environments\n",
    "for key in os.environ.keys():\n",
    "    if key.startswith('HADRON'):\n",
    "        del os.environ[key]"
   ]
  },
  {
   "cell_type": "code",
   "execution_count": 5,
   "id": "fc96ab37-a2b6-4c87-ab31-68cac94f7101",
   "metadata": {},
   "outputs": [],
   "source": [
    "# domain contracts location\n",
    "os.environ['HADRON_PM_PATH'] = './hadron/contracts'\n",
    "os.environ['HADRON_PM_TYPE'] = 'json'\n",
    "\n",
    "# data petsist location\n",
    "os.environ['HADRON_DEFAULT_PATH'] = './hadron/data'\n",
    "\n",
    "# synthetic capability values\n",
    "os.environ['HADRON_SYNTHETIC_PERSIST_RESOURCE'] = 'hadron_synthetic_builder.parquet'\n",
    "os.environ['HADRON_SYNTHETIC_DATA_SIZE'] = '2000'"
   ]
  },
  {
   "cell_type": "markdown",
   "id": "aba51e36-6012-4684-8a81-923fb4223b2a",
   "metadata": {},
   "source": [
    "----------------------\n",
    "## Synthetic Build\n",
    "The component capability that builds the synthetic dataset"
   ]
  },
  {
   "cell_type": "code",
   "execution_count": 6,
   "id": "e549b205-5e4c-40a1-b6e7-cbd9f760a81e",
   "metadata": {},
   "outputs": [],
   "source": [
    "from ds_discovery import SyntheticBuilder"
   ]
  },
  {
   "cell_type": "markdown",
   "id": "22e55d8f-2767-4d61-a3b4-179752ecaabd",
   "metadata": {},
   "source": [
    "### create capability instance"
   ]
  },
  {
   "cell_type": "code",
   "execution_count": 7,
   "id": "a7964ad7-fccc-4ffa-b653-a8d5741d5eab",
   "metadata": {
    "tags": []
   },
   "outputs": [],
   "source": [
    "sb = SyntheticBuilder.from_env('capability_task', has_contract=False)"
   ]
  },
  {
   "cell_type": "code",
   "execution_count": 8,
   "id": "f7c21267-60fe-4906-94f2-5fe9d0905714",
   "metadata": {},
   "outputs": [],
   "source": [
    "sb.set_persist('${HADRON_SYNTHETIC_PERSIST_RESOURCE}')"
   ]
  },
  {
   "cell_type": "markdown",
   "id": "f5ecb031-2984-4ff9-8b41-491f446b8eac",
   "metadata": {},
   "source": [
    "### synthetic intent actions (tools)"
   ]
  },
  {
   "cell_type": "code",
   "execution_count": 9,
   "id": "c875bcea-92e7-438d-81de-0bf21c5cfe2a",
   "metadata": {},
   "outputs": [],
   "source": [
    "# create a sample size for the data rows and a DataFrame to play with\n",
    "size = 1000\n",
    "df = pd.DataFrame()"
   ]
  },
  {
   "cell_type": "markdown",
   "id": "44ab5000-d7b6-4935-ad78-2261815465fd",
   "metadata": {},
   "source": [
    "**To show the synthetic tools methods run `sb.tools.__dir__()`** (for reference only and can be deleted)\n",
    "* `get_*`       methods that return a list of created items (size must be provided)\n",
    "* `correlate_*` methods that create a list of modified items\n",
    "* `model_*`     methods that return a modification DataFrame"
   ]
  },
  {
   "cell_type": "code",
   "execution_count": 10,
   "id": "6ee0117f-6dde-4682-adbb-7094dbcb2ffa",
   "metadata": {},
   "outputs": [
    {
     "data": {
      "text/plain": [
       "['get_category',\n",
       " 'get_datetime',\n",
       " 'get_dist_bernoulli',\n",
       " 'get_dist_bounded_normal',\n",
       " 'get_dist_choice',\n",
       " 'get_dist_normal',\n",
       " 'get_distribution',\n",
       " 'get_intervals',\n",
       " 'get_number',\n",
       " 'get_sample',\n",
       " 'get_selection',\n",
       " 'get_string_pattern',\n",
       " 'get_tagged_pattern',\n",
       " 'get_uuid']"
      ]
     },
     "execution_count": 10,
     "metadata": {},
     "output_type": "execute_result"
    }
   ],
   "source": [
    "# using comprehension to show 'get_' methods\n",
    "[i for i in sb.tools.__dir__() if i.startswith('get_')]"
   ]
  },
  {
   "cell_type": "markdown",
   "id": "f057e540-64d0-49af-be9b-49a1729ed1ae",
   "metadata": {},
   "source": [
    "**an example of a basic synthetic data build** (for reference only, delete before building)"
   ]
  },
  {
   "cell_type": "code",
   "execution_count": 11,
   "id": "fceedbfe-8c87-4553-a1af-0c52cf7cfca5",
   "metadata": {},
   "outputs": [],
   "source": [
    "df['cat'] = sb.tools.get_category(selection=['M', 'F', 'U'], relative_freq=[6,3,1], size=size, column_name='cat')\n",
    "df['num'] = sb.tools.get_number(from_value=-1.0, to_value=1.0, size=size, column_name='num')\n",
    "df['int'] = sb.tools.get_number(from_value=100, to_value=999, size=size, column_name='int')\n",
    "df['bool'] = sb.tools.get_dist_bernoulli(0.5, size=size, column_name='bool')\n",
    "df['date']  = sb.tools.get_datetime(start='2022-12-01', until='2023-03-31', date_format='%Y-%m-%d', size=size, column_name='date')\n",
    "df['object'] = sb.tools.get_string_pattern('(ddd)sddd-ddd', size=size, column_name='object')"
   ]
  },
  {
   "cell_type": "code",
   "execution_count": 12,
   "id": "49b8e430-c8ed-4c5e-b379-e94292114724",
   "metadata": {},
   "outputs": [],
   "source": [
    "# add the synthetic tools methods\n"
   ]
  },
  {
   "cell_type": "markdown",
   "id": "1daba3a8-1cd0-4231-b327-4d7d955e3920",
   "metadata": {
    "tags": []
   },
   "source": [
    "### run the intent actions pipline"
   ]
  },
  {
   "cell_type": "code",
   "execution_count": 13,
   "id": "eb8b0b5d-ef7e-4908-8c4c-5e638cce5de6",
   "metadata": {},
   "outputs": [],
   "source": [
    "sb.run_component_pipeline(1_000)"
   ]
  },
  {
   "cell_type": "markdown",
   "id": "59762e15-2a17-4a35-b51c-de70cff42241",
   "metadata": {},
   "source": [
    "-----------------\n",
    "## Controller\n",
    "The master capability that orchestrates the component capabilities into a component service"
   ]
  },
  {
   "cell_type": "code",
   "execution_count": 14,
   "id": "01018756-7013-4889-8ac3-22d33ffda887",
   "metadata": {},
   "outputs": [],
   "source": [
    "from ds_discovery import Controller"
   ]
  },
  {
   "cell_type": "markdown",
   "id": "92ea0025-4a82-4ed3-ae7a-1d4b9725fa4a",
   "metadata": {},
   "source": [
    "### create controller instance"
   ]
  },
  {
   "cell_type": "code",
   "execution_count": 15,
   "id": "9aa782a4-6f98-45ee-8cda-de01cf51a9d4",
   "metadata": {},
   "outputs": [],
   "source": [
    "controller = Controller.from_env(has_contract=False)"
   ]
  },
  {
   "cell_type": "markdown",
   "id": "31bb74cb-e774-4938-bf0d-d3334b0f6b36",
   "metadata": {},
   "source": [
    "### register capabilities"
   ]
  },
  {
   "cell_type": "code",
   "execution_count": 16,
   "id": "e74a5401-e574-4ef0-8e8d-d8639dbe7b06",
   "metadata": {},
   "outputs": [],
   "source": [
    "controller.intent_model.synthetic_builder(canonical=0, task_name='capability_task', intent_level='synthetic_capability')"
   ]
  },
  {
   "cell_type": "markdown",
   "id": "251963f4-6534-49be-96d5-f41371bcdc81",
   "metadata": {
    "tags": []
   },
   "source": [
    "### run the service"
   ]
  },
  {
   "cell_type": "code",
   "execution_count": 17,
   "id": "3ff2719b-f2d4-4e31-892d-34e9ace45e8e",
   "metadata": {},
   "outputs": [],
   "source": [
    "controller.run_controller()"
   ]
  },
  {
   "cell_type": "markdown",
   "id": "7ed8a345-aaec-4886-bf30-5f34674263a4",
   "metadata": {},
   "source": [
    "----------------------\n",
    "## Validate the Build Outcome"
   ]
  },
  {
   "cell_type": "code",
   "execution_count": 18,
   "id": "1908e582-f00d-40f8-9c84-5a18763e2a11",
   "metadata": {},
   "outputs": [],
   "source": [
    "sb = SyntheticBuilder.from_env('capability_task')"
   ]
  },
  {
   "cell_type": "code",
   "execution_count": 19,
   "id": "f0d6b29c-f301-4d6d-b909-cb4ec48eff32",
   "metadata": {},
   "outputs": [
    {
     "data": {
      "text/html": [
       "<style type=\"text/css\">\n",
       "#T_f0aa1 th {\n",
       "  font-size: 120%;\n",
       "  text-align: center;\n",
       "}\n",
       "#T_f0aa1 .row_heading {\n",
       "  display: none;;\n",
       "}\n",
       "#T_f0aa1  .blank {\n",
       "  display: none;;\n",
       "}\n",
       "#T_f0aa1_row0_col0, #T_f0aa1_row1_col0, #T_f0aa1_row2_col0, #T_f0aa1_row3_col0, #T_f0aa1_row4_col0, #T_f0aa1_row5_col0 {\n",
       "  font-weight: bold;\n",
       "  font-size: 120%;\n",
       "}\n",
       "#T_f0aa1_row0_col1, #T_f0aa1_row3_col1 {\n",
       "  color: #0f398a;\n",
       "}\n",
       "#T_f0aa1_row0_col2, #T_f0aa1_row0_col3, #T_f0aa1_row1_col2, #T_f0aa1_row1_col3, #T_f0aa1_row2_col2, #T_f0aa1_row2_col3, #T_f0aa1_row2_col5, #T_f0aa1_row3_col2, #T_f0aa1_row3_col3, #T_f0aa1_row3_col5, #T_f0aa1_row4_col2, #T_f0aa1_row4_col3, #T_f0aa1_row4_col5, #T_f0aa1_row5_col2, #T_f0aa1_row5_col3, #T_f0aa1_row5_col5 {\n",
       "  color: black;\n",
       "}\n",
       "#T_f0aa1_row0_col5 {\n",
       "  background-color: #a1cbe2;\n",
       "  color: black;\n",
       "}\n",
       "#T_f0aa1_row1_col5 {\n",
       "  background-color: #84cc83;\n",
       "  color: black;\n",
       "}\n",
       "#T_f0aa1_row4_col1 {\n",
       "  color: #2f0f8a;\n",
       "}\n",
       "</style>\n",
       "<table id=\"T_f0aa1\">\n",
       "  <caption>%_Dom: The % most dominant element </caption>\n",
       "  <thead>\n",
       "    <tr>\n",
       "      <th class=\"blank level0\" >&nbsp;</th>\n",
       "      <th id=\"T_f0aa1_level0_col0\" class=\"col_heading level0 col0\" >Attributes (6)</th>\n",
       "      <th id=\"T_f0aa1_level0_col1\" class=\"col_heading level0 col1\" >dType</th>\n",
       "      <th id=\"T_f0aa1_level0_col2\" class=\"col_heading level0 col2\" >%_Null</th>\n",
       "      <th id=\"T_f0aa1_level0_col3\" class=\"col_heading level0 col3\" >%_Dom</th>\n",
       "      <th id=\"T_f0aa1_level0_col4\" class=\"col_heading level0 col4\" >Count</th>\n",
       "      <th id=\"T_f0aa1_level0_col5\" class=\"col_heading level0 col5\" >Unique</th>\n",
       "      <th id=\"T_f0aa1_level0_col6\" class=\"col_heading level0 col6\" >Observations</th>\n",
       "    </tr>\n",
       "  </thead>\n",
       "  <tbody>\n",
       "    <tr>\n",
       "      <th id=\"T_f0aa1_level0_row0\" class=\"row_heading level0 row0\" >0</th>\n",
       "      <td id=\"T_f0aa1_row0_col0\" class=\"data row0 col0\" >bool</td>\n",
       "      <td id=\"T_f0aa1_row0_col1\" class=\"data row0 col1\" >int64</td>\n",
       "      <td id=\"T_f0aa1_row0_col2\" class=\"data row0 col2\" >0.0%</td>\n",
       "      <td id=\"T_f0aa1_row0_col3\" class=\"data row0 col3\" >51.6%</td>\n",
       "      <td id=\"T_f0aa1_row0_col4\" class=\"data row0 col4\" >1000</td>\n",
       "      <td id=\"T_f0aa1_row0_col5\" class=\"data row0 col5\" >2</td>\n",
       "      <td id=\"T_f0aa1_row0_col6\" class=\"data row0 col6\" >max=1 | min=0 | mean=0.52 | dominant=1</td>\n",
       "    </tr>\n",
       "    <tr>\n",
       "      <th id=\"T_f0aa1_level0_row1\" class=\"row_heading level0 row1\" >1</th>\n",
       "      <td id=\"T_f0aa1_row1_col0\" class=\"data row1 col0\" >cat</td>\n",
       "      <td id=\"T_f0aa1_row1_col1\" class=\"data row1 col1\" >object</td>\n",
       "      <td id=\"T_f0aa1_row1_col2\" class=\"data row1 col2\" >0.0%</td>\n",
       "      <td id=\"T_f0aa1_row1_col3\" class=\"data row1 col3\" >60.5%</td>\n",
       "      <td id=\"T_f0aa1_row1_col4\" class=\"data row1 col4\" >1000</td>\n",
       "      <td id=\"T_f0aa1_row1_col5\" class=\"data row1 col5\" >3</td>\n",
       "      <td id=\"T_f0aa1_row1_col6\" class=\"data row1 col6\" >Sample: M | F | U</td>\n",
       "    </tr>\n",
       "    <tr>\n",
       "      <th id=\"T_f0aa1_level0_row2\" class=\"row_heading level0 row2\" >2</th>\n",
       "      <td id=\"T_f0aa1_row2_col0\" class=\"data row2 col0\" >date</td>\n",
       "      <td id=\"T_f0aa1_row2_col1\" class=\"data row2 col1\" >object</td>\n",
       "      <td id=\"T_f0aa1_row2_col2\" class=\"data row2 col2\" >0.0%</td>\n",
       "      <td id=\"T_f0aa1_row2_col3\" class=\"data row2 col3\" >1.8%</td>\n",
       "      <td id=\"T_f0aa1_row2_col4\" class=\"data row2 col4\" >1000</td>\n",
       "      <td id=\"T_f0aa1_row2_col5\" class=\"data row2 col5\" >120</td>\n",
       "      <td id=\"T_f0aa1_row2_col6\" class=\"data row2 col6\" >Sample: 2023-03-21 | 2022-12-17 | 2022-12-04 | 2023-02-27 | 2023-03-30</td>\n",
       "    </tr>\n",
       "    <tr>\n",
       "      <th id=\"T_f0aa1_level0_row3\" class=\"row_heading level0 row3\" >3</th>\n",
       "      <td id=\"T_f0aa1_row3_col0\" class=\"data row3 col0\" >int</td>\n",
       "      <td id=\"T_f0aa1_row3_col1\" class=\"data row3 col1\" >int64</td>\n",
       "      <td id=\"T_f0aa1_row3_col2\" class=\"data row3 col2\" >0.0%</td>\n",
       "      <td id=\"T_f0aa1_row3_col3\" class=\"data row3 col3\" >0.6%</td>\n",
       "      <td id=\"T_f0aa1_row3_col4\" class=\"data row3 col4\" >1000</td>\n",
       "      <td id=\"T_f0aa1_row3_col5\" class=\"data row3 col5\" >599</td>\n",
       "      <td id=\"T_f0aa1_row3_col6\" class=\"data row3 col6\" >max=998 | min=100 | mean=534.75 | dominant=609</td>\n",
       "    </tr>\n",
       "    <tr>\n",
       "      <th id=\"T_f0aa1_level0_row4\" class=\"row_heading level0 row4\" >4</th>\n",
       "      <td id=\"T_f0aa1_row4_col0\" class=\"data row4 col0\" >num</td>\n",
       "      <td id=\"T_f0aa1_row4_col1\" class=\"data row4 col1\" >float64</td>\n",
       "      <td id=\"T_f0aa1_row4_col2\" class=\"data row4 col2\" >0.0%</td>\n",
       "      <td id=\"T_f0aa1_row4_col3\" class=\"data row4 col3\" >0.4%</td>\n",
       "      <td id=\"T_f0aa1_row4_col4\" class=\"data row4 col4\" >1000</td>\n",
       "      <td id=\"T_f0aa1_row4_col5\" class=\"data row4 col5\" >784</td>\n",
       "      <td id=\"T_f0aa1_row4_col6\" class=\"data row4 col6\" >max=0.997 | min=-0.998 | mean=0.02 | dominant=[-0.178, 0.183]</td>\n",
       "    </tr>\n",
       "    <tr>\n",
       "      <th id=\"T_f0aa1_level0_row5\" class=\"row_heading level0 row5\" >5</th>\n",
       "      <td id=\"T_f0aa1_row5_col0\" class=\"data row5 col0\" >object</td>\n",
       "      <td id=\"T_f0aa1_row5_col1\" class=\"data row5 col1\" >object</td>\n",
       "      <td id=\"T_f0aa1_row5_col2\" class=\"data row5 col2\" >0.0%</td>\n",
       "      <td id=\"T_f0aa1_row5_col3\" class=\"data row5 col3\" >0.1%</td>\n",
       "      <td id=\"T_f0aa1_row5_col4\" class=\"data row5 col4\" >1000</td>\n",
       "      <td id=\"T_f0aa1_row5_col5\" class=\"data row5 col5\" >1000</td>\n",
       "      <td id=\"T_f0aa1_row5_col6\" class=\"data row5 col6\" >Sample: (592) 939-323 | (941) 870-385 | (305) 024-067 | (020) 935-389 | (885) 737-871</td>\n",
       "    </tr>\n",
       "  </tbody>\n",
       "</table>\n"
      ],
      "text/plain": [
       "<pandas.io.formats.style.Styler at 0x7fcbf0d155d0>"
      ]
     },
     "execution_count": 19,
     "metadata": {},
     "output_type": "execute_result"
    }
   ],
   "source": [
    "df = sb.load_persist_canonical()\n",
    "sb.canonical_report(df)"
   ]
  },
  {
   "cell_type": "code",
   "execution_count": null,
   "id": "9b8d8db4-83de-4e5e-841c-e5491e483a80",
   "metadata": {},
   "outputs": [],
   "source": []
  }
 ],
 "metadata": {
  "kernelspec": {
   "display_name": "Python 3 (ipykernel)",
   "language": "python",
   "name": "python3"
  },
  "language_info": {
   "codemirror_mode": {
    "name": "ipython",
    "version": 3
   },
   "file_extension": ".py",
   "mimetype": "text/x-python",
   "name": "python",
   "nbconvert_exporter": "python",
   "pygments_lexer": "ipython3",
   "version": "3.10.8"
  }
 },
 "nbformat": 4,
 "nbformat_minor": 5
}
