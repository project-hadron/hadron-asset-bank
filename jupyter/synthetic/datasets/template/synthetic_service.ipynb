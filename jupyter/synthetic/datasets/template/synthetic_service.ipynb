{
 "cells": [
  {
   "cell_type": "code",
   "execution_count": 1,
   "id": "11d65916-b8d7-41fb-89e5-14a8fe37e3ab",
   "metadata": {},
   "outputs": [],
   "source": [
    "# saves you having to use print as all exposed variables are printed in the cell\n",
    "from IPython.core.interactiveshell import InteractiveShell\n",
    "InteractiveShell.ast_node_interactivity = \"all\""
   ]
  },
  {
   "cell_type": "markdown",
   "id": "74412329-1472-4200-8ac7-07b8395e0969",
   "metadata": {
    "tags": []
   },
   "source": [
    "----------------------\n",
    "## Environment\n",
    "environment variables for dynamic spesification of dataset size in rows and its location and name as a URI"
   ]
  },
  {
   "cell_type": "code",
   "execution_count": 2,
   "id": "741e9e3e-b589-40e0-bf19-c76125e2e420",
   "metadata": {},
   "outputs": [],
   "source": [
    "import os"
   ]
  },
  {
   "cell_type": "code",
   "execution_count": 3,
   "id": "9f6c0d7d-e6ca-457d-ac56-e55cbc8574e8",
   "metadata": {},
   "outputs": [],
   "source": [
    "# clean out any old environments\n",
    "for key in os.environ.keys():\n",
    "    if key.startswith('HADRON'):\n",
    "        del os.environ[key]"
   ]
  },
  {
   "cell_type": "code",
   "execution_count": 4,
   "id": "b73b57a9-bd1a-492d-90b7-80a8146b9f60",
   "metadata": {},
   "outputs": [],
   "source": [
    "# domain contracts location\n",
    "os.environ['HADRON_PM_REPO'] = './hadron/contracts'\n",
    "os.environ['HADRON_PM_TYPE'] = 'json'\n",
    "\n",
    "# data petsist location\n",
    "os.environ['HADRON_DEFAULT_PATH'] = './hadron/data'\n",
    "\n",
    "# synthetic capability values\n",
    "os.environ['HADRON_SYNTHETIC_PERSIST_RESOURCE'] = 'hadron_synthetic_service.parquet'\n",
    "os.environ['HADRON_SYNTHETIC_DATA_SIZE'] = '5000'"
   ]
  },
  {
   "cell_type": "markdown",
   "id": "d0a06ae0-f533-45fd-99f5-c2fc84554e78",
   "metadata": {},
   "source": [
    "-------------------\n",
    "## Synthetic Dataset Service"
   ]
  },
  {
   "cell_type": "code",
   "execution_count": 5,
   "id": "17953369-4a48-4a1b-9a59-0068cbe6f61d",
   "metadata": {},
   "outputs": [],
   "source": [
    "from ds_discovery import Controller"
   ]
  },
  {
   "cell_type": "markdown",
   "id": "09b68f96-a0a7-4bb9-ab84-1b6f86efa30d",
   "metadata": {},
   "source": [
    "### set the service path to the local domain contracts "
   ]
  },
  {
   "cell_type": "code",
   "execution_count": 6,
   "id": "46c6f195-103d-46cc-ae9d-4b47d1fab4b0",
   "metadata": {},
   "outputs": [],
   "source": [
    "# gets the uri_pm_repo from the environment\n",
    "controller = Controller.from_env()"
   ]
  },
  {
   "cell_type": "markdown",
   "id": "c3eddda6-03d5-4385-8888-0451611f262e",
   "metadata": {
    "tags": []
   },
   "source": [
    "### run the service and view the run cycle report"
   ]
  },
  {
   "cell_type": "code",
   "execution_count": 7,
   "id": "a4bbad90-ea3d-4581-8eb4-b8418998bf39",
   "metadata": {},
   "outputs": [
    {
     "data": {
      "text/html": [
       "<div>\n",
       "<style scoped>\n",
       "    .dataframe tbody tr th:only-of-type {\n",
       "        vertical-align: middle;\n",
       "    }\n",
       "\n",
       "    .dataframe tbody tr th {\n",
       "        vertical-align: top;\n",
       "    }\n",
       "\n",
       "    .dataframe thead th {\n",
       "        text-align: right;\n",
       "    }\n",
       "</style>\n",
       "<table border=\"1\" class=\"dataframe\">\n",
       "  <thead>\n",
       "    <tr style=\"text-align: right;\">\n",
       "      <th></th>\n",
       "      <th>time</th>\n",
       "      <th>text</th>\n",
       "    </tr>\n",
       "  </thead>\n",
       "  <tbody>\n",
       "    <tr>\n",
       "      <th>0</th>\n",
       "      <td>2023-05-02 18:26:14.571533</td>\n",
       "      <td>start run-cycle 0</td>\n",
       "    </tr>\n",
       "    <tr>\n",
       "      <th>1</th>\n",
       "      <td>2023-05-02 18:26:14.573405</td>\n",
       "      <td>start task cycle 0</td>\n",
       "    </tr>\n",
       "    <tr>\n",
       "      <th>2</th>\n",
       "      <td>2023-05-02 18:26:14.575257</td>\n",
       "      <td>running synthetic_capability</td>\n",
       "    </tr>\n",
       "    <tr>\n",
       "      <th>3</th>\n",
       "      <td>2023-05-02 18:26:14.639749</td>\n",
       "      <td>canonical shape is (1000, 6)</td>\n",
       "    </tr>\n",
       "    <tr>\n",
       "      <th>4</th>\n",
       "      <td>2023-05-02 18:26:14.641218</td>\n",
       "      <td>tasks complete</td>\n",
       "    </tr>\n",
       "    <tr>\n",
       "      <th>5</th>\n",
       "      <td>2023-05-02 18:26:14.642524</td>\n",
       "      <td>end of report</td>\n",
       "    </tr>\n",
       "  </tbody>\n",
       "</table>\n",
       "</div>"
      ],
      "text/plain": [
       "                         time                          text\n",
       "0  2023-05-02 18:26:14.571533             start run-cycle 0\n",
       "1  2023-05-02 18:26:14.573405            start task cycle 0\n",
       "2  2023-05-02 18:26:14.575257  running synthetic_capability\n",
       "3  2023-05-02 18:26:14.639749  canonical shape is (1000, 6)\n",
       "4  2023-05-02 18:26:14.641218                tasks complete\n",
       "5  2023-05-02 18:26:14.642524                 end of report"
      ]
     },
     "execution_count": 7,
     "metadata": {},
     "output_type": "execute_result"
    }
   ],
   "source": [
    "controller.run_controller(run_cycle_report='hadron_controller_cycle_report.csv')\n",
    "controller.load_canonical(connector_name='run_cycle_report')"
   ]
  },
  {
   "cell_type": "markdown",
   "id": "212f1e3f-e48d-4038-89a5-7eb4fc1b471e",
   "metadata": {
    "tags": []
   },
   "source": [
    "----------------------\n",
    "----------------------\n",
    "## View synthetic outcome (optional)\n",
    "Once run, we can use the controller to retrieve data lineage to identify the capability that produced the outcome dataset and from that retrieve and observe what was generated."
   ]
  },
  {
   "cell_type": "markdown",
   "id": "5d37c8c5-661f-4c22-83de-c5e7bb2ec62d",
   "metadata": {},
   "source": [
    "### get the task name of the output capability from the Controller"
   ]
  },
  {
   "cell_type": "code",
   "execution_count": 8,
   "id": "d8190639-874e-4fd6-aadf-f8fce47fa6e4",
   "metadata": {},
   "outputs": [
    {
     "data": {
      "text/html": [
       "<style type=\"text/css\">\n",
       "#T_3110c th {\n",
       "  font-size: 120%;\n",
       "  text-align: center;\n",
       "}\n",
       "#T_3110c .row_heading {\n",
       "  display: none;;\n",
       "}\n",
       "#T_3110c  .blank {\n",
       "  display: none;;\n",
       "}\n",
       "#T_3110c_row0_col0 {\n",
       "  text-align: left;\n",
       "  font-weight: bold;\n",
       "  font-size: 120%;\n",
       "}\n",
       "#T_3110c_row0_col1, #T_3110c_row0_col2, #T_3110c_row0_col3, #T_3110c_row0_col4 {\n",
       "  text-align: left;\n",
       "}\n",
       "</style>\n",
       "<table id=\"T_3110c\">\n",
       "  <thead>\n",
       "    <tr>\n",
       "      <th class=\"blank level0\" >&nbsp;</th>\n",
       "      <th id=\"T_3110c_level0_col0\" class=\"col_heading level0 col0\" >level</th>\n",
       "      <th id=\"T_3110c_level0_col1\" class=\"col_heading level0 col1\" >order</th>\n",
       "      <th id=\"T_3110c_level0_col2\" class=\"col_heading level0 col2\" >intent</th>\n",
       "      <th id=\"T_3110c_level0_col3\" class=\"col_heading level0 col3\" >parameters</th>\n",
       "      <th id=\"T_3110c_level0_col4\" class=\"col_heading level0 col4\" >creator</th>\n",
       "    </tr>\n",
       "  </thead>\n",
       "  <tbody>\n",
       "    <tr>\n",
       "      <th id=\"T_3110c_level0_row0\" class=\"row_heading level0 row0\" >0</th>\n",
       "      <td id=\"T_3110c_row0_col0\" class=\"data row0 col0\" >synthetic_capability</td>\n",
       "      <td id=\"T_3110c_row0_col1\" class=\"data row0 col1\" >0</td>\n",
       "      <td id=\"T_3110c_row0_col2\" class=\"data row0 col2\" >synthetic_builder</td>\n",
       "      <td id=\"T_3110c_row0_col3\" class=\"data row0 col3\" >[\"task_name='capability_task'\"]</td>\n",
       "      <td id=\"T_3110c_row0_col4\" class=\"data row0 col4\" >doatridge</td>\n",
       "    </tr>\n",
       "  </tbody>\n",
       "</table>\n"
      ],
      "text/plain": [
       "<pandas.io.formats.style.Styler at 0x7f97ba1e99c0>"
      ]
     },
     "execution_count": 8,
     "metadata": {},
     "output_type": "execute_result"
    }
   ],
   "source": [
    "controller.report_intent()"
   ]
  },
  {
   "cell_type": "markdown",
   "id": "7e9ab9a1-9b69-421e-b82c-f688f5925c80",
   "metadata": {},
   "source": [
    "### use the task name to get the get the Synthetic Builder for that task name"
   ]
  },
  {
   "cell_type": "code",
   "execution_count": 9,
   "id": "53bcb020-dcd9-4e38-8bec-0f0ebdad4731",
   "metadata": {},
   "outputs": [],
   "source": [
    "from ds_discovery import SyntheticBuilder"
   ]
  },
  {
   "cell_type": "code",
   "execution_count": 10,
   "id": "ef197f22-3e7e-4d91-9a52-83893445bae8",
   "metadata": {},
   "outputs": [],
   "source": [
    "sb = SyntheticBuilder.from_env('capability_task')"
   ]
  },
  {
   "cell_type": "markdown",
   "id": "c4cc22c9-7b50-46a9-93f9-bc8d28e4bf76",
   "metadata": {},
   "source": [
    "### load and display the dataset."
   ]
  },
  {
   "cell_type": "code",
   "execution_count": 11,
   "id": "a2a81635-aa3c-4f1e-9783-5b7a356e9d49",
   "metadata": {},
   "outputs": [
    {
     "data": {
      "text/html": [
       "<style type=\"text/css\">\n",
       "#T_a64f5 th {\n",
       "  font-size: 120%;\n",
       "  text-align: center;\n",
       "}\n",
       "#T_a64f5 .row_heading {\n",
       "  display: none;;\n",
       "}\n",
       "#T_a64f5  .blank {\n",
       "  display: none;;\n",
       "}\n",
       "#T_a64f5_row0_col0, #T_a64f5_row1_col0, #T_a64f5_row2_col0, #T_a64f5_row3_col0, #T_a64f5_row4_col0, #T_a64f5_row5_col0 {\n",
       "  font-weight: bold;\n",
       "  font-size: 120%;\n",
       "}\n",
       "#T_a64f5_row0_col1, #T_a64f5_row3_col1 {\n",
       "  color: #0f398a;\n",
       "}\n",
       "#T_a64f5_row0_col2, #T_a64f5_row0_col3, #T_a64f5_row1_col2, #T_a64f5_row1_col3, #T_a64f5_row2_col2, #T_a64f5_row2_col3, #T_a64f5_row2_col5, #T_a64f5_row3_col2, #T_a64f5_row3_col3, #T_a64f5_row3_col5, #T_a64f5_row4_col2, #T_a64f5_row4_col3, #T_a64f5_row4_col5, #T_a64f5_row5_col2, #T_a64f5_row5_col3, #T_a64f5_row5_col5 {\n",
       "  color: black;\n",
       "}\n",
       "#T_a64f5_row0_col5 {\n",
       "  background-color: #a1cbe2;\n",
       "  color: black;\n",
       "}\n",
       "#T_a64f5_row1_col5 {\n",
       "  background-color: #84cc83;\n",
       "  color: black;\n",
       "}\n",
       "#T_a64f5_row4_col1 {\n",
       "  color: #2f0f8a;\n",
       "}\n",
       "</style>\n",
       "<table id=\"T_a64f5\">\n",
       "  <caption>%_Dom: The % most dominant element </caption>\n",
       "  <thead>\n",
       "    <tr>\n",
       "      <th class=\"blank level0\" >&nbsp;</th>\n",
       "      <th id=\"T_a64f5_level0_col0\" class=\"col_heading level0 col0\" >Attributes (6)</th>\n",
       "      <th id=\"T_a64f5_level0_col1\" class=\"col_heading level0 col1\" >dType</th>\n",
       "      <th id=\"T_a64f5_level0_col2\" class=\"col_heading level0 col2\" >%_Null</th>\n",
       "      <th id=\"T_a64f5_level0_col3\" class=\"col_heading level0 col3\" >%_Dom</th>\n",
       "      <th id=\"T_a64f5_level0_col4\" class=\"col_heading level0 col4\" >Count</th>\n",
       "      <th id=\"T_a64f5_level0_col5\" class=\"col_heading level0 col5\" >Unique</th>\n",
       "      <th id=\"T_a64f5_level0_col6\" class=\"col_heading level0 col6\" >Observations</th>\n",
       "    </tr>\n",
       "  </thead>\n",
       "  <tbody>\n",
       "    <tr>\n",
       "      <th id=\"T_a64f5_level0_row0\" class=\"row_heading level0 row0\" >0</th>\n",
       "      <td id=\"T_a64f5_row0_col0\" class=\"data row0 col0\" >bool</td>\n",
       "      <td id=\"T_a64f5_row0_col1\" class=\"data row0 col1\" >int64</td>\n",
       "      <td id=\"T_a64f5_row0_col2\" class=\"data row0 col2\" >0.0%</td>\n",
       "      <td id=\"T_a64f5_row0_col3\" class=\"data row0 col3\" >53.5%</td>\n",
       "      <td id=\"T_a64f5_row0_col4\" class=\"data row0 col4\" >1000</td>\n",
       "      <td id=\"T_a64f5_row0_col5\" class=\"data row0 col5\" >2</td>\n",
       "      <td id=\"T_a64f5_row0_col6\" class=\"data row0 col6\" >max=1 | min=0 | mean=0.46 | dominant=0</td>\n",
       "    </tr>\n",
       "    <tr>\n",
       "      <th id=\"T_a64f5_level0_row1\" class=\"row_heading level0 row1\" >1</th>\n",
       "      <td id=\"T_a64f5_row1_col0\" class=\"data row1 col0\" >cat</td>\n",
       "      <td id=\"T_a64f5_row1_col1\" class=\"data row1 col1\" >object</td>\n",
       "      <td id=\"T_a64f5_row1_col2\" class=\"data row1 col2\" >0.0%</td>\n",
       "      <td id=\"T_a64f5_row1_col3\" class=\"data row1 col3\" >60.0%</td>\n",
       "      <td id=\"T_a64f5_row1_col4\" class=\"data row1 col4\" >1000</td>\n",
       "      <td id=\"T_a64f5_row1_col5\" class=\"data row1 col5\" >3</td>\n",
       "      <td id=\"T_a64f5_row1_col6\" class=\"data row1 col6\" >Sample: M | F | U</td>\n",
       "    </tr>\n",
       "    <tr>\n",
       "      <th id=\"T_a64f5_level0_row2\" class=\"row_heading level0 row2\" >2</th>\n",
       "      <td id=\"T_a64f5_row2_col0\" class=\"data row2 col0\" >date</td>\n",
       "      <td id=\"T_a64f5_row2_col1\" class=\"data row2 col1\" >object</td>\n",
       "      <td id=\"T_a64f5_row2_col2\" class=\"data row2 col2\" >0.0%</td>\n",
       "      <td id=\"T_a64f5_row2_col3\" class=\"data row2 col3\" >1.9%</td>\n",
       "      <td id=\"T_a64f5_row2_col4\" class=\"data row2 col4\" >1000</td>\n",
       "      <td id=\"T_a64f5_row2_col5\" class=\"data row2 col5\" >120</td>\n",
       "      <td id=\"T_a64f5_row2_col6\" class=\"data row2 col6\" >Sample: 2022-12-12 | 2023-02-06 | 2023-01-12 | 2023-03-04 | 2023-03-12</td>\n",
       "    </tr>\n",
       "    <tr>\n",
       "      <th id=\"T_a64f5_level0_row3\" class=\"row_heading level0 row3\" >3</th>\n",
       "      <td id=\"T_a64f5_row3_col0\" class=\"data row3 col0\" >int</td>\n",
       "      <td id=\"T_a64f5_row3_col1\" class=\"data row3 col1\" >int64</td>\n",
       "      <td id=\"T_a64f5_row3_col2\" class=\"data row3 col2\" >0.0%</td>\n",
       "      <td id=\"T_a64f5_row3_col3\" class=\"data row3 col3\" >0.6%</td>\n",
       "      <td id=\"T_a64f5_row3_col4\" class=\"data row3 col4\" >1000</td>\n",
       "      <td id=\"T_a64f5_row3_col5\" class=\"data row3 col5\" >613</td>\n",
       "      <td id=\"T_a64f5_row3_col6\" class=\"data row3 col6\" >max=998 | min=102 | mean=541.66 | dominant=666</td>\n",
       "    </tr>\n",
       "    <tr>\n",
       "      <th id=\"T_a64f5_level0_row4\" class=\"row_heading level0 row4\" >4</th>\n",
       "      <td id=\"T_a64f5_row4_col0\" class=\"data row4 col0\" >num</td>\n",
       "      <td id=\"T_a64f5_row4_col1\" class=\"data row4 col1\" >float64</td>\n",
       "      <td id=\"T_a64f5_row4_col2\" class=\"data row4 col2\" >0.0%</td>\n",
       "      <td id=\"T_a64f5_row4_col3\" class=\"data row4 col3\" >0.4%</td>\n",
       "      <td id=\"T_a64f5_row4_col4\" class=\"data row4 col4\" >1000</td>\n",
       "      <td id=\"T_a64f5_row4_col5\" class=\"data row4 col5\" >792</td>\n",
       "      <td id=\"T_a64f5_row4_col6\" class=\"data row4 col6\" >max=0.999 | min=-0.994 | mean=0.0 | dominant=[-0.485, 0.479]</td>\n",
       "    </tr>\n",
       "    <tr>\n",
       "      <th id=\"T_a64f5_level0_row5\" class=\"row_heading level0 row5\" >5</th>\n",
       "      <td id=\"T_a64f5_row5_col0\" class=\"data row5 col0\" >object</td>\n",
       "      <td id=\"T_a64f5_row5_col1\" class=\"data row5 col1\" >object</td>\n",
       "      <td id=\"T_a64f5_row5_col2\" class=\"data row5 col2\" >0.0%</td>\n",
       "      <td id=\"T_a64f5_row5_col3\" class=\"data row5 col3\" >0.1%</td>\n",
       "      <td id=\"T_a64f5_row5_col4\" class=\"data row5 col4\" >1000</td>\n",
       "      <td id=\"T_a64f5_row5_col5\" class=\"data row5 col5\" >1000</td>\n",
       "      <td id=\"T_a64f5_row5_col6\" class=\"data row5 col6\" >Sample: (747) 251-417 | (265) 256-177 | (774) 489-433 | (648) 211-867 | (943) 682-539</td>\n",
       "    </tr>\n",
       "  </tbody>\n",
       "</table>\n"
      ],
      "text/plain": [
       "<pandas.io.formats.style.Styler at 0x7f97ba7453f0>"
      ]
     },
     "execution_count": 11,
     "metadata": {},
     "output_type": "execute_result"
    }
   ],
   "source": [
    "df = sb.load_persist_canonical()\n",
    "sb.canonical_report(df)"
   ]
  },
  {
   "cell_type": "code",
   "execution_count": 12,
   "id": "c70dd5f6-b23b-4fa0-b37f-cfeab220dea0",
   "metadata": {},
   "outputs": [
    {
     "data": {
      "text/html": [
       "<style type=\"text/css\">\n",
       "#T_ab098 th {\n",
       "  font-size: 120%;\n",
       "  text-align: center;\n",
       "}\n",
       "#T_ab098 .row_heading {\n",
       "  display: none;;\n",
       "}\n",
       "#T_ab098  .blank {\n",
       "  display: none;;\n",
       "}\n",
       "#T_ab098_row0_col0, #T_ab098_row1_col0, #T_ab098_row2_col0, #T_ab098_row3_col0, #T_ab098_row4_col0, #T_ab098_row5_col0, #T_ab098_row6_col0, #T_ab098_row7_col0 {\n",
       "  text-align: left;\n",
       "  font-weight: bold;\n",
       "  font-size: 120%;\n",
       "}\n",
       "#T_ab098_row0_col1, #T_ab098_row1_col1, #T_ab098_row2_col1, #T_ab098_row3_col1, #T_ab098_row4_col1, #T_ab098_row5_col1, #T_ab098_row6_col1, #T_ab098_row7_col1 {\n",
       "  text-align: left;\n",
       "}\n",
       "</style>\n",
       "<table id=\"T_ab098\">\n",
       "  <thead>\n",
       "    <tr>\n",
       "      <th class=\"blank level0\" >&nbsp;</th>\n",
       "      <th id=\"T_ab098_level0_col0\" class=\"col_heading level0 col0\" >environ</th>\n",
       "      <th id=\"T_ab098_level0_col1\" class=\"col_heading level0 col1\" >value</th>\n",
       "    </tr>\n",
       "  </thead>\n",
       "  <tbody>\n",
       "    <tr>\n",
       "      <th id=\"T_ab098_level0_row0\" class=\"row_heading level0 row0\" >0</th>\n",
       "      <td id=\"T_ab098_row0_col0\" class=\"data row0 col0\" >HADRON_SYNTHETIC_PATH</td>\n",
       "      <td id=\"T_ab098_row0_col1\" class=\"data row0 col1\" >./hadron/synth</td>\n",
       "    </tr>\n",
       "    <tr>\n",
       "      <th id=\"T_ab098_level0_row1\" class=\"row_heading level0 row1\" >1</th>\n",
       "      <td id=\"T_ab098_row1_col0\" class=\"data row1 col0\" >HADRON_DEFAULT_PATH</td>\n",
       "      <td id=\"T_ab098_row1_col1\" class=\"data row1 col1\" >./hadron/data</td>\n",
       "    </tr>\n",
       "    <tr>\n",
       "      <th id=\"T_ab098_level0_row2\" class=\"row_heading level0 row2\" >2</th>\n",
       "      <td id=\"T_ab098_row2_col0\" class=\"data row2 col0\" >HADRON_PM_PATH</td>\n",
       "      <td id=\"T_ab098_row2_col1\" class=\"data row2 col1\" >./hadron/contracts/hadron_pm_synthetic_capability_task.json</td>\n",
       "    </tr>\n",
       "    <tr>\n",
       "      <th id=\"T_ab098_level0_row3\" class=\"row_heading level0 row3\" >3</th>\n",
       "      <td id=\"T_ab098_row3_col0\" class=\"data row3 col0\" >HADRON_PM_REPO</td>\n",
       "      <td id=\"T_ab098_row3_col1\" class=\"data row3 col1\" >./hadron/contracts</td>\n",
       "    </tr>\n",
       "    <tr>\n",
       "      <th id=\"T_ab098_level0_row4\" class=\"row_heading level0 row4\" >4</th>\n",
       "      <td id=\"T_ab098_row4_col0\" class=\"data row4 col0\" >HADRON_PM_TYPE</td>\n",
       "      <td id=\"T_ab098_row4_col1\" class=\"data row4 col1\" >json</td>\n",
       "    </tr>\n",
       "    <tr>\n",
       "      <th id=\"T_ab098_level0_row5\" class=\"row_heading level0 row5\" >5</th>\n",
       "      <td id=\"T_ab098_row5_col0\" class=\"data row5 col0\" >HADRON_PM_MODULE</td>\n",
       "      <td id=\"T_ab098_row5_col1\" class=\"data row5 col1\" >ds_discovery.handlers.pandas_handlers</td>\n",
       "    </tr>\n",
       "    <tr>\n",
       "      <th id=\"T_ab098_level0_row6\" class=\"row_heading level0 row6\" >6</th>\n",
       "      <td id=\"T_ab098_row6_col0\" class=\"data row6 col0\" >HADRON_PM_HANDLER</td>\n",
       "      <td id=\"T_ab098_row6_col1\" class=\"data row6 col1\" >PandasPersistHandler</td>\n",
       "    </tr>\n",
       "    <tr>\n",
       "      <th id=\"T_ab098_level0_row7\" class=\"row_heading level0 row7\" >7</th>\n",
       "      <td id=\"T_ab098_row7_col0\" class=\"data row7 col0\" >HADRON_CREATOR</td>\n",
       "      <td id=\"T_ab098_row7_col1\" class=\"data row7 col1\" >account default</td>\n",
       "    </tr>\n",
       "  </tbody>\n",
       "</table>\n"
      ],
      "text/plain": [
       "<pandas.io.formats.style.Styler at 0x7f97ba745c90>"
      ]
     },
     "execution_count": 12,
     "metadata": {},
     "output_type": "execute_result"
    }
   ],
   "source": [
    "sb.report_environ()"
   ]
  },
  {
   "cell_type": "code",
   "execution_count": null,
   "id": "8ef5ca49-8838-4fff-a021-faeb25004ff6",
   "metadata": {},
   "outputs": [],
   "source": []
  }
 ],
 "metadata": {
  "kernelspec": {
   "display_name": "Python 3 (ipykernel)",
   "language": "python",
   "name": "python3"
  },
  "language_info": {
   "codemirror_mode": {
    "name": "ipython",
    "version": 3
   },
   "file_extension": ".py",
   "mimetype": "text/x-python",
   "name": "python",
   "nbconvert_exporter": "python",
   "pygments_lexer": "ipython3",
   "version": "3.10.8"
  }
 },
 "nbformat": 4,
 "nbformat_minor": 5
}
