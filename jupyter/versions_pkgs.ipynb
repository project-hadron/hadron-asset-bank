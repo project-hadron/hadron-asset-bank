{
 "cells": [
  {
   "cell_type": "code",
   "execution_count": 1,
   "id": "2286823f-cbc1-4d8b-b07f-51a9dc42c0a6",
   "metadata": {},
   "outputs": [
    {
     "name": "stdout",
     "output_type": "stream",
     "text": [
      "pandas   : 2.0.3\n",
      "numpy    : 1.25.0\n",
      "pyarrow  : 12.0.1\n",
      "scipy    : 1.10.1\n",
      "sklearn  : 1.2.2\n"
     ]
    }
   ],
   "source": [
    "import pandas\n",
    "import numpy\n",
    "import pyarrow\n",
    "import scipy\n",
    "import sklearn\n",
    "\n",
    "print(f'pandas   : {pandas.__version__}')\n",
    "print(f'numpy    : {numpy.__version__}')\n",
    "print(f'pyarrow  : {pyarrow.__version__}')\n",
    "print(f'scipy    : {scipy.__version__}')\n",
    "print(f'sklearn  : {sklearn.__version__}')\n"
   ]
  },
  {
   "cell_type": "code",
   "execution_count": null,
   "id": "1e37d2a4-9e46-4f4b-9e10-6fa50538810f",
   "metadata": {},
   "outputs": [],
   "source": []
  }
 ],
 "metadata": {
  "kernelspec": {
   "display_name": "Python 3 (ipykernel)",
   "language": "python",
   "name": "python3"
  },
  "language_info": {
   "codemirror_mode": {
    "name": "ipython",
    "version": 3
   },
   "file_extension": ".py",
   "mimetype": "text/x-python",
   "name": "python",
   "nbconvert_exporter": "python",
   "pygments_lexer": "ipython3",
   "version": "3.10.12"
  }
 },
 "nbformat": 4,
 "nbformat_minor": 5
}
