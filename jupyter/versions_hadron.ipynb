{
 "cells": [
  {
   "cell_type": "code",
   "execution_count": 1,
   "id": "2ee8dd45",
   "metadata": {},
   "outputs": [],
   "source": [
    "%reload_ext autoreload\n",
    "%autoreload 2\n",
    "\n",
    "# import aistac\n",
    "# import ds_discovery\n",
    "# import ds_connectors\n",
    "# print('Hadron on Pandas')\n",
    "# print('----------------')\n",
    "# print(f'aistac-foundation       : {aistac.__version__}')\n",
    "# print(f'discovery-transition-ds : {ds_discovery.__version__}')\n",
    "# print(f'discovery-connectors    : {ds_connectors.__version__}')"
   ]
  },
  {
   "cell_type": "code",
   "execution_count": 2,
   "id": "990cf324",
   "metadata": {},
   "outputs": [
    {
     "name": "stdout",
     "output_type": "stream",
     "text": [
      "\n",
      "Hadron on PyArrow\n",
      "-----------------\n",
      "discovery-core       : 0.5.19\n",
      "discovery-capability : 0.7.5\n"
     ]
    }
   ],
   "source": [
    "import ds_core\n",
    "import ds_capability\n",
    "print('\\nHadron on PyArrow')\n",
    "print('-----------------')\n",
    "print(f'discovery-core       : {ds_core.__version__}')\n",
    "print(f'discovery-capability : {ds_capability.__version__}')"
   ]
  },
  {
   "cell_type": "code",
   "execution_count": null,
   "id": "cb6149f7-a05c-44cf-9450-2bc7c5e811cb",
   "metadata": {},
   "outputs": [],
   "source": []
  }
 ],
 "metadata": {
  "kernelspec": {
   "display_name": "Python 3 (ipykernel)",
   "language": "python",
   "name": "python3"
  },
  "language_info": {
   "codemirror_mode": {
    "name": "ipython",
    "version": 3
   },
   "file_extension": ".py",
   "mimetype": "text/x-python",
   "name": "python",
   "nbconvert_exporter": "python",
   "pygments_lexer": "ipython3",
   "version": "3.10.12"
  }
 },
 "nbformat": 4,
 "nbformat_minor": 5
}
