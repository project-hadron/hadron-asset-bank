{
 "cells": [
  {
   "cell_type": "code",
   "execution_count": 1,
   "id": "e27c6acc-4124-4a54-b5c0-6a0e52e6c27f",
   "metadata": {},
   "outputs": [],
   "source": [
    "# saves you having to use print as all exposed variables are printed in the cell\n",
    "from IPython.core.interactiveshell import InteractiveShell\n",
    "InteractiveShell.ast_node_interactivity = \"all\""
   ]
  },
  {
   "cell_type": "code",
   "execution_count": 2,
   "id": "d7b04934-b3eb-4682-ab3c-378ece057baa",
   "metadata": {},
   "outputs": [],
   "source": [
    "# suppress warning message\n",
    "import warnings\n",
    "warnings.filterwarnings(\"ignore\", category=DeprecationWarning) \n",
    "warnings.filterwarnings(\"ignore\", category=FutureWarning) \n",
    "warnings.filterwarnings(\"ignore\", category=UserWarning)"
   ]
  },
  {
   "cell_type": "markdown",
   "id": "d20d780e-9825-408f-be50-70530f23b8e9",
   "metadata": {},
   "source": [
    "## Business Objective\n",
    "### Churn prediction\n",
    "\n",
    "Predict if a bank's customers is likely to leave or not"
   ]
  },
  {
   "cell_type": "markdown",
   "id": "b3becf4d-2415-4e03-abbf-899306a4f79b",
   "metadata": {},
   "source": [
    "### Setup"
   ]
  },
  {
   "cell_type": "code",
   "execution_count": 3,
   "id": "fabaf27e-4967-4e16-8db8-243f443eb35a",
   "metadata": {
    "tags": []
   },
   "outputs": [],
   "source": [
    "import os\n",
    "from ds_capability import FeatureSelect, FeatureEngineer, FeatureTransform, AutoML, Controller"
   ]
  },
  {
   "cell_type": "code",
   "execution_count": 4,
   "id": "d71dae98-b6ad-4eb5-94ff-aac22d74df1e",
   "metadata": {},
   "outputs": [],
   "source": [
    "os.environ['HADRON_PM_PATH'] = './hadron/churn'\n",
    "\n",
    "os.environ['HADRON_CHURN_SOURCE_PATH'] = 'https://raw.githubusercontent.com/project-hadron/hadron-asset-bank/master/datasets/toy_sample/churn.csv'\n",
    "os.environ['HADRON_CHURN_PERSIST_PATH'] = './hadron/data/hadron_docs_churn_predict.parquet'"
   ]
  },
  {
   "cell_type": "markdown",
   "id": "94e9eed3-1df5-466f-b723-a8f619837d5e",
   "metadata": {
    "tags": []
   },
   "source": [
    "## Exploratory Data Analysis"
   ]
  },
  {
   "cell_type": "code",
   "execution_count": 5,
   "id": "37dbfe4d-a761-4151-8d64-42a1d556abf2",
   "metadata": {},
   "outputs": [],
   "source": [
    "fs = FeatureSelect.from_memory()\n",
    "\n",
    "tbl = fs.set_source_uri('${HADRON_CHURN_SOURCE_PATH}').load_source_canonical()"
   ]
  },
  {
   "cell_type": "code",
   "execution_count": 6,
   "id": "4cabdf8d-f3c1-4a26-99cc-fca8c4e3acf9",
   "metadata": {},
   "outputs": [
    {
     "data": {
      "text/html": [
       "<style type=\"text/css\">\n",
       "#T_8eb87 th {\n",
       "  font-size: 120%;\n",
       "  text-align: center;\n",
       "}\n",
       "#T_8eb87 .row_heading {\n",
       "  display: none;;\n",
       "}\n",
       "#T_8eb87  .blank {\n",
       "  display: none;;\n",
       "}\n",
       "#T_8eb87_row0_col0, #T_8eb87_row1_col0, #T_8eb87_row2_col0, #T_8eb87_row3_col0, #T_8eb87_row4_col0, #T_8eb87_row5_col0, #T_8eb87_row6_col0, #T_8eb87_row7_col0, #T_8eb87_row8_col0, #T_8eb87_row9_col0, #T_8eb87_row10_col0, #T_8eb87_row11_col0, #T_8eb87_row12_col0, #T_8eb87_row13_col0 {\n",
       "  font-weight: bold;\n",
       "  font-size: 120%;\n",
       "}\n",
       "#T_8eb87_row0_col1, #T_8eb87_row1_col1, #T_8eb87_row3_col1, #T_8eb87_row6_col1, #T_8eb87_row7_col1, #T_8eb87_row9_col1, #T_8eb87_row10_col1, #T_8eb87_row11_col1, #T_8eb87_row13_col1 {\n",
       "  color: #0f398a;\n",
       "}\n",
       "#T_8eb87_row0_col2, #T_8eb87_row0_col3, #T_8eb87_row0_col5, #T_8eb87_row1_col2, #T_8eb87_row1_col3, #T_8eb87_row1_col5, #T_8eb87_row2_col2, #T_8eb87_row2_col3, #T_8eb87_row2_col5, #T_8eb87_row3_col2, #T_8eb87_row3_col3, #T_8eb87_row3_col5, #T_8eb87_row4_col2, #T_8eb87_row4_col3, #T_8eb87_row5_col2, #T_8eb87_row5_col3, #T_8eb87_row6_col2, #T_8eb87_row6_col3, #T_8eb87_row7_col2, #T_8eb87_row7_col3, #T_8eb87_row8_col2, #T_8eb87_row8_col3, #T_8eb87_row8_col5, #T_8eb87_row9_col2, #T_8eb87_row9_col3, #T_8eb87_row10_col2, #T_8eb87_row11_col2, #T_8eb87_row11_col3, #T_8eb87_row12_col2, #T_8eb87_row12_col3, #T_8eb87_row12_col5, #T_8eb87_row13_col2 {\n",
       "  color: black;\n",
       "}\n",
       "#T_8eb87_row2_col1, #T_8eb87_row4_col1, #T_8eb87_row5_col1 {\n",
       "  color: #761d38;\n",
       "}\n",
       "#T_8eb87_row4_col5, #T_8eb87_row9_col5 {\n",
       "  background-color: #84cc83;\n",
       "  color: black;\n",
       "}\n",
       "#T_8eb87_row5_col5, #T_8eb87_row10_col5, #T_8eb87_row11_col5, #T_8eb87_row13_col5 {\n",
       "  background-color: #a1cbe2;\n",
       "  color: black;\n",
       "}\n",
       "#T_8eb87_row6_col5 {\n",
       "  background-color: #f0f9ed;\n",
       "  color: black;\n",
       "}\n",
       "#T_8eb87_row7_col5 {\n",
       "  background-color: #c1e6ba;\n",
       "  color: black;\n",
       "}\n",
       "#T_8eb87_row10_col3, #T_8eb87_row13_col3 {\n",
       "  background-color: #ffede5;\n",
       "  color: black;\n",
       "}\n",
       "</style>\n",
       "<table id=\"T_8eb87\">\n",
       "  <caption>dataset has 14 columns</caption>\n",
       "  <thead>\n",
       "    <tr>\n",
       "      <th class=\"blank level0\" >&nbsp;</th>\n",
       "      <th id=\"T_8eb87_level0_col0\" class=\"col_heading level0 col0\" >Attributes</th>\n",
       "      <th id=\"T_8eb87_level0_col1\" class=\"col_heading level0 col1\" >DataType</th>\n",
       "      <th id=\"T_8eb87_level0_col2\" class=\"col_heading level0 col2\" >Nulls</th>\n",
       "      <th id=\"T_8eb87_level0_col3\" class=\"col_heading level0 col3\" >Dominate</th>\n",
       "      <th id=\"T_8eb87_level0_col4\" class=\"col_heading level0 col4\" >Valid</th>\n",
       "      <th id=\"T_8eb87_level0_col5\" class=\"col_heading level0 col5\" >Unique</th>\n",
       "      <th id=\"T_8eb87_level0_col6\" class=\"col_heading level0 col6\" >Observations</th>\n",
       "    </tr>\n",
       "  </thead>\n",
       "  <tbody>\n",
       "    <tr>\n",
       "      <th id=\"T_8eb87_level0_row0\" class=\"row_heading level0 row0\" >0</th>\n",
       "      <td id=\"T_8eb87_row0_col0\" class=\"data row0 col0\" >RowNumber</td>\n",
       "      <td id=\"T_8eb87_row0_col1\" class=\"data row0 col1\" >int64</td>\n",
       "      <td id=\"T_8eb87_row0_col2\" class=\"data row0 col2\" >0.0%</td>\n",
       "      <td id=\"T_8eb87_row0_col3\" class=\"data row0 col3\" >0.0%</td>\n",
       "      <td id=\"T_8eb87_row0_col4\" class=\"data row0 col4\" >10000</td>\n",
       "      <td id=\"T_8eb87_row0_col5\" class=\"data row0 col5\" >10000</td>\n",
       "      <td id=\"T_8eb87_row0_col6\" class=\"data row0 col6\" >[1, 2, 3, 4, 5, 6, 7, 8, 9, 10, 11, 12, 13, 14, 15...</td>\n",
       "    </tr>\n",
       "    <tr>\n",
       "      <th id=\"T_8eb87_level0_row1\" class=\"row_heading level0 row1\" >1</th>\n",
       "      <td id=\"T_8eb87_row1_col0\" class=\"data row1 col0\" >CustomerId</td>\n",
       "      <td id=\"T_8eb87_row1_col1\" class=\"data row1 col1\" >int64</td>\n",
       "      <td id=\"T_8eb87_row1_col2\" class=\"data row1 col2\" >0.0%</td>\n",
       "      <td id=\"T_8eb87_row1_col3\" class=\"data row1 col3\" >0.0%</td>\n",
       "      <td id=\"T_8eb87_row1_col4\" class=\"data row1 col4\" >10000</td>\n",
       "      <td id=\"T_8eb87_row1_col5\" class=\"data row1 col5\" >10000</td>\n",
       "      <td id=\"T_8eb87_row1_col6\" class=\"data row1 col6\" >[15634602, 15647311, 15619304, 15701354, 15737888,...</td>\n",
       "    </tr>\n",
       "    <tr>\n",
       "      <th id=\"T_8eb87_level0_row2\" class=\"row_heading level0 row2\" >2</th>\n",
       "      <td id=\"T_8eb87_row2_col0\" class=\"data row2 col0\" >Surname</td>\n",
       "      <td id=\"T_8eb87_row2_col1\" class=\"data row2 col1\" >string</td>\n",
       "      <td id=\"T_8eb87_row2_col2\" class=\"data row2 col2\" >0.0%</td>\n",
       "      <td id=\"T_8eb87_row2_col3\" class=\"data row2 col3\" >0.3%</td>\n",
       "      <td id=\"T_8eb87_row2_col4\" class=\"data row2 col4\" >10000</td>\n",
       "      <td id=\"T_8eb87_row2_col5\" class=\"data row2 col5\" >2932</td>\n",
       "      <td id=\"T_8eb87_row2_col6\" class=\"data row2 col6\" >['Smith', 'Scott', 'Martin', 'Walker', 'Brown', 'S...</td>\n",
       "    </tr>\n",
       "    <tr>\n",
       "      <th id=\"T_8eb87_level0_row3\" class=\"row_heading level0 row3\" >3</th>\n",
       "      <td id=\"T_8eb87_row3_col0\" class=\"data row3 col0\" >CreditScore</td>\n",
       "      <td id=\"T_8eb87_row3_col1\" class=\"data row3 col1\" >int64</td>\n",
       "      <td id=\"T_8eb87_row3_col2\" class=\"data row3 col2\" >0.0%</td>\n",
       "      <td id=\"T_8eb87_row3_col3\" class=\"data row3 col3\" >2.3%</td>\n",
       "      <td id=\"T_8eb87_row3_col4\" class=\"data row3 col4\" >10000</td>\n",
       "      <td id=\"T_8eb87_row3_col5\" class=\"data row3 col5\" >460</td>\n",
       "      <td id=\"T_8eb87_row3_col6\" class=\"data row3 col6\" >[850, 678, 655, 667, 705, 684, 670, 651, 660, 652,...</td>\n",
       "    </tr>\n",
       "    <tr>\n",
       "      <th id=\"T_8eb87_level0_row4\" class=\"row_heading level0 row4\" >4</th>\n",
       "      <td id=\"T_8eb87_row4_col0\" class=\"data row4 col0\" >Geography</td>\n",
       "      <td id=\"T_8eb87_row4_col1\" class=\"data row4 col1\" >string</td>\n",
       "      <td id=\"T_8eb87_row4_col2\" class=\"data row4 col2\" >0.0%</td>\n",
       "      <td id=\"T_8eb87_row4_col3\" class=\"data row4 col3\" >50.1%</td>\n",
       "      <td id=\"T_8eb87_row4_col4\" class=\"data row4 col4\" >10000</td>\n",
       "      <td id=\"T_8eb87_row4_col5\" class=\"data row4 col5\" >3</td>\n",
       "      <td id=\"T_8eb87_row4_col6\" class=\"data row4 col6\" >['France', 'Germany', 'Spain']</td>\n",
       "    </tr>\n",
       "    <tr>\n",
       "      <th id=\"T_8eb87_level0_row5\" class=\"row_heading level0 row5\" >5</th>\n",
       "      <td id=\"T_8eb87_row5_col0\" class=\"data row5 col0\" >Gender</td>\n",
       "      <td id=\"T_8eb87_row5_col1\" class=\"data row5 col1\" >string</td>\n",
       "      <td id=\"T_8eb87_row5_col2\" class=\"data row5 col2\" >0.0%</td>\n",
       "      <td id=\"T_8eb87_row5_col3\" class=\"data row5 col3\" >54.6%</td>\n",
       "      <td id=\"T_8eb87_row5_col4\" class=\"data row5 col4\" >10000</td>\n",
       "      <td id=\"T_8eb87_row5_col5\" class=\"data row5 col5\" >2</td>\n",
       "      <td id=\"T_8eb87_row5_col6\" class=\"data row5 col6\" >['Male', 'Female']</td>\n",
       "    </tr>\n",
       "    <tr>\n",
       "      <th id=\"T_8eb87_level0_row6\" class=\"row_heading level0 row6\" >6</th>\n",
       "      <td id=\"T_8eb87_row6_col0\" class=\"data row6 col0\" >Age</td>\n",
       "      <td id=\"T_8eb87_row6_col1\" class=\"data row6 col1\" >int64</td>\n",
       "      <td id=\"T_8eb87_row6_col2\" class=\"data row6 col2\" >0.0%</td>\n",
       "      <td id=\"T_8eb87_row6_col3\" class=\"data row6 col3\" >4.8%</td>\n",
       "      <td id=\"T_8eb87_row6_col4\" class=\"data row6 col4\" >10000</td>\n",
       "      <td id=\"T_8eb87_row6_col5\" class=\"data row6 col5\" >70</td>\n",
       "      <td id=\"T_8eb87_row6_col6\" class=\"data row6 col6\" >[37, 38, 35, 36, 34, 33, 40, 39, 32, 31, 41, 29, 3...</td>\n",
       "    </tr>\n",
       "    <tr>\n",
       "      <th id=\"T_8eb87_level0_row7\" class=\"row_heading level0 row7\" >7</th>\n",
       "      <td id=\"T_8eb87_row7_col0\" class=\"data row7 col0\" >Tenure</td>\n",
       "      <td id=\"T_8eb87_row7_col1\" class=\"data row7 col1\" >int64</td>\n",
       "      <td id=\"T_8eb87_row7_col2\" class=\"data row7 col2\" >0.0%</td>\n",
       "      <td id=\"T_8eb87_row7_col3\" class=\"data row7 col3\" >10.5%</td>\n",
       "      <td id=\"T_8eb87_row7_col4\" class=\"data row7 col4\" >10000</td>\n",
       "      <td id=\"T_8eb87_row7_col5\" class=\"data row7 col5\" >11</td>\n",
       "      <td id=\"T_8eb87_row7_col6\" class=\"data row7 col6\" >[2, 1, 7, 8, 5, 3, 4, 9, 6, 10, 0]</td>\n",
       "    </tr>\n",
       "    <tr>\n",
       "      <th id=\"T_8eb87_level0_row8\" class=\"row_heading level0 row8\" >8</th>\n",
       "      <td id=\"T_8eb87_row8_col0\" class=\"data row8 col0\" >Balance</td>\n",
       "      <td id=\"T_8eb87_row8_col1\" class=\"data row8 col1\" >double</td>\n",
       "      <td id=\"T_8eb87_row8_col2\" class=\"data row8 col2\" >0.0%</td>\n",
       "      <td id=\"T_8eb87_row8_col3\" class=\"data row8 col3\" >36.2%</td>\n",
       "      <td id=\"T_8eb87_row8_col4\" class=\"data row8 col4\" >10000</td>\n",
       "      <td id=\"T_8eb87_row8_col5\" class=\"data row8 col5\" >6382</td>\n",
       "      <td id=\"T_8eb87_row8_col6\" class=\"data row8 col6\" >[0.0, 130170.82, 105473.74, 83807.86, 159660.8, 12...</td>\n",
       "    </tr>\n",
       "    <tr>\n",
       "      <th id=\"T_8eb87_level0_row9\" class=\"row_heading level0 row9\" >9</th>\n",
       "      <td id=\"T_8eb87_row9_col0\" class=\"data row9 col0\" >NumOfProducts</td>\n",
       "      <td id=\"T_8eb87_row9_col1\" class=\"data row9 col1\" >int64</td>\n",
       "      <td id=\"T_8eb87_row9_col2\" class=\"data row9 col2\" >0.0%</td>\n",
       "      <td id=\"T_8eb87_row9_col3\" class=\"data row9 col3\" >50.8%</td>\n",
       "      <td id=\"T_8eb87_row9_col4\" class=\"data row9 col4\" >10000</td>\n",
       "      <td id=\"T_8eb87_row9_col5\" class=\"data row9 col5\" >4</td>\n",
       "      <td id=\"T_8eb87_row9_col6\" class=\"data row9 col6\" >[1, 2, 3, 4]</td>\n",
       "    </tr>\n",
       "    <tr>\n",
       "      <th id=\"T_8eb87_level0_row10\" class=\"row_heading level0 row10\" >10</th>\n",
       "      <td id=\"T_8eb87_row10_col0\" class=\"data row10 col0\" >HasCrCard</td>\n",
       "      <td id=\"T_8eb87_row10_col1\" class=\"data row10 col1\" >int64</td>\n",
       "      <td id=\"T_8eb87_row10_col2\" class=\"data row10 col2\" >0.0%</td>\n",
       "      <td id=\"T_8eb87_row10_col3\" class=\"data row10 col3\" >70.6%</td>\n",
       "      <td id=\"T_8eb87_row10_col4\" class=\"data row10 col4\" >10000</td>\n",
       "      <td id=\"T_8eb87_row10_col5\" class=\"data row10 col5\" >2</td>\n",
       "      <td id=\"T_8eb87_row10_col6\" class=\"data row10 col6\" >[1, 0]</td>\n",
       "    </tr>\n",
       "    <tr>\n",
       "      <th id=\"T_8eb87_level0_row11\" class=\"row_heading level0 row11\" >11</th>\n",
       "      <td id=\"T_8eb87_row11_col0\" class=\"data row11 col0\" >IsActiveMember</td>\n",
       "      <td id=\"T_8eb87_row11_col1\" class=\"data row11 col1\" >int64</td>\n",
       "      <td id=\"T_8eb87_row11_col2\" class=\"data row11 col2\" >0.0%</td>\n",
       "      <td id=\"T_8eb87_row11_col3\" class=\"data row11 col3\" >51.5%</td>\n",
       "      <td id=\"T_8eb87_row11_col4\" class=\"data row11 col4\" >10000</td>\n",
       "      <td id=\"T_8eb87_row11_col5\" class=\"data row11 col5\" >2</td>\n",
       "      <td id=\"T_8eb87_row11_col6\" class=\"data row11 col6\" >[1, 0]</td>\n",
       "    </tr>\n",
       "    <tr>\n",
       "      <th id=\"T_8eb87_level0_row12\" class=\"row_heading level0 row12\" >12</th>\n",
       "      <td id=\"T_8eb87_row12_col0\" class=\"data row12 col0\" >EstimatedSalary</td>\n",
       "      <td id=\"T_8eb87_row12_col1\" class=\"data row12 col1\" >double</td>\n",
       "      <td id=\"T_8eb87_row12_col2\" class=\"data row12 col2\" >0.0%</td>\n",
       "      <td id=\"T_8eb87_row12_col3\" class=\"data row12 col3\" >0.0%</td>\n",
       "      <td id=\"T_8eb87_row12_col4\" class=\"data row12 col4\" >10000</td>\n",
       "      <td id=\"T_8eb87_row12_col5\" class=\"data row12 col5\" >9999</td>\n",
       "      <td id=\"T_8eb87_row12_col6\" class=\"data row12 col6\" >[24924.92, 101348.88, 112542.58, 113931.57, 93826....</td>\n",
       "    </tr>\n",
       "    <tr>\n",
       "      <th id=\"T_8eb87_level0_row13\" class=\"row_heading level0 row13\" >13</th>\n",
       "      <td id=\"T_8eb87_row13_col0\" class=\"data row13 col0\" >Exited</td>\n",
       "      <td id=\"T_8eb87_row13_col1\" class=\"data row13 col1\" >int64</td>\n",
       "      <td id=\"T_8eb87_row13_col2\" class=\"data row13 col2\" >0.0%</td>\n",
       "      <td id=\"T_8eb87_row13_col3\" class=\"data row13 col3\" >79.6%</td>\n",
       "      <td id=\"T_8eb87_row13_col4\" class=\"data row13 col4\" >10000</td>\n",
       "      <td id=\"T_8eb87_row13_col5\" class=\"data row13 col5\" >2</td>\n",
       "      <td id=\"T_8eb87_row13_col6\" class=\"data row13 col6\" >[0, 1]</td>\n",
       "    </tr>\n",
       "  </tbody>\n",
       "</table>\n"
      ],
      "text/plain": [
       "<pandas.io.formats.style.Styler at 0x7fd4e291bcd0>"
      ]
     },
     "execution_count": 6,
     "metadata": {},
     "output_type": "execute_result"
    }
   ],
   "source": [
    "fs.canonical_report(tbl)"
   ]
  },
  {
   "cell_type": "markdown",
   "id": "f948524b-29ac-49ca-a365-834e9bdba52c",
   "metadata": {},
   "source": [
    "## Preprocessing"
   ]
  },
  {
   "cell_type": "markdown",
   "id": "1f71f696-a0da-44c6-8fcb-189325c0202f",
   "metadata": {},
   "source": [
    "### Feature Selection"
   ]
  },
  {
   "cell_type": "code",
   "execution_count": 7,
   "id": "968df298-798a-473c-ba28-ecb7f9eefaa3",
   "metadata": {},
   "outputs": [
    {
     "data": {
      "text/plain": [
       "<ds_capability.components.feature_select.FeatureSelect at 0x7fd4e291b790>"
      ]
     },
     "execution_count": 7,
     "metadata": {},
     "output_type": "execute_result"
    },
    {
     "data": {
      "text/plain": [
       "<ds_capability.components.feature_select.FeatureSelect at 0x7fd4e291b790>"
      ]
     },
     "execution_count": 7,
     "metadata": {},
     "output_type": "execute_result"
    },
    {
     "data": {
      "text/plain": [
       "<ds_capability.components.feature_select.FeatureSelect at 0x7fd4e291b790>"
      ]
     },
     "execution_count": 7,
     "metadata": {},
     "output_type": "execute_result"
    }
   ],
   "source": [
    "fs = FeatureSelect.from_env('churn', has_contract=False)\n",
    "\n",
    "fs.set_source_uri('${HADRON_CHURN_SOURCE_PATH}')\n",
    "fs.set_persist_uri('event://select')\n",
    "\n",
    "# extract label\n",
    "fs.add_connector_uri('label', uri='event://label')\n",
    "\n",
    "tbl = fs.load_source_canonical()"
   ]
  },
  {
   "cell_type": "code",
   "execution_count": 8,
   "id": "798a6c4d-a487-4fde-9e70-e238feacf785",
   "metadata": {},
   "outputs": [],
   "source": [
    "# label\n",
    "label = fs.tools.auto_drop_columns(tbl, headers=['Exited'], drop=True)\n",
    "fs.save_canonical('label', label)"
   ]
  },
  {
   "cell_type": "code",
   "execution_count": 9,
   "id": "ef2e21a3-1d68-4c66-8dc8-f6e1755beceb",
   "metadata": {},
   "outputs": [],
   "source": [
    "tbl = fs.tools.auto_drop_columns(tbl, headers=['Surname', 'RowNumber', 'Exited'])"
   ]
  },
  {
   "cell_type": "code",
   "execution_count": 10,
   "id": "87fd4feb-b4cb-42f3-9e0f-0336b60ca8b1",
   "metadata": {},
   "outputs": [],
   "source": [
    "fs.run_component_pipeline()"
   ]
  },
  {
   "cell_type": "markdown",
   "id": "9a61b005-297c-4410-9387-289df44846cc",
   "metadata": {},
   "source": [
    "### Feature Transformation"
   ]
  },
  {
   "cell_type": "code",
   "execution_count": 11,
   "id": "48c4a7a8-5d7c-48aa-97b4-761dbdb389b2",
   "metadata": {},
   "outputs": [
    {
     "data": {
      "text/plain": [
       "<ds_capability.components.feature_transform.FeatureTransform at 0x7fd4e492ebc0>"
      ]
     },
     "execution_count": 11,
     "metadata": {},
     "output_type": "execute_result"
    },
    {
     "data": {
      "text/plain": [
       "<ds_capability.components.feature_transform.FeatureTransform at 0x7fd4e492ebc0>"
      ]
     },
     "execution_count": 11,
     "metadata": {},
     "output_type": "execute_result"
    }
   ],
   "source": [
    "ft = FeatureTransform.from_env('churn', has_contract=False)\n",
    "\n",
    "ft.set_source_uri('event://select')\n",
    "ft.set_persist_uri('event://transform')\n",
    "\n",
    "tbl = ft.load_source_canonical()"
   ]
  },
  {
   "cell_type": "markdown",
   "id": "fb5bc016-4178-4f82-a081-bc63f7d8436b",
   "metadata": {},
   "source": [
    "#### Encode"
   ]
  },
  {
   "cell_type": "code",
   "execution_count": 12,
   "id": "34490a8d-3a5e-47cf-9612-3fb3c1b9cc9a",
   "metadata": {},
   "outputs": [],
   "source": [
    "# robust encode to negate outliers\n",
    "tbl = ft.tools.encode_category_one_hot(tbl, headers=['Gender', 'Geography'], drop_first=True)"
   ]
  },
  {
   "cell_type": "markdown",
   "id": "4730d4b1-97e3-4457-9a52-74ac5632fe7e",
   "metadata": {},
   "source": [
    "#### Discretize"
   ]
  },
  {
   "cell_type": "code",
   "execution_count": 13,
   "id": "ea55c4bb-fdaa-4573-86a6-4673b6ed3d5c",
   "metadata": {},
   "outputs": [],
   "source": [
    "tbl = ft.tools.discrete_quantiles(tbl, header='CreditScore', interval=6, categories=False, to_header='DiscreteCredit')\n",
    "tbl = ft.tools.discrete_quantiles(tbl, header='Age', interval=8, categories=False, to_header='DiscreteAge')\n",
    "tbl = ft.tools.discrete_quantiles(tbl, header='EstimatedSalary', interval=10, categories=False, to_header='DiscreteSalary')\n",
    "\n",
    "# sparse data so rank values to negate predominance of zero's\n",
    "tbl = ft.tools.discrete_quantiles(tbl, header='Balance', interval=5, categories=False, duplicates='rank', to_header='DiscreteBalance')"
   ]
  },
  {
   "cell_type": "markdown",
   "id": "b7162af0-d22a-47fe-a105-4bf166bc0504",
   "metadata": {
    "tags": []
   },
   "source": [
    "#### Scale"
   ]
  },
  {
   "cell_type": "code",
   "execution_count": 14,
   "id": "89f8069f-00ab-4698-ab11-4d8d8a40a0d3",
   "metadata": {},
   "outputs": [],
   "source": [
    "# hypothesis: customers that are older have better tenure\n",
    "tbl = ft.tools.scale_mapping(tbl, 'Tenure', 'Age', to_header='TenureAge')\n",
    "\n",
    "tbl = ft.tools.scale_normalize(tbl, scalar='robust', headers=['CreditScore','Age','Balance','EstimatedSalary','TenureAge'])"
   ]
  },
  {
   "cell_type": "code",
   "execution_count": 15,
   "id": "8b698255-da6d-4a0e-b916-c5d05644f818",
   "metadata": {},
   "outputs": [],
   "source": [
    "ft.run_component_pipeline()"
   ]
  },
  {
   "cell_type": "markdown",
   "id": "d21a9501-0f5a-4213-a50c-9d6526962e7a",
   "metadata": {},
   "source": [
    "## Model Discovery"
   ]
  },
  {
   "cell_type": "code",
   "execution_count": 16,
   "id": "7e1fb04b-4ad6-4840-8b5b-465f8af7b91e",
   "metadata": {},
   "outputs": [],
   "source": [
    "import numpy as np\n",
    "from sklearn.model_selection import cross_val_predict\n",
    "from sklearn.metrics import confusion_matrix, classification_report, f1_score, precision_score, recall_score, roc_auc_score, roc_curve\n",
    "from sklearn.linear_model import LogisticRegression  \n",
    "from sklearn.neighbors import KNeighborsClassifier  \n",
    "from sklearn.svm import SVC\n",
    "from sklearn.ensemble import GradientBoostingClassifier\n",
    "from sklearn.tree import DecisionTreeClassifier \n",
    "from sklearn.ensemble import RandomForestClassifier\n",
    "from sklearn.model_selection import train_test_split\n",
    "from sklearn import preprocessing\n",
    "from sklearn.metrics import accuracy_score,recall_score\n",
    "from sklearn.model_selection import KFold\n",
    "from sklearn.model_selection import cross_val_score, GridSearchCV\n",
    "from xgboost import XGBClassifier"
   ]
  },
  {
   "cell_type": "code",
   "execution_count": 17,
   "id": "35a35090-5e56-4670-99d8-5473f10cee04",
   "metadata": {},
   "outputs": [
    {
     "data": {
      "text/plain": [
       "<ds_capability.components.automl.AutoML at 0x7fd4e4993100>"
      ]
     },
     "execution_count": 17,
     "metadata": {},
     "output_type": "execute_result"
    },
    {
     "data": {
      "text/plain": [
       "<ds_capability.components.automl.AutoML at 0x7fd4e4993100>"
      ]
     },
     "execution_count": 17,
     "metadata": {},
     "output_type": "execute_result"
    }
   ],
   "source": [
    "aml = AutoML.from_env('churn', has_contract=False)\n",
    "\n",
    "aml.set_source_uri('event://transform')\n",
    "aml.set_persist_uri('event://automl')\n",
    "\n",
    "tbl = aml.load_source_canonical()\n",
    "aml.save_persist_canonical(tbl)"
   ]
  },
  {
   "cell_type": "code",
   "execution_count": 18,
   "id": "36824786-39fb-4ada-8e83-d43ea2c6f582",
   "metadata": {},
   "outputs": [],
   "source": [
    "X = np.asarray(tbl.drop_columns('CustomerId'))\n",
    "y = np.asarray(label)\n",
    "\n",
    "X_train, X_test, y_train, y_test = train_test_split(X, y, test_size=0.1)"
   ]
  },
  {
   "cell_type": "code",
   "execution_count": 19,
   "id": "c9492bad-e182-4930-963b-9932e96e0ff5",
   "metadata": {},
   "outputs": [
    {
     "name": "stdout",
     "output_type": "stream",
     "text": [
      "LR: 0.811500 (0.009405)\n",
      "KNN: 0.831800 (0.010352)\n",
      "CART: 0.785900 (0.008904)\n",
      "RF: 0.863800 (0.009867)\n",
      "SVR: 0.851200 (0.008085)\n",
      "XGB: 0.852600 (0.008345)\n",
      "GB: 0.864600 (0.009457)\n"
     ]
    }
   ],
   "source": [
    "models = [('LR', LogisticRegression(random_state=123456)),\n",
    "          ('KNN', KNeighborsClassifier()),\n",
    "          ('CART', DecisionTreeClassifier(random_state=123456)),\n",
    "          ('RF', RandomForestClassifier(random_state=123456)),\n",
    "          ('SVR', SVC(gamma='auto',random_state=123456)),\n",
    "          ('XGB', XGBClassifier(random_state=123456)),\n",
    "          ('GB', GradientBoostingClassifier(random_state=123456))]\n",
    "results = []\n",
    "names = []\n",
    "for name, model in models:\n",
    "    kfold = KFold(n_splits=10)\n",
    "    cv_results = cross_val_score(model, X, y, cv=kfold)\n",
    "    results.append(cv_results)\n",
    "    names.append(name)\n",
    "    msg = \"%s: %f (%f)\" % (name, cv_results.mean(), cv_results.std())\n",
    "    print(msg)"
   ]
  },
  {
   "cell_type": "code",
   "execution_count": 20,
   "id": "0b389497-cc45-4777-bf01-a0af7634752d",
   "metadata": {},
   "outputs": [
    {
     "data": {
      "text/html": [
       "<style>#sk-container-id-1 {color: black;background-color: white;}#sk-container-id-1 pre{padding: 0;}#sk-container-id-1 div.sk-toggleable {background-color: white;}#sk-container-id-1 label.sk-toggleable__label {cursor: pointer;display: block;width: 100%;margin-bottom: 0;padding: 0.3em;box-sizing: border-box;text-align: center;}#sk-container-id-1 label.sk-toggleable__label-arrow:before {content: \"▸\";float: left;margin-right: 0.25em;color: #696969;}#sk-container-id-1 label.sk-toggleable__label-arrow:hover:before {color: black;}#sk-container-id-1 div.sk-estimator:hover label.sk-toggleable__label-arrow:before {color: black;}#sk-container-id-1 div.sk-toggleable__content {max-height: 0;max-width: 0;overflow: hidden;text-align: left;background-color: #f0f8ff;}#sk-container-id-1 div.sk-toggleable__content pre {margin: 0.2em;color: black;border-radius: 0.25em;background-color: #f0f8ff;}#sk-container-id-1 input.sk-toggleable__control:checked~div.sk-toggleable__content {max-height: 200px;max-width: 100%;overflow: auto;}#sk-container-id-1 input.sk-toggleable__control:checked~label.sk-toggleable__label-arrow:before {content: \"▾\";}#sk-container-id-1 div.sk-estimator input.sk-toggleable__control:checked~label.sk-toggleable__label {background-color: #d4ebff;}#sk-container-id-1 div.sk-label input.sk-toggleable__control:checked~label.sk-toggleable__label {background-color: #d4ebff;}#sk-container-id-1 input.sk-hidden--visually {border: 0;clip: rect(1px 1px 1px 1px);clip: rect(1px, 1px, 1px, 1px);height: 1px;margin: -1px;overflow: hidden;padding: 0;position: absolute;width: 1px;}#sk-container-id-1 div.sk-estimator {font-family: monospace;background-color: #f0f8ff;border: 1px dotted black;border-radius: 0.25em;box-sizing: border-box;margin-bottom: 0.5em;}#sk-container-id-1 div.sk-estimator:hover {background-color: #d4ebff;}#sk-container-id-1 div.sk-parallel-item::after {content: \"\";width: 100%;border-bottom: 1px solid gray;flex-grow: 1;}#sk-container-id-1 div.sk-label:hover label.sk-toggleable__label {background-color: #d4ebff;}#sk-container-id-1 div.sk-serial::before {content: \"\";position: absolute;border-left: 1px solid gray;box-sizing: border-box;top: 0;bottom: 0;left: 50%;z-index: 0;}#sk-container-id-1 div.sk-serial {display: flex;flex-direction: column;align-items: center;background-color: white;padding-right: 0.2em;padding-left: 0.2em;position: relative;}#sk-container-id-1 div.sk-item {position: relative;z-index: 1;}#sk-container-id-1 div.sk-parallel {display: flex;align-items: stretch;justify-content: center;background-color: white;position: relative;}#sk-container-id-1 div.sk-item::before, #sk-container-id-1 div.sk-parallel-item::before {content: \"\";position: absolute;border-left: 1px solid gray;box-sizing: border-box;top: 0;bottom: 0;left: 50%;z-index: -1;}#sk-container-id-1 div.sk-parallel-item {display: flex;flex-direction: column;z-index: 1;position: relative;background-color: white;}#sk-container-id-1 div.sk-parallel-item:first-child::after {align-self: flex-end;width: 50%;}#sk-container-id-1 div.sk-parallel-item:last-child::after {align-self: flex-start;width: 50%;}#sk-container-id-1 div.sk-parallel-item:only-child::after {width: 0;}#sk-container-id-1 div.sk-dashed-wrapped {border: 1px dashed gray;margin: 0 0.4em 0.5em 0.4em;box-sizing: border-box;padding-bottom: 0.4em;background-color: white;}#sk-container-id-1 div.sk-label label {font-family: monospace;font-weight: bold;display: inline-block;line-height: 1.2em;}#sk-container-id-1 div.sk-label-container {text-align: center;}#sk-container-id-1 div.sk-container {/* jupyter's `normalize.less` sets `[hidden] { display: none; }` but bootstrap.min.css set `[hidden] { display: none !important; }` so we also need the `!important` here to be able to override the default hidden behavior on the sphinx rendered scikit-learn.org. See: https://github.com/scikit-learn/scikit-learn/issues/21755 */display: inline-block !important;position: relative;}#sk-container-id-1 div.sk-text-repr-fallback {display: none;}</style><div id=\"sk-container-id-1\" class=\"sk-top-container\"><div class=\"sk-text-repr-fallback\"><pre>GradientBoostingClassifier(random_state=12345)</pre><b>In a Jupyter environment, please rerun this cell to show the HTML representation or trust the notebook. <br />On GitHub, the HTML representation is unable to render, please try loading this page with nbviewer.org.</b></div><div class=\"sk-container\" hidden><div class=\"sk-item\"><div class=\"sk-estimator sk-toggleable\"><input class=\"sk-toggleable__control sk-hidden--visually\" id=\"sk-estimator-id-1\" type=\"checkbox\" checked><label for=\"sk-estimator-id-1\" class=\"sk-toggleable__label sk-toggleable__label-arrow\">GradientBoostingClassifier</label><div class=\"sk-toggleable__content\"><pre>GradientBoostingClassifier(random_state=12345)</pre></div></div></div></div></div>"
      ],
      "text/plain": [
       "GradientBoostingClassifier(random_state=12345)"
      ]
     },
     "execution_count": 20,
     "metadata": {},
     "output_type": "execute_result"
    },
    {
     "data": {
      "text/plain": [
       "array([[769, 100],\n",
       "       [ 30, 101]])"
      ]
     },
     "execution_count": 20,
     "metadata": {},
     "output_type": "execute_result"
    }
   ],
   "source": [
    "# GB Confusion Matrix\n",
    "model_GB = GradientBoostingClassifier(random_state=12345)\n",
    "model_GB.fit(X_train, y_train)\n",
    "y_pred = model_GB.predict(X_test)\n",
    "conf_mat = confusion_matrix(y_pred,y_test)\n",
    "conf_mat"
   ]
  },
  {
   "cell_type": "code",
   "execution_count": 21,
   "id": "b5e42bf4-e7e9-4f9c-978b-1b64baa103cf",
   "metadata": {},
   "outputs": [
    {
     "name": "stdout",
     "output_type": "stream",
     "text": [
      "True Positive :  101\n",
      "True Negative :  769\n",
      "False Positive:  100\n",
      "False Negative:  30\n"
     ]
    }
   ],
   "source": [
    "print(\"True Positive : \", conf_mat[1, 1])\n",
    "print(\"True Negative : \", conf_mat[0, 0])\n",
    "print(\"False Positive: \", conf_mat[0, 1])\n",
    "print(\"False Negative: \", conf_mat[1, 0])"
   ]
  },
  {
   "cell_type": "code",
   "execution_count": 22,
   "id": "3f9fedd2-26b1-4e2e-937f-9aee0ca5cb7e",
   "metadata": {},
   "outputs": [
    {
     "name": "stdout",
     "output_type": "stream",
     "text": [
      "              precision    recall  f1-score   support\n",
      "\n",
      "           0       0.96      0.88      0.92       869\n",
      "           1       0.50      0.77      0.61       131\n",
      "\n",
      "    accuracy                           0.87      1000\n",
      "   macro avg       0.73      0.83      0.77      1000\n",
      "weighted avg       0.90      0.87      0.88      1000\n",
      "\n"
     ]
    }
   ],
   "source": [
    "# Classification Report for XGB Model\n",
    "print(classification_report(model_GB.predict(X_test),y_test))"
   ]
  },
  {
   "cell_type": "markdown",
   "id": "fc7b889e-2b8d-4002-b7dc-42df823a1be8",
   "metadata": {},
   "source": [
    "## Classifier Predict"
   ]
  },
  {
   "cell_type": "code",
   "execution_count": 23,
   "id": "dad9d0b3-0424-4b55-a480-6f31485b71b4",
   "metadata": {},
   "outputs": [
    {
     "data": {
      "text/plain": [
       "<ds_capability.components.automl.AutoML at 0x7fd4e4993100>"
      ]
     },
     "execution_count": 23,
     "metadata": {},
     "output_type": "execute_result"
    },
    {
     "data": {
      "text/plain": [
       "<ds_capability.components.automl.AutoML at 0x7fd4e4993100>"
      ]
     },
     "execution_count": 23,
     "metadata": {},
     "output_type": "execute_result"
    }
   ],
   "source": [
    "# reset the connectors\n",
    "aml.set_source_uri('event://transform')\n",
    "aml.set_persist_uri('${HADRON_CHURN_PERSIST_PATH}')\n",
    "\n",
    "tbl = aml.load_source_canonical()"
   ]
  },
  {
   "cell_type": "code",
   "execution_count": 24,
   "id": "ebdeb673-12b4-4ae7-8edf-3bc9803907d3",
   "metadata": {},
   "outputs": [],
   "source": [
    "aml.add_trained_model(model_name='GradientBoost', trained_model=model_GB)"
   ]
  },
  {
   "cell_type": "code",
   "execution_count": 25,
   "id": "d91a0c76-3d62-41d9-8c04-f8c9eaa1c312",
   "metadata": {},
   "outputs": [],
   "source": [
    "predict = aml.tools.label_predict(tbl, model_name='GradientBoost', id_header='CustomerId')"
   ]
  },
  {
   "cell_type": "code",
   "execution_count": 26,
   "id": "7a809afe-affc-4b47-b089-952ffb3a784b",
   "metadata": {},
   "outputs": [],
   "source": [
    "aml.run_component_pipeline()"
   ]
  },
  {
   "cell_type": "markdown",
   "id": "41745060-8a1a-4ae2-9adb-34e82b37cd05",
   "metadata": {},
   "source": [
    "## Controller"
   ]
  },
  {
   "cell_type": "code",
   "execution_count": 27,
   "id": "d9ce4f3f-630c-4618-b490-b42b6c171120",
   "metadata": {},
   "outputs": [],
   "source": [
    "ctrl = Controller.from_env(has_contract=False)"
   ]
  },
  {
   "cell_type": "code",
   "execution_count": 28,
   "id": "ae2eac2b-41a5-410c-bcdb-96f8eb2f2cdb",
   "metadata": {},
   "outputs": [
    {
     "data": {
      "text/plain": [
       "(10000, 11)"
      ]
     },
     "execution_count": 28,
     "metadata": {},
     "output_type": "execute_result"
    },
    {
     "data": {
      "text/plain": [
       "(10000, 14)"
      ]
     },
     "execution_count": 28,
     "metadata": {},
     "output_type": "execute_result"
    },
    {
     "data": {
      "text/plain": [
       "(10000, 2)"
      ]
     },
     "execution_count": 28,
     "metadata": {},
     "output_type": "execute_result"
    }
   ],
   "source": [
    "ctrl.register.feature_select('churn')\n",
    "ctrl.register.feature_transform('churn')\n",
    "ctrl.register.automl('churn')"
   ]
  },
  {
   "cell_type": "code",
   "execution_count": 29,
   "id": "180a3ce6-9e60-4579-aed5-4a89f7b1d2da",
   "metadata": {},
   "outputs": [],
   "source": [
    "ctrl.run_controller()"
   ]
  },
  {
   "cell_type": "markdown",
   "id": "650a0184-b18a-4e67-9d7d-f1e60a284d32",
   "metadata": {},
   "source": [
    "### Review Run"
   ]
  },
  {
   "cell_type": "code",
   "execution_count": 30,
   "id": "e5927b5a-7b19-446f-b922-d8e708720522",
   "metadata": {},
   "outputs": [
    {
     "data": {
      "text/plain": [
       "pyarrow.Table\n",
       "CustomerId: int64\n",
       "predict: int64\n",
       "----\n",
       "CustomerId: [[15634602,15647311,15619304,15701354,15737888,...,15606229,15569892,15584532,15682355,15628319]]\n",
       "predict: [[0,0,1,0,0,...,0,0,0,0,0]]"
      ]
     },
     "execution_count": 30,
     "metadata": {},
     "output_type": "execute_result"
    }
   ],
   "source": [
    "AutoML.from_env('churn').load_persist_canonical()"
   ]
  },
  {
   "cell_type": "code",
   "execution_count": null,
   "id": "1d1504f2-1a56-41ce-8e50-986b97c1f1ce",
   "metadata": {},
   "outputs": [],
   "source": []
  }
 ],
 "metadata": {
  "kernelspec": {
   "display_name": "Python 3 (ipykernel)",
   "language": "python",
   "name": "python3"
  },
  "language_info": {
   "codemirror_mode": {
    "name": "ipython",
    "version": 3
   },
   "file_extension": ".py",
   "mimetype": "text/x-python",
   "name": "python",
   "nbconvert_exporter": "python",
   "pygments_lexer": "ipython3",
   "version": "3.10.12"
  }
 },
 "nbformat": 4,
 "nbformat_minor": 5
}
