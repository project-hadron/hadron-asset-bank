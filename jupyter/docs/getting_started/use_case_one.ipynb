{
 "cells": [
  {
   "cell_type": "code",
   "execution_count": 1,
   "id": "e27c6acc-4124-4a54-b5c0-6a0e52e6c27f",
   "metadata": {},
   "outputs": [],
   "source": [
    "# saves you having to use print as all exposed variables are printed in the cell\n",
    "from IPython.core.interactiveshell import InteractiveShell\n",
    "InteractiveShell.ast_node_interactivity = \"all\""
   ]
  },
  {
   "cell_type": "code",
   "execution_count": 2,
   "id": "e8b05cab-9e03-472d-9735-51a1151b484d",
   "metadata": {},
   "outputs": [],
   "source": [
    "# suppress warning message\n",
    "import warnings\n",
    "warnings.filterwarnings(\"ignore\", category=DeprecationWarning) \n",
    "warnings.filterwarnings(\"ignore\", category=FutureWarning) \n",
    "warnings.filterwarnings(\"ignore\", category=UserWarning)"
   ]
  },
  {
   "cell_type": "markdown",
   "id": "d20d780e-9825-408f-be50-70530f23b8e9",
   "metadata": {},
   "source": [
    "## Business Objective\n",
    "### Survival Prediction\n",
    "Predict if a passenger is likely to survive."
   ]
  },
  {
   "cell_type": "markdown",
   "id": "ff751374-e332-46d8-9a33-98027bc46a3f",
   "metadata": {},
   "source": [
    "### Setup"
   ]
  },
  {
   "cell_type": "code",
   "execution_count": 3,
   "id": "fabaf27e-4967-4e16-8db8-243f443eb35a",
   "metadata": {},
   "outputs": [],
   "source": [
    "import os\n",
    "from ds_capability import FeatureSelect, FeatureEngineer, FeatureTransform, AutoML, Controller"
   ]
  },
  {
   "cell_type": "code",
   "execution_count": 4,
   "id": "00bba562-8a70-4b67-b213-7dd7278ecf33",
   "metadata": {},
   "outputs": [],
   "source": [
    "os.environ['HADRON_PREDICT_SOURCE_DATA'] = 'https://raw.githubusercontent.com/project-hadron/hadron-asset-bank/master/datasets/toy_sample/titanic.csv'\n",
    "os.environ['HADRON_PREDICT_PERSIST_DATA'] = './hadron/data/hadron_docs_titanic_predict.parquet'"
   ]
  },
  {
   "cell_type": "markdown",
   "id": "993b627f-6880-457d-bc20-8a57062c45ef",
   "metadata": {
    "tags": []
   },
   "source": [
    "## Exploratory Data Analysis"
   ]
  },
  {
   "cell_type": "code",
   "execution_count": 5,
   "id": "9ce3e553-dbfa-4ddb-b71a-9b223c8d2526",
   "metadata": {},
   "outputs": [],
   "source": [
    "fs = FeatureSelect.from_memory()\n",
    "\n",
    "tbl = fs.set_source_uri('${HADRON_PREDICT_SOURCE_DATA}').load_source_canonical()"
   ]
  },
  {
   "cell_type": "code",
   "execution_count": 6,
   "id": "4cabdf8d-f3c1-4a26-99cc-fca8c4e3acf9",
   "metadata": {},
   "outputs": [
    {
     "data": {
      "text/html": [
       "<style type=\"text/css\">\n",
       "#T_cd98a th {\n",
       "  font-size: 120%;\n",
       "  text-align: center;\n",
       "}\n",
       "#T_cd98a .row_heading {\n",
       "  display: none;;\n",
       "}\n",
       "#T_cd98a  .blank {\n",
       "  display: none;;\n",
       "}\n",
       "#T_cd98a_row0_col0, #T_cd98a_row1_col0, #T_cd98a_row2_col0, #T_cd98a_row3_col0, #T_cd98a_row4_col0, #T_cd98a_row5_col0, #T_cd98a_row6_col0, #T_cd98a_row7_col0, #T_cd98a_row8_col0, #T_cd98a_row9_col0, #T_cd98a_row10_col0, #T_cd98a_row11_col0, #T_cd98a_row12_col0, #T_cd98a_row13_col0 {\n",
       "  font-weight: bold;\n",
       "  font-size: 120%;\n",
       "}\n",
       "#T_cd98a_row0_col1, #T_cd98a_row1_col1, #T_cd98a_row5_col1, #T_cd98a_row6_col1, #T_cd98a_row12_col1 {\n",
       "  color: #0f398a;\n",
       "}\n",
       "#T_cd98a_row0_col2, #T_cd98a_row0_col3, #T_cd98a_row1_col2, #T_cd98a_row1_col3, #T_cd98a_row2_col2, #T_cd98a_row2_col3, #T_cd98a_row2_col5, #T_cd98a_row3_col2, #T_cd98a_row3_col3, #T_cd98a_row4_col2, #T_cd98a_row4_col3, #T_cd98a_row5_col2, #T_cd98a_row6_col2, #T_cd98a_row7_col2, #T_cd98a_row7_col3, #T_cd98a_row7_col5, #T_cd98a_row8_col2, #T_cd98a_row8_col3, #T_cd98a_row8_col5, #T_cd98a_row9_col2, #T_cd98a_row9_col5, #T_cd98a_row10_col2, #T_cd98a_row11_col2, #T_cd98a_row11_col3, #T_cd98a_row12_col5, #T_cd98a_row13_col2, #T_cd98a_row13_col3, #T_cd98a_row13_col5 {\n",
       "  color: black;\n",
       "}\n",
       "#T_cd98a_row0_col5, #T_cd98a_row10_col5 {\n",
       "  background-color: #84cc83;\n",
       "  color: black;\n",
       "}\n",
       "#T_cd98a_row1_col5, #T_cd98a_row3_col5 {\n",
       "  background-color: #a1cbe2;\n",
       "  color: black;\n",
       "}\n",
       "#T_cd98a_row2_col1, #T_cd98a_row3_col1, #T_cd98a_row7_col1, #T_cd98a_row9_col1, #T_cd98a_row10_col1, #T_cd98a_row11_col1, #T_cd98a_row13_col1 {\n",
       "  color: #761d38;\n",
       "}\n",
       "#T_cd98a_row4_col5 {\n",
       "  background-color: #f0f9ed;\n",
       "  color: black;\n",
       "}\n",
       "#T_cd98a_row5_col3, #T_cd98a_row6_col3, #T_cd98a_row9_col3, #T_cd98a_row10_col3 {\n",
       "  background-color: #ffede5;\n",
       "  color: black;\n",
       "}\n",
       "#T_cd98a_row5_col5, #T_cd98a_row6_col5 {\n",
       "  background-color: #a4da9e;\n",
       "  color: black;\n",
       "}\n",
       "#T_cd98a_row11_col5 {\n",
       "  background-color: #e5f5e0;\n",
       "  color: black;\n",
       "}\n",
       "#T_cd98a_row12_col2, #T_cd98a_row12_col3 {\n",
       "  background-color: #fcb499;\n",
       "  color: black;\n",
       "}\n",
       "</style>\n",
       "<table id=\"T_cd98a\">\n",
       "  <caption>dataset has 14 columns</caption>\n",
       "  <thead>\n",
       "    <tr>\n",
       "      <th class=\"blank level0\" >&nbsp;</th>\n",
       "      <th id=\"T_cd98a_level0_col0\" class=\"col_heading level0 col0\" >Attributes</th>\n",
       "      <th id=\"T_cd98a_level0_col1\" class=\"col_heading level0 col1\" >DataType</th>\n",
       "      <th id=\"T_cd98a_level0_col2\" class=\"col_heading level0 col2\" >Nulls</th>\n",
       "      <th id=\"T_cd98a_level0_col3\" class=\"col_heading level0 col3\" >Dominate</th>\n",
       "      <th id=\"T_cd98a_level0_col4\" class=\"col_heading level0 col4\" >Valid</th>\n",
       "      <th id=\"T_cd98a_level0_col5\" class=\"col_heading level0 col5\" >Unique</th>\n",
       "      <th id=\"T_cd98a_level0_col6\" class=\"col_heading level0 col6\" >Observations</th>\n",
       "    </tr>\n",
       "  </thead>\n",
       "  <tbody>\n",
       "    <tr>\n",
       "      <th id=\"T_cd98a_level0_row0\" class=\"row_heading level0 row0\" >0</th>\n",
       "      <td id=\"T_cd98a_row0_col0\" class=\"data row0 col0\" >pclass</td>\n",
       "      <td id=\"T_cd98a_row0_col1\" class=\"data row0 col1\" >int64</td>\n",
       "      <td id=\"T_cd98a_row0_col2\" class=\"data row0 col2\" >0.0%</td>\n",
       "      <td id=\"T_cd98a_row0_col3\" class=\"data row0 col3\" >54.2%</td>\n",
       "      <td id=\"T_cd98a_row0_col4\" class=\"data row0 col4\" >1309</td>\n",
       "      <td id=\"T_cd98a_row0_col5\" class=\"data row0 col5\" >3</td>\n",
       "      <td id=\"T_cd98a_row0_col6\" class=\"data row0 col6\" >[3, 1, 2]</td>\n",
       "    </tr>\n",
       "    <tr>\n",
       "      <th id=\"T_cd98a_level0_row1\" class=\"row_heading level0 row1\" >1</th>\n",
       "      <td id=\"T_cd98a_row1_col0\" class=\"data row1 col0\" >survived</td>\n",
       "      <td id=\"T_cd98a_row1_col1\" class=\"data row1 col1\" >int64</td>\n",
       "      <td id=\"T_cd98a_row1_col2\" class=\"data row1 col2\" >0.0%</td>\n",
       "      <td id=\"T_cd98a_row1_col3\" class=\"data row1 col3\" >61.8%</td>\n",
       "      <td id=\"T_cd98a_row1_col4\" class=\"data row1 col4\" >1309</td>\n",
       "      <td id=\"T_cd98a_row1_col5\" class=\"data row1 col5\" >2</td>\n",
       "      <td id=\"T_cd98a_row1_col6\" class=\"data row1 col6\" >[0, 1]</td>\n",
       "    </tr>\n",
       "    <tr>\n",
       "      <th id=\"T_cd98a_level0_row2\" class=\"row_heading level0 row2\" >2</th>\n",
       "      <td id=\"T_cd98a_row2_col0\" class=\"data row2 col0\" >name</td>\n",
       "      <td id=\"T_cd98a_row2_col1\" class=\"data row2 col1\" >string</td>\n",
       "      <td id=\"T_cd98a_row2_col2\" class=\"data row2 col2\" >0.0%</td>\n",
       "      <td id=\"T_cd98a_row2_col3\" class=\"data row2 col3\" >0.2%</td>\n",
       "      <td id=\"T_cd98a_row2_col4\" class=\"data row2 col4\" >1309</td>\n",
       "      <td id=\"T_cd98a_row2_col5\" class=\"data row2 col5\" >1307</td>\n",
       "      <td id=\"T_cd98a_row2_col6\" class=\"data row2 col6\" >['Connolly, Miss. Kate', 'Kelly, Mr. James', 'Alle...</td>\n",
       "    </tr>\n",
       "    <tr>\n",
       "      <th id=\"T_cd98a_level0_row3\" class=\"row_heading level0 row3\" >3</th>\n",
       "      <td id=\"T_cd98a_row3_col0\" class=\"data row3 col0\" >sex</td>\n",
       "      <td id=\"T_cd98a_row3_col1\" class=\"data row3 col1\" >string</td>\n",
       "      <td id=\"T_cd98a_row3_col2\" class=\"data row3 col2\" >0.0%</td>\n",
       "      <td id=\"T_cd98a_row3_col3\" class=\"data row3 col3\" >64.4%</td>\n",
       "      <td id=\"T_cd98a_row3_col4\" class=\"data row3 col4\" >1309</td>\n",
       "      <td id=\"T_cd98a_row3_col5\" class=\"data row3 col5\" >2</td>\n",
       "      <td id=\"T_cd98a_row3_col6\" class=\"data row3 col6\" >['male', 'female']</td>\n",
       "    </tr>\n",
       "    <tr>\n",
       "      <th id=\"T_cd98a_level0_row4\" class=\"row_heading level0 row4\" >4</th>\n",
       "      <td id=\"T_cd98a_row4_col0\" class=\"data row4 col0\" >age</td>\n",
       "      <td id=\"T_cd98a_row4_col1\" class=\"data row4 col1\" >double</td>\n",
       "      <td id=\"T_cd98a_row4_col2\" class=\"data row4 col2\" >20.1%</td>\n",
       "      <td id=\"T_cd98a_row4_col3\" class=\"data row4 col3\" >20.1%</td>\n",
       "      <td id=\"T_cd98a_row4_col4\" class=\"data row4 col4\" >1046</td>\n",
       "      <td id=\"T_cd98a_row4_col5\" class=\"data row4 col5\" >98</td>\n",
       "      <td id=\"T_cd98a_row4_col6\" class=\"data row4 col6\" >[24.0, 22.0, 21.0, 30.0, 18.0, 25.0, 28.0, 36.0, 2...</td>\n",
       "    </tr>\n",
       "    <tr>\n",
       "      <th id=\"T_cd98a_level0_row5\" class=\"row_heading level0 row5\" >5</th>\n",
       "      <td id=\"T_cd98a_row5_col0\" class=\"data row5 col0\" >sibsp</td>\n",
       "      <td id=\"T_cd98a_row5_col1\" class=\"data row5 col1\" >int64</td>\n",
       "      <td id=\"T_cd98a_row5_col2\" class=\"data row5 col2\" >0.0%</td>\n",
       "      <td id=\"T_cd98a_row5_col3\" class=\"data row5 col3\" >68.1%</td>\n",
       "      <td id=\"T_cd98a_row5_col4\" class=\"data row5 col4\" >1309</td>\n",
       "      <td id=\"T_cd98a_row5_col5\" class=\"data row5 col5\" >7</td>\n",
       "      <td id=\"T_cd98a_row5_col6\" class=\"data row5 col6\" >[0, 1, 2, 4, 3, 8, 5]</td>\n",
       "    </tr>\n",
       "    <tr>\n",
       "      <th id=\"T_cd98a_level0_row6\" class=\"row_heading level0 row6\" >6</th>\n",
       "      <td id=\"T_cd98a_row6_col0\" class=\"data row6 col0\" >parch</td>\n",
       "      <td id=\"T_cd98a_row6_col1\" class=\"data row6 col1\" >int64</td>\n",
       "      <td id=\"T_cd98a_row6_col2\" class=\"data row6 col2\" >0.0%</td>\n",
       "      <td id=\"T_cd98a_row6_col3\" class=\"data row6 col3\" >76.5%</td>\n",
       "      <td id=\"T_cd98a_row6_col4\" class=\"data row6 col4\" >1309</td>\n",
       "      <td id=\"T_cd98a_row6_col5\" class=\"data row6 col5\" >8</td>\n",
       "      <td id=\"T_cd98a_row6_col6\" class=\"data row6 col6\" >[0, 1, 2, 3, 4, 5, 6, 9]</td>\n",
       "    </tr>\n",
       "    <tr>\n",
       "      <th id=\"T_cd98a_level0_row7\" class=\"row_heading level0 row7\" >7</th>\n",
       "      <td id=\"T_cd98a_row7_col0\" class=\"data row7 col0\" >ticket</td>\n",
       "      <td id=\"T_cd98a_row7_col1\" class=\"data row7 col1\" >string</td>\n",
       "      <td id=\"T_cd98a_row7_col2\" class=\"data row7 col2\" >0.0%</td>\n",
       "      <td id=\"T_cd98a_row7_col3\" class=\"data row7 col3\" >0.8%</td>\n",
       "      <td id=\"T_cd98a_row7_col4\" class=\"data row7 col4\" >1309</td>\n",
       "      <td id=\"T_cd98a_row7_col5\" class=\"data row7 col5\" >929</td>\n",
       "      <td id=\"T_cd98a_row7_col6\" class=\"data row7 col6\" >['CA. 2343', '1601', 'CA 2144', 'PC 17608', 'S.O.C...</td>\n",
       "    </tr>\n",
       "    <tr>\n",
       "      <th id=\"T_cd98a_level0_row8\" class=\"row_heading level0 row8\" >8</th>\n",
       "      <td id=\"T_cd98a_row8_col0\" class=\"data row8 col0\" >fare</td>\n",
       "      <td id=\"T_cd98a_row8_col1\" class=\"data row8 col1\" >double</td>\n",
       "      <td id=\"T_cd98a_row8_col2\" class=\"data row8 col2\" >0.1%</td>\n",
       "      <td id=\"T_cd98a_row8_col3\" class=\"data row8 col3\" >4.6%</td>\n",
       "      <td id=\"T_cd98a_row8_col4\" class=\"data row8 col4\" >1308</td>\n",
       "      <td id=\"T_cd98a_row8_col5\" class=\"data row8 col5\" >281</td>\n",
       "      <td id=\"T_cd98a_row8_col6\" class=\"data row8 col6\" >[8.05, 13.0, 7.75, 26.0, 7.8958, 10.5, 7.775, 7.22...</td>\n",
       "    </tr>\n",
       "    <tr>\n",
       "      <th id=\"T_cd98a_level0_row9\" class=\"row_heading level0 row9\" >9</th>\n",
       "      <td id=\"T_cd98a_row9_col0\" class=\"data row9 col0\" >cabin</td>\n",
       "      <td id=\"T_cd98a_row9_col1\" class=\"data row9 col1\" >string</td>\n",
       "      <td id=\"T_cd98a_row9_col2\" class=\"data row9 col2\" >0.0%</td>\n",
       "      <td id=\"T_cd98a_row9_col3\" class=\"data row9 col3\" >77.5%</td>\n",
       "      <td id=\"T_cd98a_row9_col4\" class=\"data row9 col4\" >1309</td>\n",
       "      <td id=\"T_cd98a_row9_col5\" class=\"data row9 col5\" >182</td>\n",
       "      <td id=\"T_cd98a_row9_col6\" class=\"data row9 col6\" >['', 'F', 'C23', 'B57', 'G6', 'C22', 'B96', 'C78',...</td>\n",
       "    </tr>\n",
       "    <tr>\n",
       "      <th id=\"T_cd98a_level0_row10\" class=\"row_heading level0 row10\" >10</th>\n",
       "      <td id=\"T_cd98a_row10_col0\" class=\"data row10 col0\" >embarked</td>\n",
       "      <td id=\"T_cd98a_row10_col1\" class=\"data row10 col1\" >string</td>\n",
       "      <td id=\"T_cd98a_row10_col2\" class=\"data row10 col2\" >0.0%</td>\n",
       "      <td id=\"T_cd98a_row10_col3\" class=\"data row10 col3\" >69.8%</td>\n",
       "      <td id=\"T_cd98a_row10_col4\" class=\"data row10 col4\" >1309</td>\n",
       "      <td id=\"T_cd98a_row10_col5\" class=\"data row10 col5\" >4</td>\n",
       "      <td id=\"T_cd98a_row10_col6\" class=\"data row10 col6\" >['S', 'C', 'Q', '']</td>\n",
       "    </tr>\n",
       "    <tr>\n",
       "      <th id=\"T_cd98a_level0_row11\" class=\"row_heading level0 row11\" >11</th>\n",
       "      <td id=\"T_cd98a_row11_col0\" class=\"data row11 col0\" >boat</td>\n",
       "      <td id=\"T_cd98a_row11_col1\" class=\"data row11 col1\" >string</td>\n",
       "      <td id=\"T_cd98a_row11_col2\" class=\"data row11 col2\" >0.0%</td>\n",
       "      <td id=\"T_cd98a_row11_col3\" class=\"data row11 col3\" >62.9%</td>\n",
       "      <td id=\"T_cd98a_row11_col4\" class=\"data row11 col4\" >1309</td>\n",
       "      <td id=\"T_cd98a_row11_col5\" class=\"data row11 col5\" >28</td>\n",
       "      <td id=\"T_cd98a_row11_col6\" class=\"data row11 col6\" >['', '13', 'C', '15', '14', '4', '10', '5', '3', '...</td>\n",
       "    </tr>\n",
       "    <tr>\n",
       "      <th id=\"T_cd98a_level0_row12\" class=\"row_heading level0 row12\" >12</th>\n",
       "      <td id=\"T_cd98a_row12_col0\" class=\"data row12 col0\" >body</td>\n",
       "      <td id=\"T_cd98a_row12_col1\" class=\"data row12 col1\" >int64</td>\n",
       "      <td id=\"T_cd98a_row12_col2\" class=\"data row12 col2\" >90.8%</td>\n",
       "      <td id=\"T_cd98a_row12_col3\" class=\"data row12 col3\" >90.8%</td>\n",
       "      <td id=\"T_cd98a_row12_col4\" class=\"data row12 col4\" >121</td>\n",
       "      <td id=\"T_cd98a_row12_col5\" class=\"data row12 col5\" >121</td>\n",
       "      <td id=\"T_cd98a_row12_col6\" class=\"data row12 col6\" >[135, 22, 124, 148, 208, 172, 269, 62, 133, 275, 1...</td>\n",
       "    </tr>\n",
       "    <tr>\n",
       "      <th id=\"T_cd98a_level0_row13\" class=\"row_heading level0 row13\" >13</th>\n",
       "      <td id=\"T_cd98a_row13_col0\" class=\"data row13 col0\" >home.dest</td>\n",
       "      <td id=\"T_cd98a_row13_col1\" class=\"data row13 col1\" >string</td>\n",
       "      <td id=\"T_cd98a_row13_col2\" class=\"data row13 col2\" >0.0%</td>\n",
       "      <td id=\"T_cd98a_row13_col3\" class=\"data row13 col3\" >43.1%</td>\n",
       "      <td id=\"T_cd98a_row13_col4\" class=\"data row13 col4\" >1309</td>\n",
       "      <td id=\"T_cd98a_row13_col5\" class=\"data row13 col5\" >370</td>\n",
       "      <td id=\"T_cd98a_row13_col6\" class=\"data row13 col6\" >['', 'New York, NY', 'London', 'Montreal, PQ', 'Pa...</td>\n",
       "    </tr>\n",
       "  </tbody>\n",
       "</table>\n"
      ],
      "text/plain": [
       "<pandas.io.formats.style.Styler at 0x7fe2659df340>"
      ]
     },
     "execution_count": 6,
     "metadata": {},
     "output_type": "execute_result"
    }
   ],
   "source": [
    "fs.canonical_report(tbl)"
   ]
  },
  {
   "cell_type": "markdown",
   "id": "e4c9fd5d-90ad-4ec9-934a-9807a32cf8bd",
   "metadata": {},
   "source": [
    "## Preprocessing"
   ]
  },
  {
   "cell_type": "markdown",
   "id": "1f71f696-a0da-44c6-8fcb-189325c0202f",
   "metadata": {},
   "source": [
    "### Feature Selection"
   ]
  },
  {
   "cell_type": "code",
   "execution_count": 7,
   "id": "37dbfe4d-a761-4151-8d64-42a1d556abf2",
   "metadata": {},
   "outputs": [
    {
     "data": {
      "text/plain": [
       "<ds_capability.components.feature_select.FeatureSelect at 0x7fe26771e8f0>"
      ]
     },
     "execution_count": 7,
     "metadata": {},
     "output_type": "execute_result"
    },
    {
     "data": {
      "text/plain": [
       "<ds_capability.components.feature_select.FeatureSelect at 0x7fe26771e8f0>"
      ]
     },
     "execution_count": 7,
     "metadata": {},
     "output_type": "execute_result"
    }
   ],
   "source": [
    "fs = FeatureSelect.from_env('survived', has_contract=False)\n",
    "\n",
    "fs.set_source_uri('${HADRON_PREDICT_SOURCE_DATA}')\n",
    "fs.set_persist_uri('event://select')\n",
    "\n",
    "tbl = fs.load_source_canonical()"
   ]
  },
  {
   "cell_type": "code",
   "execution_count": 8,
   "id": "b9c049a2-dc28-4c14-b120-3c23237a31a1",
   "metadata": {},
   "outputs": [
    {
     "data": {
      "text/html": [
       "<style type=\"text/css\">\n",
       "#T_18537 th {\n",
       "  font-size: 120%;\n",
       "  text-align: center;\n",
       "}\n",
       "#T_18537 .row_heading {\n",
       "  display: none;;\n",
       "}\n",
       "#T_18537  .blank {\n",
       "  display: none;;\n",
       "}\n",
       "#T_18537_row0_col0, #T_18537_row1_col0, #T_18537_row2_col0, #T_18537_row3_col0, #T_18537_row4_col0, #T_18537_row5_col0, #T_18537_row6_col0, #T_18537_row7_col0, #T_18537_row8_col0, #T_18537_row9_col0, #T_18537_row10_col0, #T_18537_row11_col0 {\n",
       "  text-align: left;\n",
       "  font-weight: bold;\n",
       "}\n",
       "#T_18537_row0_col1, #T_18537_row1_col1, #T_18537_row2_col1, #T_18537_row3_col1, #T_18537_row4_col1, #T_18537_row5_col1, #T_18537_row6_col1, #T_18537_row7_col1, #T_18537_row8_col1, #T_18537_row9_col1, #T_18537_row10_col1, #T_18537_row11_col1 {\n",
       "  text-align: left;\n",
       "}\n",
       "</style>\n",
       "<table id=\"T_18537\">\n",
       "  <thead>\n",
       "    <tr>\n",
       "      <th class=\"blank level0\" >&nbsp;</th>\n",
       "      <th id=\"T_18537_level0_col0\" class=\"col_heading level0 col0\" >environ</th>\n",
       "      <th id=\"T_18537_level0_col1\" class=\"col_heading level0 col1\" >value</th>\n",
       "    </tr>\n",
       "  </thead>\n",
       "  <tbody>\n",
       "    <tr>\n",
       "      <th id=\"T_18537_level0_row0\" class=\"row_heading level0 row0\" >0</th>\n",
       "      <td id=\"T_18537_row0_col0\" class=\"data row0 col0\" >HADRON_DEFAULT_PATH</td>\n",
       "      <td id=\"T_18537_row0_col1\" class=\"data row0 col1\" >/Users/doatridge/code/jupyter/docs</td>\n",
       "    </tr>\n",
       "    <tr>\n",
       "      <th id=\"T_18537_level0_row1\" class=\"row_heading level0 row1\" >1</th>\n",
       "      <td id=\"T_18537_row1_col0\" class=\"data row1 col0\" >HADRON_DEFAULT_MODULE</td>\n",
       "      <td id=\"T_18537_row1_col1\" class=\"data row1 col1\" >ds_core.handlers.event_handlers</td>\n",
       "    </tr>\n",
       "    <tr>\n",
       "      <th id=\"T_18537_level0_row2\" class=\"row_heading level0 row2\" >2</th>\n",
       "      <td id=\"T_18537_row2_col0\" class=\"data row2 col0\" >HADRON_DEFAULT_HANDLER</td>\n",
       "      <td id=\"T_18537_row2_col1\" class=\"data row2 col1\" >EventPersistHandler</td>\n",
       "    </tr>\n",
       "    <tr>\n",
       "      <th id=\"T_18537_level0_row3\" class=\"row_heading level0 row3\" >3</th>\n",
       "      <td id=\"T_18537_row3_col0\" class=\"data row3 col0\" >HADRON_PM_PATH</td>\n",
       "      <td id=\"T_18537_row3_col1\" class=\"data row3 col1\" >/Users/doatridge/code/jupyter/docs/getting_started/hadron/contracts</td>\n",
       "    </tr>\n",
       "    <tr>\n",
       "      <th id=\"T_18537_level0_row4\" class=\"row_heading level0 row4\" >4</th>\n",
       "      <td id=\"T_18537_row4_col0\" class=\"data row4 col0\" >HADRON_PM_REPO</td>\n",
       "      <td id=\"T_18537_row4_col1\" class=\"data row4 col1\" >not used</td>\n",
       "    </tr>\n",
       "    <tr>\n",
       "      <th id=\"T_18537_level0_row5\" class=\"row_heading level0 row5\" >5</th>\n",
       "      <td id=\"T_18537_row5_col0\" class=\"data row5 col0\" >HADRON_PM_TYPE</td>\n",
       "      <td id=\"T_18537_row5_col1\" class=\"data row5 col1\" >default</td>\n",
       "    </tr>\n",
       "    <tr>\n",
       "      <th id=\"T_18537_level0_row6\" class=\"row_heading level0 row6\" >6</th>\n",
       "      <td id=\"T_18537_row6_col0\" class=\"data row6 col0\" >HADRON_PM_MODULE</td>\n",
       "      <td id=\"T_18537_row6_col1\" class=\"data row6 col1\" >ds_capability.handlers.pyarrow_handlers</td>\n",
       "    </tr>\n",
       "    <tr>\n",
       "      <th id=\"T_18537_level0_row7\" class=\"row_heading level0 row7\" >7</th>\n",
       "      <td id=\"T_18537_row7_col0\" class=\"data row7 col0\" >HADRON_PM_HANDLER</td>\n",
       "      <td id=\"T_18537_row7_col1\" class=\"data row7 col1\" >PyarrowPersistHandler</td>\n",
       "    </tr>\n",
       "    <tr>\n",
       "      <th id=\"T_18537_level0_row8\" class=\"row_heading level0 row8\" >8</th>\n",
       "      <td id=\"T_18537_row8_col0\" class=\"data row8 col0\" >HADRON_CREATOR</td>\n",
       "      <td id=\"T_18537_row8_col1\" class=\"data row8 col1\" >account default</td>\n",
       "    </tr>\n",
       "    <tr>\n",
       "      <th id=\"T_18537_level0_row9\" class=\"row_heading level0 row9\" >9</th>\n",
       "      <td id=\"T_18537_row9_col0\" class=\"data row9 col0\" >HADRON_CONTENT</td>\n",
       "      <td id=\"T_18537_row9_col1\" class=\"data row9 col1\" >https://raw.githubusercontent.com/project-hadron/hadron-asset-bank/master/</td>\n",
       "    </tr>\n",
       "    <tr>\n",
       "      <th id=\"T_18537_level0_row10\" class=\"row_heading level0 row10\" >10</th>\n",
       "      <td id=\"T_18537_row10_col0\" class=\"data row10 col0\" >HADRON_PREDICT_SOURCE_DATA</td>\n",
       "      <td id=\"T_18537_row10_col1\" class=\"data row10 col1\" >https://raw.githubusercontent.com/project-hadron/hadron-asset-bank/master/datasets/toy_sample/titanic.csv</td>\n",
       "    </tr>\n",
       "    <tr>\n",
       "      <th id=\"T_18537_level0_row11\" class=\"row_heading level0 row11\" >11</th>\n",
       "      <td id=\"T_18537_row11_col0\" class=\"data row11 col0\" >HADRON_PREDICT_PERSIST_DATA</td>\n",
       "      <td id=\"T_18537_row11_col1\" class=\"data row11 col1\" >./hadron/data/hadron_docs_titanic_predict.parquet</td>\n",
       "    </tr>\n",
       "  </tbody>\n",
       "</table>\n"
      ],
      "text/plain": [
       "<pandas.io.formats.style.Styler at 0x7fe266b5e800>"
      ]
     },
     "execution_count": 8,
     "metadata": {},
     "output_type": "execute_result"
    }
   ],
   "source": [
    "fs.report_environ()"
   ]
  },
  {
   "cell_type": "code",
   "execution_count": 9,
   "id": "c4a4ac08-e40a-4e6f-9e65-c6eaf057c28f",
   "metadata": {},
   "outputs": [
    {
     "data": {
      "text/plain": [
       "<ds_capability.components.feature_select.FeatureSelect at 0x7fe26771e8f0>"
      ]
     },
     "execution_count": 9,
     "metadata": {},
     "output_type": "execute_result"
    }
   ],
   "source": [
    "# extract label\n",
    "fs.add_connector_uri('label', uri='event://label')\n",
    "label = fs.tools.auto_drop_columns(tbl, headers=['survived'], drop=True)\n",
    "fs.save_canonical('label', label)"
   ]
  },
  {
   "cell_type": "code",
   "execution_count": 10,
   "id": "968df298-798a-473c-ba28-ecb7f9eefaa3",
   "metadata": {},
   "outputs": [],
   "source": [
    "tbl = fs.tools.auto_drop_columns(tbl, headers=['name', 'boat', 'body', 'home.dest', 'ticket', 'survived'])"
   ]
  },
  {
   "cell_type": "code",
   "execution_count": 11,
   "id": "87fd4feb-b4cb-42f3-9e0f-0336b60ca8b1",
   "metadata": {},
   "outputs": [],
   "source": [
    "fs.run_component_pipeline()"
   ]
  },
  {
   "cell_type": "markdown",
   "id": "ee0262e3-9c1b-4b23-ad9c-bef315fef9ce",
   "metadata": {},
   "source": [
    "### Feature Engineering"
   ]
  },
  {
   "cell_type": "code",
   "execution_count": 12,
   "id": "fa7792eb-47dc-42f9-a451-76b753dcc548",
   "metadata": {},
   "outputs": [
    {
     "data": {
      "text/plain": [
       "<ds_capability.components.feature_engineer.FeatureEngineer at 0x7fe26771fcd0>"
      ]
     },
     "execution_count": 12,
     "metadata": {},
     "output_type": "execute_result"
    },
    {
     "data": {
      "text/plain": [
       "<ds_capability.components.feature_engineer.FeatureEngineer at 0x7fe26771fcd0>"
      ]
     },
     "execution_count": 12,
     "metadata": {},
     "output_type": "execute_result"
    }
   ],
   "source": [
    "fe = FeatureEngineer.from_env('survived', has_contract=False)\n",
    "\n",
    "fe.set_source_uri('event://select')\n",
    "fe.set_persist_uri('event://engineer')\n",
    "\n",
    "tbl = fe.load_source_canonical()"
   ]
  },
  {
   "cell_type": "markdown",
   "id": "d67bf1ec-f4fe-4c3e-b49f-132a659ce4cc",
   "metadata": {},
   "source": [
    "#### extract cabin features"
   ]
  },
  {
   "cell_type": "code",
   "execution_count": 13,
   "id": "e61bf674-11e4-4e04-b622-a5adcb0cdbf4",
   "metadata": {},
   "outputs": [],
   "source": [
    "tbl = fe.tools.correlate_on_pandas(tbl, header='cabin',\n",
    "                                code_str=\"apply(lambda x: x[0] if isinstance(x, str) and len(x) > 0 else None)\",\n",
    "                                to_header='cabin_level', intent_order=-1)\n",
    "tbl = fe.tools.correlate_on_pandas(tbl, header='cabin',\n",
    "                                code_str=\"str.extract('([0-9]+)').astype('float')\",\n",
    "                                to_header='cabin', intent_order=-1)"
   ]
  },
  {
   "cell_type": "markdown",
   "id": "970e5c5d-b7df-42a7-b99a-9097b81e14cf",
   "metadata": {},
   "source": [
    "#### missing data imputation"
   ]
  },
  {
   "cell_type": "code",
   "execution_count": 14,
   "id": "5d357455-6804-436a-b391-ba591cfbe3ad",
   "metadata": {},
   "outputs": [
    {
     "data": {
      "text/plain": [
       "(1309, 9)"
      ]
     },
     "execution_count": 14,
     "metadata": {},
     "output_type": "execute_result"
    },
    {
     "name": "stdout",
     "output_type": "stream",
     "text": [
      "pclass: 0\n",
      "sex: 0\n",
      "age: 263\n",
      "sibsp: 0\n",
      "parch: 0\n",
      "fare: 1\n",
      "embarked: 0\n",
      "cabin_level: 1014\n",
      "cabin: 1027\n"
     ]
    }
   ],
   "source": [
    "tbl.shape\n",
    "for n in tbl.column_names:\n",
    "    c = tbl.column(n)\n",
    "    print(f\"{n}: {c.null_count}\")"
   ]
  },
  {
   "cell_type": "code",
   "execution_count": 15,
   "id": "8ccf6948-d8c3-4ef6-a7a3-4a9a2a29d532",
   "metadata": {},
   "outputs": [],
   "source": [
    "tbl = fe.tools.correlate_missing(tbl, header='fare', strategy='mean', intent_order=-1)\n",
    "tbl = fe.tools.correlate_missing(tbl, header='age', strategy='constant', constant=-1, intent_order=-1)\n",
    "tbl = fe.tools.correlate_missing(tbl, header='cabin', strategy='constant', constant=-1, intent_order=-1)"
   ]
  },
  {
   "cell_type": "code",
   "execution_count": 16,
   "id": "e57d4b10-e362-4663-b46c-1294bcc5ac5f",
   "metadata": {},
   "outputs": [],
   "source": [
    "tbl = fe.tools.correlate_missing_probability(tbl, header='cabin_level', intent_order=-1)"
   ]
  },
  {
   "cell_type": "code",
   "execution_count": 17,
   "id": "daab752b-ba2f-42d9-80ec-8a40f3135305",
   "metadata": {},
   "outputs": [],
   "source": [
    "fe.run_component_pipeline()"
   ]
  },
  {
   "cell_type": "markdown",
   "id": "9a61b005-297c-4410-9387-289df44846cc",
   "metadata": {},
   "source": [
    "### Feature Transformation"
   ]
  },
  {
   "cell_type": "code",
   "execution_count": 18,
   "id": "48c4a7a8-5d7c-48aa-97b4-761dbdb389b2",
   "metadata": {},
   "outputs": [
    {
     "data": {
      "text/plain": [
       "<ds_capability.components.feature_transform.FeatureTransform at 0x7fe267785ae0>"
      ]
     },
     "execution_count": 18,
     "metadata": {},
     "output_type": "execute_result"
    },
    {
     "data": {
      "text/plain": [
       "<ds_capability.components.feature_transform.FeatureTransform at 0x7fe267785ae0>"
      ]
     },
     "execution_count": 18,
     "metadata": {},
     "output_type": "execute_result"
    }
   ],
   "source": [
    "ft = FeatureTransform.from_env('survived', has_contract=False)\n",
    "\n",
    "ft.set_source_uri('event://engineer')\n",
    "ft.set_persist_uri('event://transform')\n",
    "\n",
    "tbl = ft.load_source_canonical()"
   ]
  },
  {
   "cell_type": "code",
   "execution_count": 19,
   "id": "ea55c4bb-fdaa-4573-86a6-4673b6ed3d5c",
   "metadata": {},
   "outputs": [],
   "source": [
    "# rare label encoding\n",
    "tbl = ft.tools.encode_category_integer(tbl, headers=['cabin_level'], label_count=6, intent_order=-1)\n",
    "\n",
    "# ordinal\n",
    "tbl = ft.tools.encode_category_integer(tbl, headers=['sex', 'embarked'], ordinal=True, intent_order=-1)"
   ]
  },
  {
   "cell_type": "code",
   "execution_count": 20,
   "id": "8b698255-da6d-4a0e-b916-c5d05644f818",
   "metadata": {},
   "outputs": [],
   "source": [
    "ft.run_component_pipeline()"
   ]
  },
  {
   "cell_type": "code",
   "execution_count": 21,
   "id": "50935d73-ff85-48ac-8323-28f1acf9049b",
   "metadata": {},
   "outputs": [
    {
     "data": {
      "text/html": [
       "<style type=\"text/css\">\n",
       "#T_68fe5 th {\n",
       "  font-size: 120%;\n",
       "  text-align: center;\n",
       "}\n",
       "#T_68fe5 .row_heading {\n",
       "  display: none;;\n",
       "}\n",
       "#T_68fe5  .blank {\n",
       "  display: none;;\n",
       "}\n",
       "#T_68fe5_row0_col0, #T_68fe5_row1_col0, #T_68fe5_row2_col0, #T_68fe5_row3_col0, #T_68fe5_row4_col0, #T_68fe5_row5_col0, #T_68fe5_row6_col0, #T_68fe5_row7_col0, #T_68fe5_row8_col0 {\n",
       "  font-weight: bold;\n",
       "  font-size: 120%;\n",
       "}\n",
       "#T_68fe5_row0_col1, #T_68fe5_row1_col1, #T_68fe5_row2_col1, #T_68fe5_row6_col1, #T_68fe5_row7_col1, #T_68fe5_row8_col1 {\n",
       "  color: #0f398a;\n",
       "}\n",
       "#T_68fe5_row0_col2, #T_68fe5_row0_col3, #T_68fe5_row1_col2, #T_68fe5_row2_col2, #T_68fe5_row3_col2, #T_68fe5_row3_col3, #T_68fe5_row3_col5, #T_68fe5_row4_col2, #T_68fe5_row4_col3, #T_68fe5_row5_col2, #T_68fe5_row5_col5, #T_68fe5_row6_col2, #T_68fe5_row6_col3, #T_68fe5_row7_col2, #T_68fe5_row7_col3, #T_68fe5_row8_col2 {\n",
       "  color: black;\n",
       "}\n",
       "#T_68fe5_row0_col5, #T_68fe5_row8_col5 {\n",
       "  background-color: #84cc83;\n",
       "  color: black;\n",
       "}\n",
       "#T_68fe5_row1_col3, #T_68fe5_row2_col3, #T_68fe5_row5_col3, #T_68fe5_row8_col3 {\n",
       "  background-color: #ffede5;\n",
       "  color: black;\n",
       "}\n",
       "#T_68fe5_row1_col5, #T_68fe5_row2_col5, #T_68fe5_row6_col5 {\n",
       "  background-color: #a4da9e;\n",
       "  color: black;\n",
       "}\n",
       "#T_68fe5_row4_col5 {\n",
       "  background-color: #f0f9ed;\n",
       "  color: black;\n",
       "}\n",
       "#T_68fe5_row7_col5 {\n",
       "  background-color: #a1cbe2;\n",
       "  color: black;\n",
       "}\n",
       "</style>\n",
       "<table id=\"T_68fe5\">\n",
       "  <caption>dataset has 9 columns</caption>\n",
       "  <thead>\n",
       "    <tr>\n",
       "      <th class=\"blank level0\" >&nbsp;</th>\n",
       "      <th id=\"T_68fe5_level0_col0\" class=\"col_heading level0 col0\" >Attributes</th>\n",
       "      <th id=\"T_68fe5_level0_col1\" class=\"col_heading level0 col1\" >DataType</th>\n",
       "      <th id=\"T_68fe5_level0_col2\" class=\"col_heading level0 col2\" >Nulls</th>\n",
       "      <th id=\"T_68fe5_level0_col3\" class=\"col_heading level0 col3\" >Dominate</th>\n",
       "      <th id=\"T_68fe5_level0_col4\" class=\"col_heading level0 col4\" >Valid</th>\n",
       "      <th id=\"T_68fe5_level0_col5\" class=\"col_heading level0 col5\" >Unique</th>\n",
       "      <th id=\"T_68fe5_level0_col6\" class=\"col_heading level0 col6\" >Observations</th>\n",
       "    </tr>\n",
       "  </thead>\n",
       "  <tbody>\n",
       "    <tr>\n",
       "      <th id=\"T_68fe5_level0_row0\" class=\"row_heading level0 row0\" >0</th>\n",
       "      <td id=\"T_68fe5_row0_col0\" class=\"data row0 col0\" >pclass</td>\n",
       "      <td id=\"T_68fe5_row0_col1\" class=\"data row0 col1\" >int64</td>\n",
       "      <td id=\"T_68fe5_row0_col2\" class=\"data row0 col2\" >0.0%</td>\n",
       "      <td id=\"T_68fe5_row0_col3\" class=\"data row0 col3\" >54.2%</td>\n",
       "      <td id=\"T_68fe5_row0_col4\" class=\"data row0 col4\" >1309</td>\n",
       "      <td id=\"T_68fe5_row0_col5\" class=\"data row0 col5\" >3</td>\n",
       "      <td id=\"T_68fe5_row0_col6\" class=\"data row0 col6\" >[3, 1, 2]</td>\n",
       "    </tr>\n",
       "    <tr>\n",
       "      <th id=\"T_68fe5_level0_row1\" class=\"row_heading level0 row1\" >1</th>\n",
       "      <td id=\"T_68fe5_row1_col0\" class=\"data row1 col0\" >sibsp</td>\n",
       "      <td id=\"T_68fe5_row1_col1\" class=\"data row1 col1\" >int64</td>\n",
       "      <td id=\"T_68fe5_row1_col2\" class=\"data row1 col2\" >0.0%</td>\n",
       "      <td id=\"T_68fe5_row1_col3\" class=\"data row1 col3\" >68.1%</td>\n",
       "      <td id=\"T_68fe5_row1_col4\" class=\"data row1 col4\" >1309</td>\n",
       "      <td id=\"T_68fe5_row1_col5\" class=\"data row1 col5\" >7</td>\n",
       "      <td id=\"T_68fe5_row1_col6\" class=\"data row1 col6\" >[0, 1, 2, 4, 3, 8, 5]</td>\n",
       "    </tr>\n",
       "    <tr>\n",
       "      <th id=\"T_68fe5_level0_row2\" class=\"row_heading level0 row2\" >2</th>\n",
       "      <td id=\"T_68fe5_row2_col0\" class=\"data row2 col0\" >parch</td>\n",
       "      <td id=\"T_68fe5_row2_col1\" class=\"data row2 col1\" >int64</td>\n",
       "      <td id=\"T_68fe5_row2_col2\" class=\"data row2 col2\" >0.0%</td>\n",
       "      <td id=\"T_68fe5_row2_col3\" class=\"data row2 col3\" >76.5%</td>\n",
       "      <td id=\"T_68fe5_row2_col4\" class=\"data row2 col4\" >1309</td>\n",
       "      <td id=\"T_68fe5_row2_col5\" class=\"data row2 col5\" >8</td>\n",
       "      <td id=\"T_68fe5_row2_col6\" class=\"data row2 col6\" >[0, 1, 2, 3, 4, 5, 6, 9]</td>\n",
       "    </tr>\n",
       "    <tr>\n",
       "      <th id=\"T_68fe5_level0_row3\" class=\"row_heading level0 row3\" >3</th>\n",
       "      <td id=\"T_68fe5_row3_col0\" class=\"data row3 col0\" >fare</td>\n",
       "      <td id=\"T_68fe5_row3_col1\" class=\"data row3 col1\" >double</td>\n",
       "      <td id=\"T_68fe5_row3_col2\" class=\"data row3 col2\" >0.0%</td>\n",
       "      <td id=\"T_68fe5_row3_col3\" class=\"data row3 col3\" >4.6%</td>\n",
       "      <td id=\"T_68fe5_row3_col4\" class=\"data row3 col4\" >1309</td>\n",
       "      <td id=\"T_68fe5_row3_col5\" class=\"data row3 col5\" >282</td>\n",
       "      <td id=\"T_68fe5_row3_col6\" class=\"data row3 col6\" >[8.05, 13.0, 7.75, 26.0, 7.8958, 10.5, 7.775, 7.22...</td>\n",
       "    </tr>\n",
       "    <tr>\n",
       "      <th id=\"T_68fe5_level0_row4\" class=\"row_heading level0 row4\" >4</th>\n",
       "      <td id=\"T_68fe5_row4_col0\" class=\"data row4 col0\" >age</td>\n",
       "      <td id=\"T_68fe5_row4_col1\" class=\"data row4 col1\" >double</td>\n",
       "      <td id=\"T_68fe5_row4_col2\" class=\"data row4 col2\" >0.0%</td>\n",
       "      <td id=\"T_68fe5_row4_col3\" class=\"data row4 col3\" >20.1%</td>\n",
       "      <td id=\"T_68fe5_row4_col4\" class=\"data row4 col4\" >1309</td>\n",
       "      <td id=\"T_68fe5_row4_col5\" class=\"data row4 col5\" >99</td>\n",
       "      <td id=\"T_68fe5_row4_col6\" class=\"data row4 col6\" >[-1.0, 24.0, 22.0, 21.0, 30.0, 18.0, 25.0, 28.0, 3...</td>\n",
       "    </tr>\n",
       "    <tr>\n",
       "      <th id=\"T_68fe5_level0_row5\" class=\"row_heading level0 row5\" >5</th>\n",
       "      <td id=\"T_68fe5_row5_col0\" class=\"data row5 col0\" >cabin</td>\n",
       "      <td id=\"T_68fe5_row5_col1\" class=\"data row5 col1\" >double</td>\n",
       "      <td id=\"T_68fe5_row5_col2\" class=\"data row5 col2\" >0.0%</td>\n",
       "      <td id=\"T_68fe5_row5_col3\" class=\"data row5 col3\" >78.5%</td>\n",
       "      <td id=\"T_68fe5_row5_col4\" class=\"data row5 col4\" >1309</td>\n",
       "      <td id=\"T_68fe5_row5_col5\" class=\"data row5 col5\" >105</td>\n",
       "      <td id=\"T_68fe5_row5_col6\" class=\"data row5 col6\" >[-1.0, 6.0, 33.0, 22.0, 101.0, 23.0, 34.0, 78.0, 2...</td>\n",
       "    </tr>\n",
       "    <tr>\n",
       "      <th id=\"T_68fe5_level0_row6\" class=\"row_heading level0 row6\" >6</th>\n",
       "      <td id=\"T_68fe5_row6_col0\" class=\"data row6 col0\" >cabin_level</td>\n",
       "      <td id=\"T_68fe5_row6_col1\" class=\"data row6 col1\" >int64</td>\n",
       "      <td id=\"T_68fe5_row6_col2\" class=\"data row6 col2\" >0.0%</td>\n",
       "      <td id=\"T_68fe5_row6_col3\" class=\"data row6 col3\" >31.9%</td>\n",
       "      <td id=\"T_68fe5_row6_col4\" class=\"data row6 col4\" >1309</td>\n",
       "      <td id=\"T_68fe5_row6_col5\" class=\"data row6 col5\" >7</td>\n",
       "      <td id=\"T_68fe5_row6_col6\" class=\"data row6 col6\" >[2, 1, 3, 4, 0, 5, 6]</td>\n",
       "    </tr>\n",
       "    <tr>\n",
       "      <th id=\"T_68fe5_level0_row7\" class=\"row_heading level0 row7\" >7</th>\n",
       "      <td id=\"T_68fe5_row7_col0\" class=\"data row7 col0\" >sex</td>\n",
       "      <td id=\"T_68fe5_row7_col1\" class=\"data row7 col1\" >int64</td>\n",
       "      <td id=\"T_68fe5_row7_col2\" class=\"data row7 col2\" >0.0%</td>\n",
       "      <td id=\"T_68fe5_row7_col3\" class=\"data row7 col3\" >64.4%</td>\n",
       "      <td id=\"T_68fe5_row7_col4\" class=\"data row7 col4\" >1309</td>\n",
       "      <td id=\"T_68fe5_row7_col5\" class=\"data row7 col5\" >2</td>\n",
       "      <td id=\"T_68fe5_row7_col6\" class=\"data row7 col6\" >[1, 0]</td>\n",
       "    </tr>\n",
       "    <tr>\n",
       "      <th id=\"T_68fe5_level0_row8\" class=\"row_heading level0 row8\" >8</th>\n",
       "      <td id=\"T_68fe5_row8_col0\" class=\"data row8 col0\" >embarked</td>\n",
       "      <td id=\"T_68fe5_row8_col1\" class=\"data row8 col1\" >int64</td>\n",
       "      <td id=\"T_68fe5_row8_col2\" class=\"data row8 col2\" >0.0%</td>\n",
       "      <td id=\"T_68fe5_row8_col3\" class=\"data row8 col3\" >69.8%</td>\n",
       "      <td id=\"T_68fe5_row8_col4\" class=\"data row8 col4\" >1309</td>\n",
       "      <td id=\"T_68fe5_row8_col5\" class=\"data row8 col5\" >4</td>\n",
       "      <td id=\"T_68fe5_row8_col6\" class=\"data row8 col6\" >[3, 1, 2, 0]</td>\n",
       "    </tr>\n",
       "  </tbody>\n",
       "</table>\n"
      ],
      "text/plain": [
       "<pandas.io.formats.style.Styler at 0x7fe2677b1c30>"
      ]
     },
     "execution_count": 21,
     "metadata": {},
     "output_type": "execute_result"
    }
   ],
   "source": [
    "ft.canonical_report(ft.load_persist_canonical())"
   ]
  },
  {
   "cell_type": "markdown",
   "id": "d21a9501-0f5a-4213-a50c-9d6526962e7a",
   "metadata": {},
   "source": [
    "## Model Discovery"
   ]
  },
  {
   "cell_type": "code",
   "execution_count": 22,
   "id": "7e1fb04b-4ad6-4840-8b5b-465f8af7b91e",
   "metadata": {},
   "outputs": [],
   "source": [
    "import numpy as np\n",
    "from sklearn.ensemble import GradientBoostingClassifier\n",
    "from sklearn.model_selection import train_test_split"
   ]
  },
  {
   "cell_type": "code",
   "execution_count": 23,
   "id": "35a35090-5e56-4670-99d8-5473f10cee04",
   "metadata": {},
   "outputs": [
    {
     "data": {
      "text/plain": [
       "<ds_capability.components.automl.AutoML at 0x7fe2677876a0>"
      ]
     },
     "execution_count": 23,
     "metadata": {},
     "output_type": "execute_result"
    },
    {
     "data": {
      "text/plain": [
       "<ds_capability.components.automl.AutoML at 0x7fe2677876a0>"
      ]
     },
     "execution_count": 23,
     "metadata": {},
     "output_type": "execute_result"
    }
   ],
   "source": [
    "a = AutoML.from_memory()\n",
    "\n",
    "a.set_source_uri('event://transform')\n",
    "a.add_connector_uri('label', 'event://label')\n",
    "\n",
    "tbl = a.load_source_canonical()\n",
    "label = a.load_canonical('label')"
   ]
  },
  {
   "cell_type": "code",
   "execution_count": 24,
   "id": "36824786-39fb-4ada-8e83-d43ea2c6f582",
   "metadata": {},
   "outputs": [],
   "source": [
    "X = np.asarray(tbl)\n",
    "y = np.asarray(label)\n",
    "\n",
    "X_train, X_test, y_train, y_test = train_test_split(X, y, test_size=0.1)"
   ]
  },
  {
   "cell_type": "code",
   "execution_count": 25,
   "id": "703d5c4b-b7fb-45dc-8fca-2badee48818d",
   "metadata": {},
   "outputs": [
    {
     "data": {
      "text/html": [
       "<style>#sk-container-id-1 {color: black;background-color: white;}#sk-container-id-1 pre{padding: 0;}#sk-container-id-1 div.sk-toggleable {background-color: white;}#sk-container-id-1 label.sk-toggleable__label {cursor: pointer;display: block;width: 100%;margin-bottom: 0;padding: 0.3em;box-sizing: border-box;text-align: center;}#sk-container-id-1 label.sk-toggleable__label-arrow:before {content: \"▸\";float: left;margin-right: 0.25em;color: #696969;}#sk-container-id-1 label.sk-toggleable__label-arrow:hover:before {color: black;}#sk-container-id-1 div.sk-estimator:hover label.sk-toggleable__label-arrow:before {color: black;}#sk-container-id-1 div.sk-toggleable__content {max-height: 0;max-width: 0;overflow: hidden;text-align: left;background-color: #f0f8ff;}#sk-container-id-1 div.sk-toggleable__content pre {margin: 0.2em;color: black;border-radius: 0.25em;background-color: #f0f8ff;}#sk-container-id-1 input.sk-toggleable__control:checked~div.sk-toggleable__content {max-height: 200px;max-width: 100%;overflow: auto;}#sk-container-id-1 input.sk-toggleable__control:checked~label.sk-toggleable__label-arrow:before {content: \"▾\";}#sk-container-id-1 div.sk-estimator input.sk-toggleable__control:checked~label.sk-toggleable__label {background-color: #d4ebff;}#sk-container-id-1 div.sk-label input.sk-toggleable__control:checked~label.sk-toggleable__label {background-color: #d4ebff;}#sk-container-id-1 input.sk-hidden--visually {border: 0;clip: rect(1px 1px 1px 1px);clip: rect(1px, 1px, 1px, 1px);height: 1px;margin: -1px;overflow: hidden;padding: 0;position: absolute;width: 1px;}#sk-container-id-1 div.sk-estimator {font-family: monospace;background-color: #f0f8ff;border: 1px dotted black;border-radius: 0.25em;box-sizing: border-box;margin-bottom: 0.5em;}#sk-container-id-1 div.sk-estimator:hover {background-color: #d4ebff;}#sk-container-id-1 div.sk-parallel-item::after {content: \"\";width: 100%;border-bottom: 1px solid gray;flex-grow: 1;}#sk-container-id-1 div.sk-label:hover label.sk-toggleable__label {background-color: #d4ebff;}#sk-container-id-1 div.sk-serial::before {content: \"\";position: absolute;border-left: 1px solid gray;box-sizing: border-box;top: 0;bottom: 0;left: 50%;z-index: 0;}#sk-container-id-1 div.sk-serial {display: flex;flex-direction: column;align-items: center;background-color: white;padding-right: 0.2em;padding-left: 0.2em;position: relative;}#sk-container-id-1 div.sk-item {position: relative;z-index: 1;}#sk-container-id-1 div.sk-parallel {display: flex;align-items: stretch;justify-content: center;background-color: white;position: relative;}#sk-container-id-1 div.sk-item::before, #sk-container-id-1 div.sk-parallel-item::before {content: \"\";position: absolute;border-left: 1px solid gray;box-sizing: border-box;top: 0;bottom: 0;left: 50%;z-index: -1;}#sk-container-id-1 div.sk-parallel-item {display: flex;flex-direction: column;z-index: 1;position: relative;background-color: white;}#sk-container-id-1 div.sk-parallel-item:first-child::after {align-self: flex-end;width: 50%;}#sk-container-id-1 div.sk-parallel-item:last-child::after {align-self: flex-start;width: 50%;}#sk-container-id-1 div.sk-parallel-item:only-child::after {width: 0;}#sk-container-id-1 div.sk-dashed-wrapped {border: 1px dashed gray;margin: 0 0.4em 0.5em 0.4em;box-sizing: border-box;padding-bottom: 0.4em;background-color: white;}#sk-container-id-1 div.sk-label label {font-family: monospace;font-weight: bold;display: inline-block;line-height: 1.2em;}#sk-container-id-1 div.sk-label-container {text-align: center;}#sk-container-id-1 div.sk-container {/* jupyter's `normalize.less` sets `[hidden] { display: none; }` but bootstrap.min.css set `[hidden] { display: none !important; }` so we also need the `!important` here to be able to override the default hidden behavior on the sphinx rendered scikit-learn.org. See: https://github.com/scikit-learn/scikit-learn/issues/21755 */display: inline-block !important;position: relative;}#sk-container-id-1 div.sk-text-repr-fallback {display: none;}</style><div id=\"sk-container-id-1\" class=\"sk-top-container\"><div class=\"sk-text-repr-fallback\"><pre>GradientBoostingClassifier()</pre><b>In a Jupyter environment, please rerun this cell to show the HTML representation or trust the notebook. <br />On GitHub, the HTML representation is unable to render, please try loading this page with nbviewer.org.</b></div><div class=\"sk-container\" hidden><div class=\"sk-item\"><div class=\"sk-estimator sk-toggleable\"><input class=\"sk-toggleable__control sk-hidden--visually\" id=\"sk-estimator-id-1\" type=\"checkbox\" checked><label for=\"sk-estimator-id-1\" class=\"sk-toggleable__label sk-toggleable__label-arrow\">GradientBoostingClassifier</label><div class=\"sk-toggleable__content\"><pre>GradientBoostingClassifier()</pre></div></div></div></div></div>"
      ],
      "text/plain": [
       "GradientBoostingClassifier()"
      ]
     },
     "execution_count": 25,
     "metadata": {},
     "output_type": "execute_result"
    }
   ],
   "source": [
    "model = GradientBoostingClassifier()\n",
    "\n",
    "model.fit(X_train, y_train)"
   ]
  },
  {
   "cell_type": "markdown",
   "id": "fc7b889e-2b8d-4002-b7dc-42df823a1be8",
   "metadata": {},
   "source": [
    "## Classifier Predict"
   ]
  },
  {
   "cell_type": "code",
   "execution_count": 26,
   "id": "dad9d0b3-0424-4b55-a480-6f31485b71b4",
   "metadata": {},
   "outputs": [
    {
     "data": {
      "text/plain": [
       "<ds_capability.components.automl.AutoML at 0x7fe267ab5600>"
      ]
     },
     "execution_count": 26,
     "metadata": {},
     "output_type": "execute_result"
    },
    {
     "data": {
      "text/plain": [
       "<ds_capability.components.automl.AutoML at 0x7fe267ab5600>"
      ]
     },
     "execution_count": 26,
     "metadata": {},
     "output_type": "execute_result"
    }
   ],
   "source": [
    "aml = AutoML.from_env('survived', has_contract=False)\n",
    "\n",
    "# reset the connectors\n",
    "aml.set_source_uri('event://transform')\n",
    "# aml.set_persist_uri('event://predict')\n",
    "aml.set_persist_uri('${HADRON_PREDICT_PERSIST_DATA}')\n",
    "\n",
    "tbl = aml.load_source_canonical()"
   ]
  },
  {
   "cell_type": "code",
   "execution_count": 27,
   "id": "ebdeb673-12b4-4ae7-8edf-3bc9803907d3",
   "metadata": {},
   "outputs": [],
   "source": [
    "aml.add_trained_model(model_name='GradientBoost', trained_model=model)"
   ]
  },
  {
   "cell_type": "code",
   "execution_count": 28,
   "id": "d91a0c76-3d62-41d9-8c04-f8c9eaa1c312",
   "metadata": {},
   "outputs": [],
   "source": [
    "predict = aml.tools.label_predict(tbl, model_name='GradientBoost')"
   ]
  },
  {
   "cell_type": "code",
   "execution_count": 29,
   "id": "7a809afe-affc-4b47-b089-952ffb3a784b",
   "metadata": {},
   "outputs": [],
   "source": [
    "aml.run_component_pipeline()"
   ]
  },
  {
   "cell_type": "markdown",
   "id": "41745060-8a1a-4ae2-9adb-34e82b37cd05",
   "metadata": {},
   "source": [
    "## Controller"
   ]
  },
  {
   "cell_type": "code",
   "execution_count": 30,
   "id": "d9ce4f3f-630c-4618-b490-b42b6c171120",
   "metadata": {},
   "outputs": [],
   "source": [
    "ctrl = Controller.from_env(has_contract=False)"
   ]
  },
  {
   "cell_type": "code",
   "execution_count": 31,
   "id": "ae2eac2b-41a5-410c-bcdb-96f8eb2f2cdb",
   "metadata": {},
   "outputs": [
    {
     "data": {
      "text/plain": [
       "(1309, 8)"
      ]
     },
     "execution_count": 31,
     "metadata": {},
     "output_type": "execute_result"
    },
    {
     "data": {
      "text/plain": [
       "(1309, 9)"
      ]
     },
     "execution_count": 31,
     "metadata": {},
     "output_type": "execute_result"
    },
    {
     "data": {
      "text/plain": [
       "(1309, 9)"
      ]
     },
     "execution_count": 31,
     "metadata": {},
     "output_type": "execute_result"
    },
    {
     "data": {
      "text/plain": [
       "(1309, 1)"
      ]
     },
     "execution_count": 31,
     "metadata": {},
     "output_type": "execute_result"
    }
   ],
   "source": [
    "ctrl.register.feature_select('survived')\n",
    "ctrl.register.feature_engineer('survived')\n",
    "ctrl.register.feature_transform('survived')\n",
    "ctrl.register.automl('survived')"
   ]
  },
  {
   "cell_type": "code",
   "execution_count": 32,
   "id": "180a3ce6-9e60-4579-aed5-4a89f7b1d2da",
   "metadata": {},
   "outputs": [],
   "source": [
    "ctrl.run_controller()"
   ]
  },
  {
   "cell_type": "markdown",
   "id": "b3865e3d-b60e-4ceb-b1f2-008e83c81c40",
   "metadata": {},
   "source": [
    "### Review Run"
   ]
  },
  {
   "cell_type": "code",
   "execution_count": 33,
   "id": "523b16da-64ee-4cca-8e02-18cb4125f0c4",
   "metadata": {},
   "outputs": [
    {
     "data": {
      "text/plain": [
       "(1309, 1)"
      ]
     },
     "execution_count": 33,
     "metadata": {},
     "output_type": "execute_result"
    },
    {
     "data": {
      "text/plain": [
       "pyarrow.Table\n",
       "predict: int64\n",
       "----\n",
       "predict: [[1,0,1,0,1,...,0,0,0,0,0]]"
      ]
     },
     "execution_count": 33,
     "metadata": {},
     "output_type": "execute_result"
    }
   ],
   "source": [
    "result = aml.load_persist_canonical()\n",
    "result.shape\n",
    "result"
   ]
  },
  {
   "cell_type": "code",
   "execution_count": null,
   "id": "c631ad07-cf7d-4834-927e-4f6847a982cf",
   "metadata": {},
   "outputs": [],
   "source": []
  }
 ],
 "metadata": {
  "kernelspec": {
   "display_name": "Python 3 (ipykernel)",
   "language": "python",
   "name": "python3"
  },
  "language_info": {
   "codemirror_mode": {
    "name": "ipython",
    "version": 3
   },
   "file_extension": ".py",
   "mimetype": "text/x-python",
   "name": "python",
   "nbconvert_exporter": "python",
   "pygments_lexer": "ipython3",
   "version": "3.10.12"
  }
 },
 "nbformat": 4,
 "nbformat_minor": 5
}
