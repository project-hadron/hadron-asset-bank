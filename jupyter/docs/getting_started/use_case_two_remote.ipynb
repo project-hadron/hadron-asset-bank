{
 "cells": [
  {
   "cell_type": "code",
   "execution_count": 1,
   "id": "e27c6acc-4124-4a54-b5c0-6a0e52e6c27f",
   "metadata": {},
   "outputs": [],
   "source": [
    "# saves you having to use print as all exposed variables are printed in the cell\n",
    "from IPython.core.interactiveshell import InteractiveShell\n",
    "InteractiveShell.ast_node_interactivity = \"all\""
   ]
  },
  {
   "cell_type": "code",
   "execution_count": 2,
   "id": "e8b05cab-9e03-472d-9735-51a1151b484d",
   "metadata": {},
   "outputs": [],
   "source": [
    "# suppress warning message\n",
    "import warnings\n",
    "warnings.filterwarnings(\"ignore\", category=DeprecationWarning) \n",
    "warnings.filterwarnings(\"ignore\", category=FutureWarning) \n",
    "warnings.filterwarnings(\"ignore\", category=UserWarning)"
   ]
  },
  {
   "cell_type": "code",
   "execution_count": 3,
   "id": "fabaf27e-4967-4e16-8db8-243f443eb35a",
   "metadata": {},
   "outputs": [],
   "source": [
    "import os\n",
    "from ds_capability import FeatureSelect, FeatureEngineer, AutoML, Controller"
   ]
  },
  {
   "cell_type": "markdown",
   "id": "dc811ebc-81bc-4d7c-8c8e-84f56c98f65b",
   "metadata": {},
   "source": [
    "## Synthesize"
   ]
  },
  {
   "cell_type": "code",
   "execution_count": 4,
   "id": "010fc2a6-dfa5-42da-97b9-9f918921187e",
   "metadata": {},
   "outputs": [
    {
     "data": {
      "text/plain": [
       "<ds_capability.components.feature_engineer.FeatureEngineer at 0x7fb77364dae0>"
      ]
     },
     "execution_count": 4,
     "metadata": {},
     "output_type": "execute_result"
    },
    {
     "data": {
      "text/plain": [
       "<ds_capability.components.feature_engineer.FeatureEngineer at 0x7fb77364dae0>"
      ]
     },
     "execution_count": 4,
     "metadata": {},
     "output_type": "execute_result"
    }
   ],
   "source": [
    "syn_fe = FeatureEngineer.from_memory()\n",
    "syn_ds = FeatureSelect.from_memory()\n",
    "\n",
    "syn_fe.add_connector_uri('sample', 'https://raw.githubusercontent.com/project-hadron/hadron-asset-bank/master/datasets/toy_sample/churn.csv')\n",
    "\n",
    "syn_fe.set_persist_uri('./hadron/data/synthetic_churn.parquet')"
   ]
  },
  {
   "cell_type": "code",
   "execution_count": 5,
   "id": "0c0dc707-148c-4a4f-948a-ba62ef1f1004",
   "metadata": {},
   "outputs": [
    {
     "data": {
      "text/plain": [
       "(10000, 14)"
      ]
     },
     "execution_count": 5,
     "metadata": {},
     "output_type": "execute_result"
    }
   ],
   "source": [
    "tbl = syn_fe.tools.get_analysis_group(size=10_000, other='sample', group_by='Exited')\n",
    "tbl = syn_fe.tools.get_number(16_000_000, 19_999_999, at_most=1, size=10_000,\n",
    "                              relative_freq=[99, 20, 5, 1],\n",
    "                              to_header='CustomerId', canonical=tbl)\n",
    "tbl.shape"
   ]
  },
  {
   "cell_type": "code",
   "execution_count": 6,
   "id": "7b59fa76-111a-4820-91ef-3c28ddf4c437",
   "metadata": {},
   "outputs": [
    {
     "data": {
      "text/plain": [
       "(10000, 13)"
      ]
     },
     "execution_count": 6,
     "metadata": {},
     "output_type": "execute_result"
    }
   ],
   "source": [
    "tbl = syn_ds.tools.auto_drop_columns(tbl, headers=['Exited'])\n",
    "tbl.shape"
   ]
  },
  {
   "cell_type": "code",
   "execution_count": 7,
   "id": "33906755-3581-4c06-a6b3-b748c9e59387",
   "metadata": {},
   "outputs": [],
   "source": [
    "syn_fe.save_persist_canonical(tbl)"
   ]
  },
  {
   "cell_type": "code",
   "execution_count": 8,
   "id": "8d2cd418-f442-4339-b1d8-8abf6b0d610d",
   "metadata": {},
   "outputs": [
    {
     "data": {
      "text/plain": [
       "(10000, 13)"
      ]
     },
     "execution_count": 8,
     "metadata": {},
     "output_type": "execute_result"
    }
   ],
   "source": [
    "result = syn_fe.load_persist_canonical()\n",
    "result.shape"
   ]
  },
  {
   "cell_type": "markdown",
   "id": "44950ccd-3c20-452a-ad59-8b667cd0682c",
   "metadata": {},
   "source": [
    "## Remote Run"
   ]
  },
  {
   "cell_type": "code",
   "execution_count": 9,
   "id": "eb977fef-7dfc-4c8a-a26a-1f5ec2629cb3",
   "metadata": {},
   "outputs": [],
   "source": [
    "os.environ['HADRON_CHURN_SOURCE_PATH'] = './hadron/data/synthetic_churn.parquet'\n",
    "os.environ['HADRON_CHURN_PERSIST_PATH'] = './hadron/data/hadron_docs_churn_predict.parquet'\n",
    "os.environ['HADRON_PM_REPO'] = 'https://raw.githubusercontent.com/project-hadron/hadron-asset-bank/master/contracts/pyarrow/docs/use_case_two/'"
   ]
  },
  {
   "cell_type": "code",
   "execution_count": 10,
   "id": "7cc5b7ab-0290-4e9f-a614-eff8abef3739",
   "metadata": {},
   "outputs": [],
   "source": [
    "ctrl = Controller.from_env()"
   ]
  },
  {
   "cell_type": "code",
   "execution_count": 11,
   "id": "c5fbd7a5-a9e7-4254-b6e5-48ba8c8cfcd5",
   "metadata": {},
   "outputs": [],
   "source": [
    "ctrl.run_controller()"
   ]
  },
  {
   "cell_type": "markdown",
   "id": "2c94e340-6ea5-4c11-8e2d-b9b4325c69f7",
   "metadata": {},
   "source": [
    "## View Remote"
   ]
  },
  {
   "cell_type": "code",
   "execution_count": 12,
   "id": "f8b33203-f88d-421f-b17a-0e21376325a3",
   "metadata": {},
   "outputs": [
    {
     "data": {
      "text/plain": [
       "pyarrow.Table\n",
       "CustomerId: int64\n",
       "predict: int64\n",
       "----\n",
       "CustomerId: [[16098142,16106220,16486515,16036382,16788702,...,16691005,16600877,16912351,16056608,16748186]]\n",
       "predict: [[0,0,0,0,0,...,0,0,0,1,0]]"
      ]
     },
     "execution_count": 12,
     "metadata": {},
     "output_type": "execute_result"
    }
   ],
   "source": [
    "AutoML.from_env('churn').load_persist_canonical()"
   ]
  },
  {
   "cell_type": "code",
   "execution_count": null,
   "id": "08a66055-5844-4818-a292-43dd2a1e191c",
   "metadata": {},
   "outputs": [],
   "source": []
  }
 ],
 "metadata": {
  "kernelspec": {
   "display_name": "Python 3 (ipykernel)",
   "language": "python",
   "name": "python3"
  },
  "language_info": {
   "codemirror_mode": {
    "name": "ipython",
    "version": 3
   },
   "file_extension": ".py",
   "mimetype": "text/x-python",
   "name": "python",
   "nbconvert_exporter": "python",
   "pygments_lexer": "ipython3",
   "version": "3.10.12"
  }
 },
 "nbformat": 4,
 "nbformat_minor": 5
}
